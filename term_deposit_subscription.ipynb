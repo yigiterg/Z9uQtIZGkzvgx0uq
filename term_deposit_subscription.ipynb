{
  "nbformat": 4,
  "nbformat_minor": 0,
  "metadata": {
    "colab": {
      "name": "Apziva-TermDepositSubscription.ipynb",
      "provenance": [],
      "collapsed_sections": []
    },
    "kernelspec": {
      "display_name": "Python 3",
      "name": "python3"
    }
  },
  "cells": [
    {
      "cell_type": "code",
      "metadata": {
        "id": "ZWl4OZWGU6u0"
      },
      "source": [
        "import pandas as pd\n",
        "import numpy as np\n",
        "from sklearn.model_selection import train_test_split, cross_val_score\n",
        "from sklearn.preprocessing import StandardScaler\n",
        "from sklearn.linear_model import LogisticRegressionCV, LogisticRegression\n",
        "import matplotlib.pyplot as plt\n",
        "import seaborn as sns\n",
        "from sklearn import metrics"
      ],
      "execution_count": 1,
      "outputs": []
    },
    {
      "cell_type": "code",
      "metadata": {
        "colab": {
          "base_uri": "https://localhost:8080/"
        },
        "id": "FUdxBAxvTed4",
        "outputId": "ee1243d4-1a95-4712-beb4-eaacde1f50de"
      },
      "source": [
        "!gdown --id 1dsXb5b3nrv5tGSc7gFobqIeGhGrfsOkz ## Download data from drive"
      ],
      "execution_count": 2,
      "outputs": [
        {
          "output_type": "stream",
          "text": [
            "Downloading...\n",
            "From: https://drive.google.com/uc?id=1dsXb5b3nrv5tGSc7gFobqIeGhGrfsOkz\n",
            "To: /content/term-deposit-marketing-2020.csv\n",
            "\r0.00B [00:00, ?B/s]\r2.79MB [00:00, 88.2MB/s]\n"
          ],
          "name": "stdout"
        }
      ]
    },
    {
      "cell_type": "code",
      "metadata": {
        "id": "hS6DzXizVcCV"
      },
      "source": [
        "all_data = pd.read_csv('/content/term-deposit-marketing-2020.csv') # Import dataset\n",
        "y_output = all_data['y'] ## Output\n",
        "all_data = all_data.drop('y', axis = 1) ## Input\n",
        "y_output = y_output.to_frame()\n",
        "y_output = y_output.rename(columns = {\"y\": \"Subscribed\"}) ## Rename output Column"
      ],
      "execution_count": 3,
      "outputs": []
    },
    {
      "cell_type": "code",
      "metadata": {
        "colab": {
          "base_uri": "https://localhost:8080/",
          "height": 204
        },
        "id": "ZTgwd2xgVP2A",
        "outputId": "4077e0c8-4018-4289-d522-15394fa35f41"
      },
      "source": [
        "all_data.head() ## Take a peek to the data"
      ],
      "execution_count": 4,
      "outputs": [
        {
          "output_type": "execute_result",
          "data": {
            "text/html": [
              "<div>\n",
              "<style scoped>\n",
              "    .dataframe tbody tr th:only-of-type {\n",
              "        vertical-align: middle;\n",
              "    }\n",
              "\n",
              "    .dataframe tbody tr th {\n",
              "        vertical-align: top;\n",
              "    }\n",
              "\n",
              "    .dataframe thead th {\n",
              "        text-align: right;\n",
              "    }\n",
              "</style>\n",
              "<table border=\"1\" class=\"dataframe\">\n",
              "  <thead>\n",
              "    <tr style=\"text-align: right;\">\n",
              "      <th></th>\n",
              "      <th>age</th>\n",
              "      <th>job</th>\n",
              "      <th>marital</th>\n",
              "      <th>education</th>\n",
              "      <th>default</th>\n",
              "      <th>balance</th>\n",
              "      <th>housing</th>\n",
              "      <th>loan</th>\n",
              "      <th>contact</th>\n",
              "      <th>day</th>\n",
              "      <th>month</th>\n",
              "      <th>duration</th>\n",
              "      <th>campaign</th>\n",
              "    </tr>\n",
              "  </thead>\n",
              "  <tbody>\n",
              "    <tr>\n",
              "      <th>0</th>\n",
              "      <td>58</td>\n",
              "      <td>management</td>\n",
              "      <td>married</td>\n",
              "      <td>tertiary</td>\n",
              "      <td>no</td>\n",
              "      <td>2143</td>\n",
              "      <td>yes</td>\n",
              "      <td>no</td>\n",
              "      <td>unknown</td>\n",
              "      <td>5</td>\n",
              "      <td>may</td>\n",
              "      <td>261</td>\n",
              "      <td>1</td>\n",
              "    </tr>\n",
              "    <tr>\n",
              "      <th>1</th>\n",
              "      <td>44</td>\n",
              "      <td>technician</td>\n",
              "      <td>single</td>\n",
              "      <td>secondary</td>\n",
              "      <td>no</td>\n",
              "      <td>29</td>\n",
              "      <td>yes</td>\n",
              "      <td>no</td>\n",
              "      <td>unknown</td>\n",
              "      <td>5</td>\n",
              "      <td>may</td>\n",
              "      <td>151</td>\n",
              "      <td>1</td>\n",
              "    </tr>\n",
              "    <tr>\n",
              "      <th>2</th>\n",
              "      <td>33</td>\n",
              "      <td>entrepreneur</td>\n",
              "      <td>married</td>\n",
              "      <td>secondary</td>\n",
              "      <td>no</td>\n",
              "      <td>2</td>\n",
              "      <td>yes</td>\n",
              "      <td>yes</td>\n",
              "      <td>unknown</td>\n",
              "      <td>5</td>\n",
              "      <td>may</td>\n",
              "      <td>76</td>\n",
              "      <td>1</td>\n",
              "    </tr>\n",
              "    <tr>\n",
              "      <th>3</th>\n",
              "      <td>47</td>\n",
              "      <td>blue-collar</td>\n",
              "      <td>married</td>\n",
              "      <td>unknown</td>\n",
              "      <td>no</td>\n",
              "      <td>1506</td>\n",
              "      <td>yes</td>\n",
              "      <td>no</td>\n",
              "      <td>unknown</td>\n",
              "      <td>5</td>\n",
              "      <td>may</td>\n",
              "      <td>92</td>\n",
              "      <td>1</td>\n",
              "    </tr>\n",
              "    <tr>\n",
              "      <th>4</th>\n",
              "      <td>33</td>\n",
              "      <td>unknown</td>\n",
              "      <td>single</td>\n",
              "      <td>unknown</td>\n",
              "      <td>no</td>\n",
              "      <td>1</td>\n",
              "      <td>no</td>\n",
              "      <td>no</td>\n",
              "      <td>unknown</td>\n",
              "      <td>5</td>\n",
              "      <td>may</td>\n",
              "      <td>198</td>\n",
              "      <td>1</td>\n",
              "    </tr>\n",
              "  </tbody>\n",
              "</table>\n",
              "</div>"
            ],
            "text/plain": [
              "   age           job  marital  education  ... day  month duration campaign\n",
              "0   58    management  married   tertiary  ...   5    may      261        1\n",
              "1   44    technician   single  secondary  ...   5    may      151        1\n",
              "2   33  entrepreneur  married  secondary  ...   5    may       76        1\n",
              "3   47   blue-collar  married    unknown  ...   5    may       92        1\n",
              "4   33       unknown   single    unknown  ...   5    may      198        1\n",
              "\n",
              "[5 rows x 13 columns]"
            ]
          },
          "metadata": {
            "tags": []
          },
          "execution_count": 4
        }
      ]
    },
    {
      "cell_type": "code",
      "metadata": {
        "colab": {
          "base_uri": "https://localhost:8080/",
          "height": 419
        },
        "id": "iJ8p1_TYVRVU",
        "outputId": "f95ebe7c-112a-4821-a3b8-a09840cc85c7"
      },
      "source": [
        "# Convert categorical output to binary output\n",
        "y_binary = pd.get_dummies(y_output[\"Subscribed\"])  \n",
        "y_binary = y_binary.drop(columns=\"no\", axis = 1) ## Drop no categorical value and use yes categorical value.\n",
        "y_binary = y_binary.rename(columns={\"yes\" : \"Subscribed\"}) ## Rename it so that we can easily understand 0 means Not subscribed 1 means subscribed\n",
        "y_output = y_binary\n",
        "y_output"
      ],
      "execution_count": 5,
      "outputs": [
        {
          "output_type": "execute_result",
          "data": {
            "text/html": [
              "<div>\n",
              "<style scoped>\n",
              "    .dataframe tbody tr th:only-of-type {\n",
              "        vertical-align: middle;\n",
              "    }\n",
              "\n",
              "    .dataframe tbody tr th {\n",
              "        vertical-align: top;\n",
              "    }\n",
              "\n",
              "    .dataframe thead th {\n",
              "        text-align: right;\n",
              "    }\n",
              "</style>\n",
              "<table border=\"1\" class=\"dataframe\">\n",
              "  <thead>\n",
              "    <tr style=\"text-align: right;\">\n",
              "      <th></th>\n",
              "      <th>Subscribed</th>\n",
              "    </tr>\n",
              "  </thead>\n",
              "  <tbody>\n",
              "    <tr>\n",
              "      <th>0</th>\n",
              "      <td>0</td>\n",
              "    </tr>\n",
              "    <tr>\n",
              "      <th>1</th>\n",
              "      <td>0</td>\n",
              "    </tr>\n",
              "    <tr>\n",
              "      <th>2</th>\n",
              "      <td>0</td>\n",
              "    </tr>\n",
              "    <tr>\n",
              "      <th>3</th>\n",
              "      <td>0</td>\n",
              "    </tr>\n",
              "    <tr>\n",
              "      <th>4</th>\n",
              "      <td>0</td>\n",
              "    </tr>\n",
              "    <tr>\n",
              "      <th>...</th>\n",
              "      <td>...</td>\n",
              "    </tr>\n",
              "    <tr>\n",
              "      <th>39995</th>\n",
              "      <td>0</td>\n",
              "    </tr>\n",
              "    <tr>\n",
              "      <th>39996</th>\n",
              "      <td>1</td>\n",
              "    </tr>\n",
              "    <tr>\n",
              "      <th>39997</th>\n",
              "      <td>1</td>\n",
              "    </tr>\n",
              "    <tr>\n",
              "      <th>39998</th>\n",
              "      <td>0</td>\n",
              "    </tr>\n",
              "    <tr>\n",
              "      <th>39999</th>\n",
              "      <td>0</td>\n",
              "    </tr>\n",
              "  </tbody>\n",
              "</table>\n",
              "<p>40000 rows × 1 columns</p>\n",
              "</div>"
            ],
            "text/plain": [
              "       Subscribed\n",
              "0               0\n",
              "1               0\n",
              "2               0\n",
              "3               0\n",
              "4               0\n",
              "...           ...\n",
              "39995           0\n",
              "39996           1\n",
              "39997           1\n",
              "39998           0\n",
              "39999           0\n",
              "\n",
              "[40000 rows x 1 columns]"
            ]
          },
          "metadata": {
            "tags": []
          },
          "execution_count": 5
        }
      ]
    },
    {
      "cell_type": "code",
      "metadata": {
        "colab": {
          "base_uri": "https://localhost:8080/",
          "height": 204
        },
        "id": "BIcwrnnkj0Xr",
        "outputId": "56313e03-095a-4afe-fdea-2e78ae1e1ee0"
      },
      "source": [
        "df = pd.read_csv('/content/term-deposit-marketing-2020.csv') ## Compare feature dataframe\n",
        "df = df.drop(['y'], axis = 1)\n",
        "df['Subscribed'] = y_binary\n",
        "df.head()"
      ],
      "execution_count": 6,
      "outputs": [
        {
          "output_type": "execute_result",
          "data": {
            "text/html": [
              "<div>\n",
              "<style scoped>\n",
              "    .dataframe tbody tr th:only-of-type {\n",
              "        vertical-align: middle;\n",
              "    }\n",
              "\n",
              "    .dataframe tbody tr th {\n",
              "        vertical-align: top;\n",
              "    }\n",
              "\n",
              "    .dataframe thead th {\n",
              "        text-align: right;\n",
              "    }\n",
              "</style>\n",
              "<table border=\"1\" class=\"dataframe\">\n",
              "  <thead>\n",
              "    <tr style=\"text-align: right;\">\n",
              "      <th></th>\n",
              "      <th>age</th>\n",
              "      <th>job</th>\n",
              "      <th>marital</th>\n",
              "      <th>education</th>\n",
              "      <th>default</th>\n",
              "      <th>balance</th>\n",
              "      <th>housing</th>\n",
              "      <th>loan</th>\n",
              "      <th>contact</th>\n",
              "      <th>day</th>\n",
              "      <th>month</th>\n",
              "      <th>duration</th>\n",
              "      <th>campaign</th>\n",
              "      <th>Subscribed</th>\n",
              "    </tr>\n",
              "  </thead>\n",
              "  <tbody>\n",
              "    <tr>\n",
              "      <th>0</th>\n",
              "      <td>58</td>\n",
              "      <td>management</td>\n",
              "      <td>married</td>\n",
              "      <td>tertiary</td>\n",
              "      <td>no</td>\n",
              "      <td>2143</td>\n",
              "      <td>yes</td>\n",
              "      <td>no</td>\n",
              "      <td>unknown</td>\n",
              "      <td>5</td>\n",
              "      <td>may</td>\n",
              "      <td>261</td>\n",
              "      <td>1</td>\n",
              "      <td>0</td>\n",
              "    </tr>\n",
              "    <tr>\n",
              "      <th>1</th>\n",
              "      <td>44</td>\n",
              "      <td>technician</td>\n",
              "      <td>single</td>\n",
              "      <td>secondary</td>\n",
              "      <td>no</td>\n",
              "      <td>29</td>\n",
              "      <td>yes</td>\n",
              "      <td>no</td>\n",
              "      <td>unknown</td>\n",
              "      <td>5</td>\n",
              "      <td>may</td>\n",
              "      <td>151</td>\n",
              "      <td>1</td>\n",
              "      <td>0</td>\n",
              "    </tr>\n",
              "    <tr>\n",
              "      <th>2</th>\n",
              "      <td>33</td>\n",
              "      <td>entrepreneur</td>\n",
              "      <td>married</td>\n",
              "      <td>secondary</td>\n",
              "      <td>no</td>\n",
              "      <td>2</td>\n",
              "      <td>yes</td>\n",
              "      <td>yes</td>\n",
              "      <td>unknown</td>\n",
              "      <td>5</td>\n",
              "      <td>may</td>\n",
              "      <td>76</td>\n",
              "      <td>1</td>\n",
              "      <td>0</td>\n",
              "    </tr>\n",
              "    <tr>\n",
              "      <th>3</th>\n",
              "      <td>47</td>\n",
              "      <td>blue-collar</td>\n",
              "      <td>married</td>\n",
              "      <td>unknown</td>\n",
              "      <td>no</td>\n",
              "      <td>1506</td>\n",
              "      <td>yes</td>\n",
              "      <td>no</td>\n",
              "      <td>unknown</td>\n",
              "      <td>5</td>\n",
              "      <td>may</td>\n",
              "      <td>92</td>\n",
              "      <td>1</td>\n",
              "      <td>0</td>\n",
              "    </tr>\n",
              "    <tr>\n",
              "      <th>4</th>\n",
              "      <td>33</td>\n",
              "      <td>unknown</td>\n",
              "      <td>single</td>\n",
              "      <td>unknown</td>\n",
              "      <td>no</td>\n",
              "      <td>1</td>\n",
              "      <td>no</td>\n",
              "      <td>no</td>\n",
              "      <td>unknown</td>\n",
              "      <td>5</td>\n",
              "      <td>may</td>\n",
              "      <td>198</td>\n",
              "      <td>1</td>\n",
              "      <td>0</td>\n",
              "    </tr>\n",
              "  </tbody>\n",
              "</table>\n",
              "</div>"
            ],
            "text/plain": [
              "   age           job  marital  education  ... month  duration campaign Subscribed\n",
              "0   58    management  married   tertiary  ...   may       261        1          0\n",
              "1   44    technician   single  secondary  ...   may       151        1          0\n",
              "2   33  entrepreneur  married  secondary  ...   may        76        1          0\n",
              "3   47   blue-collar  married    unknown  ...   may        92        1          0\n",
              "4   33       unknown   single    unknown  ...   may       198        1          0\n",
              "\n",
              "[5 rows x 14 columns]"
            ]
          },
          "metadata": {
            "tags": []
          },
          "execution_count": 6
        }
      ]
    },
    {
      "cell_type": "markdown",
      "metadata": {
        "id": "XLIL2R_KbplC"
      },
      "source": [
        "# Feature Selection "
      ]
    },
    {
      "cell_type": "code",
      "metadata": {
        "colab": {
          "base_uri": "https://localhost:8080/"
        },
        "id": "sKZIXxDDi2yZ",
        "outputId": "2f6ded9c-1496-4b6a-9b1b-9f2ef4abb145"
      },
      "source": [
        "df.groupby('marital')['Subscribed'].value_counts(normalize = True) * 100 ## Percentage of customers whose subscribed or not, considering their marriage status"
      ],
      "execution_count": 7,
      "outputs": [
        {
          "output_type": "execute_result",
          "data": {
            "text/plain": [
              "marital   Subscribed\n",
              "divorced  0             91.724868\n",
              "          1              8.275132\n",
              "married   0             93.939145\n",
              "          1              6.060855\n",
              "single    0             90.568464\n",
              "          1              9.431536\n",
              "Name: Subscribed, dtype: float64"
            ]
          },
          "metadata": {
            "tags": []
          },
          "execution_count": 7
        }
      ]
    },
    {
      "cell_type": "code",
      "metadata": {
        "colab": {
          "base_uri": "https://localhost:8080/"
        },
        "id": "uXBP6xGvkI6l",
        "outputId": "e3803589-9ae0-4f16-f9db-6ac5bc0d8525"
      },
      "source": [
        "df['marital'].isnull().values.any() ## Check if any NaN value"
      ],
      "execution_count": 8,
      "outputs": [
        {
          "output_type": "execute_result",
          "data": {
            "text/plain": [
              "False"
            ]
          },
          "metadata": {
            "tags": []
          },
          "execution_count": 8
        }
      ]
    },
    {
      "cell_type": "code",
      "metadata": {
        "colab": {
          "base_uri": "https://localhost:8080/"
        },
        "id": "AJntP1NKknyb",
        "outputId": "f38873b8-dc2a-4fd8-ed5e-a37dd9e4910a"
      },
      "source": [
        "df.groupby('housing')['Subscribed'].value_counts(normalize = True) * 100 ## Percentage of customers whose subscribed or not, considering their housing status"
      ],
      "execution_count": 9,
      "outputs": [
        {
          "output_type": "execute_result",
          "data": {
            "text/plain": [
              "housing  Subscribed\n",
              "no       0             91.032626\n",
              "         1              8.967374\n",
              "yes      0             93.907869\n",
              "         1              6.092131\n",
              "Name: Subscribed, dtype: float64"
            ]
          },
          "metadata": {
            "tags": []
          },
          "execution_count": 9
        }
      ]
    },
    {
      "cell_type": "code",
      "metadata": {
        "colab": {
          "base_uri": "https://localhost:8080/"
        },
        "id": "W2-oFS07pUU0",
        "outputId": "7a532193-1774-43ff-8204-4537341b39fd"
      },
      "source": [
        "df['housing'].isnull().values.any() ## Check if any NaN value"
      ],
      "execution_count": 10,
      "outputs": [
        {
          "output_type": "execute_result",
          "data": {
            "text/plain": [
              "False"
            ]
          },
          "metadata": {
            "tags": []
          },
          "execution_count": 10
        }
      ]
    },
    {
      "cell_type": "code",
      "metadata": {
        "colab": {
          "base_uri": "https://localhost:8080/"
        },
        "id": "ki0X52uVlRol",
        "outputId": "5698ed01-2efb-4c7d-ef69-1339ce1dbb04"
      },
      "source": [
        "df.groupby('loan')['Subscribed'].value_counts(normalize = True) * 100 ## Percentage of customers whose subscribed or not, considering their loan status"
      ],
      "execution_count": 11,
      "outputs": [
        {
          "output_type": "execute_result",
          "data": {
            "text/plain": [
              "loan  Subscribed\n",
              "no    0             92.391896\n",
              "      1              7.608104\n",
              "yes   0             94.516595\n",
              "      1              5.483405\n",
              "Name: Subscribed, dtype: float64"
            ]
          },
          "metadata": {
            "tags": []
          },
          "execution_count": 11
        }
      ]
    },
    {
      "cell_type": "code",
      "metadata": {
        "colab": {
          "base_uri": "https://localhost:8080/"
        },
        "id": "FxaVZXyOpYi7",
        "outputId": "307eea2b-e896-4fb3-c4c9-7b9a44bb55dc"
      },
      "source": [
        "df['loan'].isnull().values.any() ## Check if any NaN value"
      ],
      "execution_count": 12,
      "outputs": [
        {
          "output_type": "execute_result",
          "data": {
            "text/plain": [
              "False"
            ]
          },
          "metadata": {
            "tags": []
          },
          "execution_count": 12
        }
      ]
    },
    {
      "cell_type": "code",
      "metadata": {
        "colab": {
          "base_uri": "https://localhost:8080/"
        },
        "id": "ZMhc-gDRnFKz",
        "outputId": "17e30dc9-3543-4906-cabf-636536881aa3"
      },
      "source": [
        "df.groupby('contact')['Subscribed'].value_counts(normalize = True) * 100 ## Percentage of customers whose subscribed or not, considering their contact status"
      ],
      "execution_count": 13,
      "outputs": [
        {
          "output_type": "execute_result",
          "data": {
            "text/plain": [
              "contact    Subscribed\n",
              "cellular   0             91.037168\n",
              "           1              8.962832\n",
              "telephone  0             92.847910\n",
              "           1              7.152090\n",
              "unknown    0             96.106541\n",
              "           1              3.893459\n",
              "Name: Subscribed, dtype: float64"
            ]
          },
          "metadata": {
            "tags": []
          },
          "execution_count": 13
        }
      ]
    },
    {
      "cell_type": "code",
      "metadata": {
        "colab": {
          "base_uri": "https://localhost:8080/"
        },
        "id": "bwRUVMfUnMz_",
        "outputId": "5fc84a96-18b8-4aeb-fbe9-a845d982c7bb"
      },
      "source": [
        "df.groupby('job')['Subscribed'].value_counts(normalize = True) * 100 ## Percentage of customers whose subscribed or not, considering their job"
      ],
      "execution_count": 14,
      "outputs": [
        {
          "output_type": "execute_result",
          "data": {
            "text/plain": [
              "job            Subscribed\n",
              "admin          0             92.170422\n",
              "               1              7.829578\n",
              "blue-collar    0             94.298199\n",
              "               1              5.701801\n",
              "entrepreneur   0             93.736655\n",
              "               1              6.263345\n",
              "housemaid      0             95.124195\n",
              "               1              4.875805\n",
              "management     0             91.721773\n",
              "               1              8.278227\n",
              "retired        0             89.491997\n",
              "               1             10.508003\n",
              "self-employed  0             92.079208\n",
              "               1              7.920792\n",
              "services       0             93.913043\n",
              "               1              6.086957\n",
              "student        0             84.351145\n",
              "               1             15.648855\n",
              "technician     0             92.746643\n",
              "               1              7.253357\n",
              "unemployed     0             91.304348\n",
              "               1              8.695652\n",
              "unknown        0             92.765957\n",
              "               1              7.234043\n",
              "Name: Subscribed, dtype: float64"
            ]
          },
          "metadata": {
            "tags": []
          },
          "execution_count": 14
        }
      ]
    },
    {
      "cell_type": "code",
      "metadata": {
        "colab": {
          "base_uri": "https://localhost:8080/"
        },
        "id": "VIFH24m3ojBj",
        "outputId": "9089c621-53a2-45bd-e597-ec197fbdaa56"
      },
      "source": [
        "df.groupby('default')['Subscribed'].value_counts(normalize = True) * 100 ## Percentage of customers whose subscribed or not, considering their default status"
      ],
      "execution_count": 15,
      "outputs": [
        {
          "output_type": "execute_result",
          "data": {
            "text/plain": [
              "default  Subscribed\n",
              "no       0             92.735577\n",
              "         1              7.264423\n",
              "yes      0             93.943140\n",
              "         1              6.056860\n",
              "Name: Subscribed, dtype: float64"
            ]
          },
          "metadata": {
            "tags": []
          },
          "execution_count": 15
        }
      ]
    },
    {
      "cell_type": "code",
      "metadata": {
        "colab": {
          "base_uri": "https://localhost:8080/"
        },
        "id": "PMB3nnGypM_q",
        "outputId": "b74c4936-6def-450e-8b14-f8198944dae4"
      },
      "source": [
        "df.groupby(['education', 'marital'])['Subscribed'].value_counts(normalize = True) * 100 ## Percentage of customers whose subscribed or not, considering their education-marital status"
      ],
      "execution_count": 16,
      "outputs": [
        {
          "output_type": "execute_result",
          "data": {
            "text/plain": [
              "education  marital   Subscribed\n",
              "primary    divorced  0             90.644172\n",
              "                     1              9.355828\n",
              "           married   0             95.244003\n",
              "                     1              4.755997\n",
              "           single    0             92.071611\n",
              "                     1              7.928389\n",
              "secondary  divorced  0             92.501913\n",
              "                     1              7.498087\n",
              "           married   0             94.171975\n",
              "                     1              5.828025\n",
              "           single    0             91.579309\n",
              "                     1              8.420691\n",
              "tertiary   divorced  0             90.660592\n",
              "                     1              9.339408\n",
              "           married   0             92.382064\n",
              "                     1              7.617936\n",
              "           single    0             88.457584\n",
              "                     1             11.542416\n",
              "unknown    divorced  0             92.253521\n",
              "                     1              7.746479\n",
              "           married   0             94.046418\n",
              "                     1              5.953582\n",
              "           single    0             93.467337\n",
              "                     1              6.532663\n",
              "Name: Subscribed, dtype: float64"
            ]
          },
          "metadata": {
            "tags": []
          },
          "execution_count": 16
        }
      ]
    },
    {
      "cell_type": "code",
      "metadata": {
        "colab": {
          "base_uri": "https://localhost:8080/"
        },
        "id": "ERRf3gocpvGl",
        "outputId": "432ba028-da18-4f63-cb37-d1bb50060287"
      },
      "source": [
        "df.groupby(['month'])['Subscribed'].value_counts(normalize = True) * 100 ## Percentage of customers whose subscribed or not, considering  month "
      ],
      "execution_count": 17,
      "outputs": [
        {
          "output_type": "execute_result",
          "data": {
            "text/plain": [
              "month  Subscribed\n",
              "apr    0             83.406917\n",
              "       1             16.593083\n",
              "aug    0             94.477469\n",
              "       1              5.522531\n",
              "dec    0             92.307692\n",
              "       1              7.692308\n",
              "feb    0             88.893728\n",
              "       1             11.106272\n",
              "jan    0             96.768707\n",
              "       1              3.231293\n",
              "jul    0             93.981191\n",
              "       1              6.018809\n",
              "jun    0             93.789607\n",
              "       1              6.210393\n",
              "mar    0             51.550388\n",
              "       1             48.449612\n",
              "may    0             94.154597\n",
              "       1              5.845403\n",
              "nov    0             93.885492\n",
              "       1              6.114508\n",
              "oct    1             61.250000\n",
              "       0             38.750000\n",
              "Name: Subscribed, dtype: float64"
            ]
          },
          "metadata": {
            "tags": []
          },
          "execution_count": 17
        }
      ]
    },
    {
      "cell_type": "code",
      "metadata": {
        "colab": {
          "base_uri": "https://localhost:8080/"
        },
        "id": "gL76IaOhrPE-",
        "outputId": "d58ce85f-9a98-4c45-8315-7b628db1652f"
      },
      "source": [
        "df.groupby(['day'])['Subscribed'].value_counts(normalize = True) * 100 ## Percentage of customers whose subscribed or not, considering day "
      ],
      "execution_count": 18,
      "outputs": [
        {
          "output_type": "execute_result",
          "data": {
            "text/plain": [
              "day  Subscribed\n",
              "1    0             77.272727\n",
              "     1             22.727273\n",
              "2    0             90.622182\n",
              "     1              9.377818\n",
              "3    0             90.846682\n",
              "                     ...    \n",
              "29   1              3.062500\n",
              "30   0             84.625944\n",
              "     1             15.374056\n",
              "31   0             95.600677\n",
              "     1              4.399323\n",
              "Name: Subscribed, Length: 62, dtype: float64"
            ]
          },
          "metadata": {
            "tags": []
          },
          "execution_count": 18
        }
      ]
    },
    {
      "cell_type": "code",
      "metadata": {
        "colab": {
          "base_uri": "https://localhost:8080/"
        },
        "id": "X8OhcveksXU5",
        "outputId": "ee3c2ea6-e218-428f-9526-4045063e2685"
      },
      "source": [
        "df['Subscribed'].value_counts()  ## Imbalanced Dataset"
      ],
      "execution_count": 19,
      "outputs": [
        {
          "output_type": "execute_result",
          "data": {
            "text/plain": [
              "0    37104\n",
              "1     2896\n",
              "Name: Subscribed, dtype: int64"
            ]
          },
          "metadata": {
            "tags": []
          },
          "execution_count": 19
        }
      ]
    },
    {
      "cell_type": "markdown",
      "metadata": {
        "id": "n6fWh15cu7fw"
      },
      "source": [
        "# Convert categorical variables to columns using One-Hot Encoding"
      ]
    },
    {
      "cell_type": "code",
      "metadata": {
        "colab": {
          "base_uri": "https://localhost:8080/"
        },
        "id": "rkeQvc1ruCyK",
        "outputId": "a63520c1-711a-4251-e00b-0dba53ce769a"
      },
      "source": [
        "## First check any missing value in the columns\n",
        "df.isnull().sum()"
      ],
      "execution_count": 20,
      "outputs": [
        {
          "output_type": "execute_result",
          "data": {
            "text/plain": [
              "age           0\n",
              "job           0\n",
              "marital       0\n",
              "education     0\n",
              "default       0\n",
              "balance       0\n",
              "housing       0\n",
              "loan          0\n",
              "contact       0\n",
              "day           0\n",
              "month         0\n",
              "duration      0\n",
              "campaign      0\n",
              "Subscribed    0\n",
              "dtype: int64"
            ]
          },
          "metadata": {
            "tags": []
          },
          "execution_count": 20
        }
      ]
    },
    {
      "cell_type": "code",
      "metadata": {
        "id": "DVTxALX6vnqf"
      },
      "source": [
        "## Get dummy columns of each categorical value\n",
        "# I will handle housing, loan and default (all of them yes or no). They are all binary categories. So we dont need extra column. All we need to have 1 or 0 in that column\n",
        "colmns = ['job', 'marital', 'education', 'contact', 'month']\n",
        "cat_col = pd.get_dummies(df[colmns], drop_first = False) #"
      ],
      "execution_count": 21,
      "outputs": []
    },
    {
      "cell_type": "code",
      "metadata": {
        "id": "Sy6ZkzsUx2Nc"
      },
      "source": [
        "## Convert yes or no features to binary values.\n",
        "default_bin = pd.get_dummies(df[\"default\"])  \n",
        "default_bin = default_bin.drop(columns=\"no\", axis = 1) \n",
        "default_bin = default_bin.rename(columns={\"yes\" : \"default\"}) \n",
        "housing_bin = pd.get_dummies(df[\"housing\"])  \n",
        "housing_bin = housing_bin.drop(columns=\"no\", axis = 1)\n",
        "housing_bin = housing_bin.rename(columns={\"yes\" : \"housing\"}) \n",
        "loan_bin = pd.get_dummies(df[\"loan\"])  \n",
        "loan_bin = loan_bin.drop(columns=\"no\", axis = 1) \n",
        "loan_bin = loan_bin.rename(columns={\"yes\" : \"loan\"}) "
      ],
      "execution_count": 22,
      "outputs": []
    },
    {
      "cell_type": "code",
      "metadata": {
        "id": "ZPjXA4AayKcP"
      },
      "source": [
        "bin_vals = pd.concat([cat_col,default_bin, housing_bin, loan_bin], axis = 1)"
      ],
      "execution_count": 23,
      "outputs": []
    },
    {
      "cell_type": "code",
      "metadata": {
        "colab": {
          "base_uri": "https://localhost:8080/",
          "height": 456
        },
        "id": "5f1McoEXzckV",
        "outputId": "d2b8048a-fe89-41cf-db5a-cbd229011081"
      },
      "source": [
        "bin_vals "
      ],
      "execution_count": 24,
      "outputs": [
        {
          "output_type": "execute_result",
          "data": {
            "text/html": [
              "<div>\n",
              "<style scoped>\n",
              "    .dataframe tbody tr th:only-of-type {\n",
              "        vertical-align: middle;\n",
              "    }\n",
              "\n",
              "    .dataframe tbody tr th {\n",
              "        vertical-align: top;\n",
              "    }\n",
              "\n",
              "    .dataframe thead th {\n",
              "        text-align: right;\n",
              "    }\n",
              "</style>\n",
              "<table border=\"1\" class=\"dataframe\">\n",
              "  <thead>\n",
              "    <tr style=\"text-align: right;\">\n",
              "      <th></th>\n",
              "      <th>job_admin</th>\n",
              "      <th>job_blue-collar</th>\n",
              "      <th>job_entrepreneur</th>\n",
              "      <th>job_housemaid</th>\n",
              "      <th>job_management</th>\n",
              "      <th>job_retired</th>\n",
              "      <th>job_self-employed</th>\n",
              "      <th>job_services</th>\n",
              "      <th>job_student</th>\n",
              "      <th>job_technician</th>\n",
              "      <th>job_unemployed</th>\n",
              "      <th>job_unknown</th>\n",
              "      <th>marital_divorced</th>\n",
              "      <th>marital_married</th>\n",
              "      <th>marital_single</th>\n",
              "      <th>education_primary</th>\n",
              "      <th>education_secondary</th>\n",
              "      <th>education_tertiary</th>\n",
              "      <th>education_unknown</th>\n",
              "      <th>contact_cellular</th>\n",
              "      <th>contact_telephone</th>\n",
              "      <th>contact_unknown</th>\n",
              "      <th>month_apr</th>\n",
              "      <th>month_aug</th>\n",
              "      <th>month_dec</th>\n",
              "      <th>month_feb</th>\n",
              "      <th>month_jan</th>\n",
              "      <th>month_jul</th>\n",
              "      <th>month_jun</th>\n",
              "      <th>month_mar</th>\n",
              "      <th>month_may</th>\n",
              "      <th>month_nov</th>\n",
              "      <th>month_oct</th>\n",
              "      <th>default</th>\n",
              "      <th>housing</th>\n",
              "      <th>loan</th>\n",
              "    </tr>\n",
              "  </thead>\n",
              "  <tbody>\n",
              "    <tr>\n",
              "      <th>0</th>\n",
              "      <td>0</td>\n",
              "      <td>0</td>\n",
              "      <td>0</td>\n",
              "      <td>0</td>\n",
              "      <td>1</td>\n",
              "      <td>0</td>\n",
              "      <td>0</td>\n",
              "      <td>0</td>\n",
              "      <td>0</td>\n",
              "      <td>0</td>\n",
              "      <td>0</td>\n",
              "      <td>0</td>\n",
              "      <td>0</td>\n",
              "      <td>1</td>\n",
              "      <td>0</td>\n",
              "      <td>0</td>\n",
              "      <td>0</td>\n",
              "      <td>1</td>\n",
              "      <td>0</td>\n",
              "      <td>0</td>\n",
              "      <td>0</td>\n",
              "      <td>1</td>\n",
              "      <td>0</td>\n",
              "      <td>0</td>\n",
              "      <td>0</td>\n",
              "      <td>0</td>\n",
              "      <td>0</td>\n",
              "      <td>0</td>\n",
              "      <td>0</td>\n",
              "      <td>0</td>\n",
              "      <td>1</td>\n",
              "      <td>0</td>\n",
              "      <td>0</td>\n",
              "      <td>0</td>\n",
              "      <td>1</td>\n",
              "      <td>0</td>\n",
              "    </tr>\n",
              "    <tr>\n",
              "      <th>1</th>\n",
              "      <td>0</td>\n",
              "      <td>0</td>\n",
              "      <td>0</td>\n",
              "      <td>0</td>\n",
              "      <td>0</td>\n",
              "      <td>0</td>\n",
              "      <td>0</td>\n",
              "      <td>0</td>\n",
              "      <td>0</td>\n",
              "      <td>1</td>\n",
              "      <td>0</td>\n",
              "      <td>0</td>\n",
              "      <td>0</td>\n",
              "      <td>0</td>\n",
              "      <td>1</td>\n",
              "      <td>0</td>\n",
              "      <td>1</td>\n",
              "      <td>0</td>\n",
              "      <td>0</td>\n",
              "      <td>0</td>\n",
              "      <td>0</td>\n",
              "      <td>1</td>\n",
              "      <td>0</td>\n",
              "      <td>0</td>\n",
              "      <td>0</td>\n",
              "      <td>0</td>\n",
              "      <td>0</td>\n",
              "      <td>0</td>\n",
              "      <td>0</td>\n",
              "      <td>0</td>\n",
              "      <td>1</td>\n",
              "      <td>0</td>\n",
              "      <td>0</td>\n",
              "      <td>0</td>\n",
              "      <td>1</td>\n",
              "      <td>0</td>\n",
              "    </tr>\n",
              "    <tr>\n",
              "      <th>2</th>\n",
              "      <td>0</td>\n",
              "      <td>0</td>\n",
              "      <td>1</td>\n",
              "      <td>0</td>\n",
              "      <td>0</td>\n",
              "      <td>0</td>\n",
              "      <td>0</td>\n",
              "      <td>0</td>\n",
              "      <td>0</td>\n",
              "      <td>0</td>\n",
              "      <td>0</td>\n",
              "      <td>0</td>\n",
              "      <td>0</td>\n",
              "      <td>1</td>\n",
              "      <td>0</td>\n",
              "      <td>0</td>\n",
              "      <td>1</td>\n",
              "      <td>0</td>\n",
              "      <td>0</td>\n",
              "      <td>0</td>\n",
              "      <td>0</td>\n",
              "      <td>1</td>\n",
              "      <td>0</td>\n",
              "      <td>0</td>\n",
              "      <td>0</td>\n",
              "      <td>0</td>\n",
              "      <td>0</td>\n",
              "      <td>0</td>\n",
              "      <td>0</td>\n",
              "      <td>0</td>\n",
              "      <td>1</td>\n",
              "      <td>0</td>\n",
              "      <td>0</td>\n",
              "      <td>0</td>\n",
              "      <td>1</td>\n",
              "      <td>1</td>\n",
              "    </tr>\n",
              "    <tr>\n",
              "      <th>3</th>\n",
              "      <td>0</td>\n",
              "      <td>1</td>\n",
              "      <td>0</td>\n",
              "      <td>0</td>\n",
              "      <td>0</td>\n",
              "      <td>0</td>\n",
              "      <td>0</td>\n",
              "      <td>0</td>\n",
              "      <td>0</td>\n",
              "      <td>0</td>\n",
              "      <td>0</td>\n",
              "      <td>0</td>\n",
              "      <td>0</td>\n",
              "      <td>1</td>\n",
              "      <td>0</td>\n",
              "      <td>0</td>\n",
              "      <td>0</td>\n",
              "      <td>0</td>\n",
              "      <td>1</td>\n",
              "      <td>0</td>\n",
              "      <td>0</td>\n",
              "      <td>1</td>\n",
              "      <td>0</td>\n",
              "      <td>0</td>\n",
              "      <td>0</td>\n",
              "      <td>0</td>\n",
              "      <td>0</td>\n",
              "      <td>0</td>\n",
              "      <td>0</td>\n",
              "      <td>0</td>\n",
              "      <td>1</td>\n",
              "      <td>0</td>\n",
              "      <td>0</td>\n",
              "      <td>0</td>\n",
              "      <td>1</td>\n",
              "      <td>0</td>\n",
              "    </tr>\n",
              "    <tr>\n",
              "      <th>4</th>\n",
              "      <td>0</td>\n",
              "      <td>0</td>\n",
              "      <td>0</td>\n",
              "      <td>0</td>\n",
              "      <td>0</td>\n",
              "      <td>0</td>\n",
              "      <td>0</td>\n",
              "      <td>0</td>\n",
              "      <td>0</td>\n",
              "      <td>0</td>\n",
              "      <td>0</td>\n",
              "      <td>1</td>\n",
              "      <td>0</td>\n",
              "      <td>0</td>\n",
              "      <td>1</td>\n",
              "      <td>0</td>\n",
              "      <td>0</td>\n",
              "      <td>0</td>\n",
              "      <td>1</td>\n",
              "      <td>0</td>\n",
              "      <td>0</td>\n",
              "      <td>1</td>\n",
              "      <td>0</td>\n",
              "      <td>0</td>\n",
              "      <td>0</td>\n",
              "      <td>0</td>\n",
              "      <td>0</td>\n",
              "      <td>0</td>\n",
              "      <td>0</td>\n",
              "      <td>0</td>\n",
              "      <td>1</td>\n",
              "      <td>0</td>\n",
              "      <td>0</td>\n",
              "      <td>0</td>\n",
              "      <td>0</td>\n",
              "      <td>0</td>\n",
              "    </tr>\n",
              "    <tr>\n",
              "      <th>...</th>\n",
              "      <td>...</td>\n",
              "      <td>...</td>\n",
              "      <td>...</td>\n",
              "      <td>...</td>\n",
              "      <td>...</td>\n",
              "      <td>...</td>\n",
              "      <td>...</td>\n",
              "      <td>...</td>\n",
              "      <td>...</td>\n",
              "      <td>...</td>\n",
              "      <td>...</td>\n",
              "      <td>...</td>\n",
              "      <td>...</td>\n",
              "      <td>...</td>\n",
              "      <td>...</td>\n",
              "      <td>...</td>\n",
              "      <td>...</td>\n",
              "      <td>...</td>\n",
              "      <td>...</td>\n",
              "      <td>...</td>\n",
              "      <td>...</td>\n",
              "      <td>...</td>\n",
              "      <td>...</td>\n",
              "      <td>...</td>\n",
              "      <td>...</td>\n",
              "      <td>...</td>\n",
              "      <td>...</td>\n",
              "      <td>...</td>\n",
              "      <td>...</td>\n",
              "      <td>...</td>\n",
              "      <td>...</td>\n",
              "      <td>...</td>\n",
              "      <td>...</td>\n",
              "      <td>...</td>\n",
              "      <td>...</td>\n",
              "      <td>...</td>\n",
              "    </tr>\n",
              "    <tr>\n",
              "      <th>39995</th>\n",
              "      <td>0</td>\n",
              "      <td>0</td>\n",
              "      <td>0</td>\n",
              "      <td>0</td>\n",
              "      <td>0</td>\n",
              "      <td>0</td>\n",
              "      <td>0</td>\n",
              "      <td>0</td>\n",
              "      <td>0</td>\n",
              "      <td>1</td>\n",
              "      <td>0</td>\n",
              "      <td>0</td>\n",
              "      <td>0</td>\n",
              "      <td>1</td>\n",
              "      <td>0</td>\n",
              "      <td>0</td>\n",
              "      <td>0</td>\n",
              "      <td>1</td>\n",
              "      <td>0</td>\n",
              "      <td>1</td>\n",
              "      <td>0</td>\n",
              "      <td>0</td>\n",
              "      <td>0</td>\n",
              "      <td>0</td>\n",
              "      <td>0</td>\n",
              "      <td>0</td>\n",
              "      <td>0</td>\n",
              "      <td>0</td>\n",
              "      <td>1</td>\n",
              "      <td>0</td>\n",
              "      <td>0</td>\n",
              "      <td>0</td>\n",
              "      <td>0</td>\n",
              "      <td>0</td>\n",
              "      <td>0</td>\n",
              "      <td>0</td>\n",
              "    </tr>\n",
              "    <tr>\n",
              "      <th>39996</th>\n",
              "      <td>0</td>\n",
              "      <td>0</td>\n",
              "      <td>0</td>\n",
              "      <td>0</td>\n",
              "      <td>1</td>\n",
              "      <td>0</td>\n",
              "      <td>0</td>\n",
              "      <td>0</td>\n",
              "      <td>0</td>\n",
              "      <td>0</td>\n",
              "      <td>0</td>\n",
              "      <td>0</td>\n",
              "      <td>0</td>\n",
              "      <td>0</td>\n",
              "      <td>1</td>\n",
              "      <td>0</td>\n",
              "      <td>0</td>\n",
              "      <td>1</td>\n",
              "      <td>0</td>\n",
              "      <td>1</td>\n",
              "      <td>0</td>\n",
              "      <td>0</td>\n",
              "      <td>0</td>\n",
              "      <td>0</td>\n",
              "      <td>0</td>\n",
              "      <td>0</td>\n",
              "      <td>0</td>\n",
              "      <td>0</td>\n",
              "      <td>1</td>\n",
              "      <td>0</td>\n",
              "      <td>0</td>\n",
              "      <td>0</td>\n",
              "      <td>0</td>\n",
              "      <td>0</td>\n",
              "      <td>0</td>\n",
              "      <td>0</td>\n",
              "    </tr>\n",
              "    <tr>\n",
              "      <th>39997</th>\n",
              "      <td>1</td>\n",
              "      <td>0</td>\n",
              "      <td>0</td>\n",
              "      <td>0</td>\n",
              "      <td>0</td>\n",
              "      <td>0</td>\n",
              "      <td>0</td>\n",
              "      <td>0</td>\n",
              "      <td>0</td>\n",
              "      <td>0</td>\n",
              "      <td>0</td>\n",
              "      <td>0</td>\n",
              "      <td>1</td>\n",
              "      <td>0</td>\n",
              "      <td>0</td>\n",
              "      <td>0</td>\n",
              "      <td>1</td>\n",
              "      <td>0</td>\n",
              "      <td>0</td>\n",
              "      <td>1</td>\n",
              "      <td>0</td>\n",
              "      <td>0</td>\n",
              "      <td>0</td>\n",
              "      <td>0</td>\n",
              "      <td>0</td>\n",
              "      <td>0</td>\n",
              "      <td>0</td>\n",
              "      <td>0</td>\n",
              "      <td>1</td>\n",
              "      <td>0</td>\n",
              "      <td>0</td>\n",
              "      <td>0</td>\n",
              "      <td>0</td>\n",
              "      <td>0</td>\n",
              "      <td>0</td>\n",
              "      <td>0</td>\n",
              "    </tr>\n",
              "    <tr>\n",
              "      <th>39998</th>\n",
              "      <td>0</td>\n",
              "      <td>0</td>\n",
              "      <td>0</td>\n",
              "      <td>0</td>\n",
              "      <td>1</td>\n",
              "      <td>0</td>\n",
              "      <td>0</td>\n",
              "      <td>0</td>\n",
              "      <td>0</td>\n",
              "      <td>0</td>\n",
              "      <td>0</td>\n",
              "      <td>0</td>\n",
              "      <td>0</td>\n",
              "      <td>1</td>\n",
              "      <td>0</td>\n",
              "      <td>0</td>\n",
              "      <td>0</td>\n",
              "      <td>1</td>\n",
              "      <td>0</td>\n",
              "      <td>1</td>\n",
              "      <td>0</td>\n",
              "      <td>0</td>\n",
              "      <td>0</td>\n",
              "      <td>0</td>\n",
              "      <td>0</td>\n",
              "      <td>0</td>\n",
              "      <td>0</td>\n",
              "      <td>0</td>\n",
              "      <td>1</td>\n",
              "      <td>0</td>\n",
              "      <td>0</td>\n",
              "      <td>0</td>\n",
              "      <td>0</td>\n",
              "      <td>0</td>\n",
              "      <td>0</td>\n",
              "      <td>0</td>\n",
              "    </tr>\n",
              "    <tr>\n",
              "      <th>39999</th>\n",
              "      <td>0</td>\n",
              "      <td>0</td>\n",
              "      <td>0</td>\n",
              "      <td>0</td>\n",
              "      <td>0</td>\n",
              "      <td>0</td>\n",
              "      <td>0</td>\n",
              "      <td>0</td>\n",
              "      <td>0</td>\n",
              "      <td>1</td>\n",
              "      <td>0</td>\n",
              "      <td>0</td>\n",
              "      <td>0</td>\n",
              "      <td>1</td>\n",
              "      <td>0</td>\n",
              "      <td>0</td>\n",
              "      <td>1</td>\n",
              "      <td>0</td>\n",
              "      <td>0</td>\n",
              "      <td>1</td>\n",
              "      <td>0</td>\n",
              "      <td>0</td>\n",
              "      <td>0</td>\n",
              "      <td>0</td>\n",
              "      <td>0</td>\n",
              "      <td>0</td>\n",
              "      <td>0</td>\n",
              "      <td>0</td>\n",
              "      <td>1</td>\n",
              "      <td>0</td>\n",
              "      <td>0</td>\n",
              "      <td>0</td>\n",
              "      <td>0</td>\n",
              "      <td>0</td>\n",
              "      <td>1</td>\n",
              "      <td>0</td>\n",
              "    </tr>\n",
              "  </tbody>\n",
              "</table>\n",
              "<p>40000 rows × 36 columns</p>\n",
              "</div>"
            ],
            "text/plain": [
              "       job_admin  job_blue-collar  job_entrepreneur  ...  default  housing  loan\n",
              "0              0                0                 0  ...        0        1     0\n",
              "1              0                0                 0  ...        0        1     0\n",
              "2              0                0                 1  ...        0        1     1\n",
              "3              0                1                 0  ...        0        1     0\n",
              "4              0                0                 0  ...        0        0     0\n",
              "...          ...              ...               ...  ...      ...      ...   ...\n",
              "39995          0                0                 0  ...        0        0     0\n",
              "39996          0                0                 0  ...        0        0     0\n",
              "39997          1                0                 0  ...        0        0     0\n",
              "39998          0                0                 0  ...        0        0     0\n",
              "39999          0                0                 0  ...        0        1     0\n",
              "\n",
              "[40000 rows x 36 columns]"
            ]
          },
          "metadata": {
            "tags": []
          },
          "execution_count": 24
        }
      ]
    },
    {
      "cell_type": "code",
      "metadata": {
        "id": "svprsij80IO-"
      },
      "source": [
        "all_data = all_data.drop(['job', 'marital', 'education', 'default', 'housing', 'loan', 'contact', 'month'], axis = 1)\n",
        "all_data = pd.concat([all_data, bin_vals], axis = 1)"
      ],
      "execution_count": 25,
      "outputs": []
    },
    {
      "cell_type": "code",
      "metadata": {
        "colab": {
          "base_uri": "https://localhost:8080/",
          "height": 456
        },
        "id": "SyQzrkqV4LG7",
        "outputId": "6a82476b-a337-475d-99c3-4695066eaddb"
      },
      "source": [
        "all_data ## 41 Features dataset in the end"
      ],
      "execution_count": 26,
      "outputs": [
        {
          "output_type": "execute_result",
          "data": {
            "text/html": [
              "<div>\n",
              "<style scoped>\n",
              "    .dataframe tbody tr th:only-of-type {\n",
              "        vertical-align: middle;\n",
              "    }\n",
              "\n",
              "    .dataframe tbody tr th {\n",
              "        vertical-align: top;\n",
              "    }\n",
              "\n",
              "    .dataframe thead th {\n",
              "        text-align: right;\n",
              "    }\n",
              "</style>\n",
              "<table border=\"1\" class=\"dataframe\">\n",
              "  <thead>\n",
              "    <tr style=\"text-align: right;\">\n",
              "      <th></th>\n",
              "      <th>age</th>\n",
              "      <th>balance</th>\n",
              "      <th>day</th>\n",
              "      <th>duration</th>\n",
              "      <th>campaign</th>\n",
              "      <th>job_admin</th>\n",
              "      <th>job_blue-collar</th>\n",
              "      <th>job_entrepreneur</th>\n",
              "      <th>job_housemaid</th>\n",
              "      <th>job_management</th>\n",
              "      <th>job_retired</th>\n",
              "      <th>job_self-employed</th>\n",
              "      <th>job_services</th>\n",
              "      <th>job_student</th>\n",
              "      <th>job_technician</th>\n",
              "      <th>job_unemployed</th>\n",
              "      <th>job_unknown</th>\n",
              "      <th>marital_divorced</th>\n",
              "      <th>marital_married</th>\n",
              "      <th>marital_single</th>\n",
              "      <th>education_primary</th>\n",
              "      <th>education_secondary</th>\n",
              "      <th>education_tertiary</th>\n",
              "      <th>education_unknown</th>\n",
              "      <th>contact_cellular</th>\n",
              "      <th>contact_telephone</th>\n",
              "      <th>contact_unknown</th>\n",
              "      <th>month_apr</th>\n",
              "      <th>month_aug</th>\n",
              "      <th>month_dec</th>\n",
              "      <th>month_feb</th>\n",
              "      <th>month_jan</th>\n",
              "      <th>month_jul</th>\n",
              "      <th>month_jun</th>\n",
              "      <th>month_mar</th>\n",
              "      <th>month_may</th>\n",
              "      <th>month_nov</th>\n",
              "      <th>month_oct</th>\n",
              "      <th>default</th>\n",
              "      <th>housing</th>\n",
              "      <th>loan</th>\n",
              "    </tr>\n",
              "  </thead>\n",
              "  <tbody>\n",
              "    <tr>\n",
              "      <th>0</th>\n",
              "      <td>58</td>\n",
              "      <td>2143</td>\n",
              "      <td>5</td>\n",
              "      <td>261</td>\n",
              "      <td>1</td>\n",
              "      <td>0</td>\n",
              "      <td>0</td>\n",
              "      <td>0</td>\n",
              "      <td>0</td>\n",
              "      <td>1</td>\n",
              "      <td>0</td>\n",
              "      <td>0</td>\n",
              "      <td>0</td>\n",
              "      <td>0</td>\n",
              "      <td>0</td>\n",
              "      <td>0</td>\n",
              "      <td>0</td>\n",
              "      <td>0</td>\n",
              "      <td>1</td>\n",
              "      <td>0</td>\n",
              "      <td>0</td>\n",
              "      <td>0</td>\n",
              "      <td>1</td>\n",
              "      <td>0</td>\n",
              "      <td>0</td>\n",
              "      <td>0</td>\n",
              "      <td>1</td>\n",
              "      <td>0</td>\n",
              "      <td>0</td>\n",
              "      <td>0</td>\n",
              "      <td>0</td>\n",
              "      <td>0</td>\n",
              "      <td>0</td>\n",
              "      <td>0</td>\n",
              "      <td>0</td>\n",
              "      <td>1</td>\n",
              "      <td>0</td>\n",
              "      <td>0</td>\n",
              "      <td>0</td>\n",
              "      <td>1</td>\n",
              "      <td>0</td>\n",
              "    </tr>\n",
              "    <tr>\n",
              "      <th>1</th>\n",
              "      <td>44</td>\n",
              "      <td>29</td>\n",
              "      <td>5</td>\n",
              "      <td>151</td>\n",
              "      <td>1</td>\n",
              "      <td>0</td>\n",
              "      <td>0</td>\n",
              "      <td>0</td>\n",
              "      <td>0</td>\n",
              "      <td>0</td>\n",
              "      <td>0</td>\n",
              "      <td>0</td>\n",
              "      <td>0</td>\n",
              "      <td>0</td>\n",
              "      <td>1</td>\n",
              "      <td>0</td>\n",
              "      <td>0</td>\n",
              "      <td>0</td>\n",
              "      <td>0</td>\n",
              "      <td>1</td>\n",
              "      <td>0</td>\n",
              "      <td>1</td>\n",
              "      <td>0</td>\n",
              "      <td>0</td>\n",
              "      <td>0</td>\n",
              "      <td>0</td>\n",
              "      <td>1</td>\n",
              "      <td>0</td>\n",
              "      <td>0</td>\n",
              "      <td>0</td>\n",
              "      <td>0</td>\n",
              "      <td>0</td>\n",
              "      <td>0</td>\n",
              "      <td>0</td>\n",
              "      <td>0</td>\n",
              "      <td>1</td>\n",
              "      <td>0</td>\n",
              "      <td>0</td>\n",
              "      <td>0</td>\n",
              "      <td>1</td>\n",
              "      <td>0</td>\n",
              "    </tr>\n",
              "    <tr>\n",
              "      <th>2</th>\n",
              "      <td>33</td>\n",
              "      <td>2</td>\n",
              "      <td>5</td>\n",
              "      <td>76</td>\n",
              "      <td>1</td>\n",
              "      <td>0</td>\n",
              "      <td>0</td>\n",
              "      <td>1</td>\n",
              "      <td>0</td>\n",
              "      <td>0</td>\n",
              "      <td>0</td>\n",
              "      <td>0</td>\n",
              "      <td>0</td>\n",
              "      <td>0</td>\n",
              "      <td>0</td>\n",
              "      <td>0</td>\n",
              "      <td>0</td>\n",
              "      <td>0</td>\n",
              "      <td>1</td>\n",
              "      <td>0</td>\n",
              "      <td>0</td>\n",
              "      <td>1</td>\n",
              "      <td>0</td>\n",
              "      <td>0</td>\n",
              "      <td>0</td>\n",
              "      <td>0</td>\n",
              "      <td>1</td>\n",
              "      <td>0</td>\n",
              "      <td>0</td>\n",
              "      <td>0</td>\n",
              "      <td>0</td>\n",
              "      <td>0</td>\n",
              "      <td>0</td>\n",
              "      <td>0</td>\n",
              "      <td>0</td>\n",
              "      <td>1</td>\n",
              "      <td>0</td>\n",
              "      <td>0</td>\n",
              "      <td>0</td>\n",
              "      <td>1</td>\n",
              "      <td>1</td>\n",
              "    </tr>\n",
              "    <tr>\n",
              "      <th>3</th>\n",
              "      <td>47</td>\n",
              "      <td>1506</td>\n",
              "      <td>5</td>\n",
              "      <td>92</td>\n",
              "      <td>1</td>\n",
              "      <td>0</td>\n",
              "      <td>1</td>\n",
              "      <td>0</td>\n",
              "      <td>0</td>\n",
              "      <td>0</td>\n",
              "      <td>0</td>\n",
              "      <td>0</td>\n",
              "      <td>0</td>\n",
              "      <td>0</td>\n",
              "      <td>0</td>\n",
              "      <td>0</td>\n",
              "      <td>0</td>\n",
              "      <td>0</td>\n",
              "      <td>1</td>\n",
              "      <td>0</td>\n",
              "      <td>0</td>\n",
              "      <td>0</td>\n",
              "      <td>0</td>\n",
              "      <td>1</td>\n",
              "      <td>0</td>\n",
              "      <td>0</td>\n",
              "      <td>1</td>\n",
              "      <td>0</td>\n",
              "      <td>0</td>\n",
              "      <td>0</td>\n",
              "      <td>0</td>\n",
              "      <td>0</td>\n",
              "      <td>0</td>\n",
              "      <td>0</td>\n",
              "      <td>0</td>\n",
              "      <td>1</td>\n",
              "      <td>0</td>\n",
              "      <td>0</td>\n",
              "      <td>0</td>\n",
              "      <td>1</td>\n",
              "      <td>0</td>\n",
              "    </tr>\n",
              "    <tr>\n",
              "      <th>4</th>\n",
              "      <td>33</td>\n",
              "      <td>1</td>\n",
              "      <td>5</td>\n",
              "      <td>198</td>\n",
              "      <td>1</td>\n",
              "      <td>0</td>\n",
              "      <td>0</td>\n",
              "      <td>0</td>\n",
              "      <td>0</td>\n",
              "      <td>0</td>\n",
              "      <td>0</td>\n",
              "      <td>0</td>\n",
              "      <td>0</td>\n",
              "      <td>0</td>\n",
              "      <td>0</td>\n",
              "      <td>0</td>\n",
              "      <td>1</td>\n",
              "      <td>0</td>\n",
              "      <td>0</td>\n",
              "      <td>1</td>\n",
              "      <td>0</td>\n",
              "      <td>0</td>\n",
              "      <td>0</td>\n",
              "      <td>1</td>\n",
              "      <td>0</td>\n",
              "      <td>0</td>\n",
              "      <td>1</td>\n",
              "      <td>0</td>\n",
              "      <td>0</td>\n",
              "      <td>0</td>\n",
              "      <td>0</td>\n",
              "      <td>0</td>\n",
              "      <td>0</td>\n",
              "      <td>0</td>\n",
              "      <td>0</td>\n",
              "      <td>1</td>\n",
              "      <td>0</td>\n",
              "      <td>0</td>\n",
              "      <td>0</td>\n",
              "      <td>0</td>\n",
              "      <td>0</td>\n",
              "    </tr>\n",
              "    <tr>\n",
              "      <th>...</th>\n",
              "      <td>...</td>\n",
              "      <td>...</td>\n",
              "      <td>...</td>\n",
              "      <td>...</td>\n",
              "      <td>...</td>\n",
              "      <td>...</td>\n",
              "      <td>...</td>\n",
              "      <td>...</td>\n",
              "      <td>...</td>\n",
              "      <td>...</td>\n",
              "      <td>...</td>\n",
              "      <td>...</td>\n",
              "      <td>...</td>\n",
              "      <td>...</td>\n",
              "      <td>...</td>\n",
              "      <td>...</td>\n",
              "      <td>...</td>\n",
              "      <td>...</td>\n",
              "      <td>...</td>\n",
              "      <td>...</td>\n",
              "      <td>...</td>\n",
              "      <td>...</td>\n",
              "      <td>...</td>\n",
              "      <td>...</td>\n",
              "      <td>...</td>\n",
              "      <td>...</td>\n",
              "      <td>...</td>\n",
              "      <td>...</td>\n",
              "      <td>...</td>\n",
              "      <td>...</td>\n",
              "      <td>...</td>\n",
              "      <td>...</td>\n",
              "      <td>...</td>\n",
              "      <td>...</td>\n",
              "      <td>...</td>\n",
              "      <td>...</td>\n",
              "      <td>...</td>\n",
              "      <td>...</td>\n",
              "      <td>...</td>\n",
              "      <td>...</td>\n",
              "      <td>...</td>\n",
              "    </tr>\n",
              "    <tr>\n",
              "      <th>39995</th>\n",
              "      <td>53</td>\n",
              "      <td>395</td>\n",
              "      <td>3</td>\n",
              "      <td>107</td>\n",
              "      <td>1</td>\n",
              "      <td>0</td>\n",
              "      <td>0</td>\n",
              "      <td>0</td>\n",
              "      <td>0</td>\n",
              "      <td>0</td>\n",
              "      <td>0</td>\n",
              "      <td>0</td>\n",
              "      <td>0</td>\n",
              "      <td>0</td>\n",
              "      <td>1</td>\n",
              "      <td>0</td>\n",
              "      <td>0</td>\n",
              "      <td>0</td>\n",
              "      <td>1</td>\n",
              "      <td>0</td>\n",
              "      <td>0</td>\n",
              "      <td>0</td>\n",
              "      <td>1</td>\n",
              "      <td>0</td>\n",
              "      <td>1</td>\n",
              "      <td>0</td>\n",
              "      <td>0</td>\n",
              "      <td>0</td>\n",
              "      <td>0</td>\n",
              "      <td>0</td>\n",
              "      <td>0</td>\n",
              "      <td>0</td>\n",
              "      <td>0</td>\n",
              "      <td>1</td>\n",
              "      <td>0</td>\n",
              "      <td>0</td>\n",
              "      <td>0</td>\n",
              "      <td>0</td>\n",
              "      <td>0</td>\n",
              "      <td>0</td>\n",
              "      <td>0</td>\n",
              "    </tr>\n",
              "    <tr>\n",
              "      <th>39996</th>\n",
              "      <td>30</td>\n",
              "      <td>3340</td>\n",
              "      <td>3</td>\n",
              "      <td>238</td>\n",
              "      <td>3</td>\n",
              "      <td>0</td>\n",
              "      <td>0</td>\n",
              "      <td>0</td>\n",
              "      <td>0</td>\n",
              "      <td>1</td>\n",
              "      <td>0</td>\n",
              "      <td>0</td>\n",
              "      <td>0</td>\n",
              "      <td>0</td>\n",
              "      <td>0</td>\n",
              "      <td>0</td>\n",
              "      <td>0</td>\n",
              "      <td>0</td>\n",
              "      <td>0</td>\n",
              "      <td>1</td>\n",
              "      <td>0</td>\n",
              "      <td>0</td>\n",
              "      <td>1</td>\n",
              "      <td>0</td>\n",
              "      <td>1</td>\n",
              "      <td>0</td>\n",
              "      <td>0</td>\n",
              "      <td>0</td>\n",
              "      <td>0</td>\n",
              "      <td>0</td>\n",
              "      <td>0</td>\n",
              "      <td>0</td>\n",
              "      <td>0</td>\n",
              "      <td>1</td>\n",
              "      <td>0</td>\n",
              "      <td>0</td>\n",
              "      <td>0</td>\n",
              "      <td>0</td>\n",
              "      <td>0</td>\n",
              "      <td>0</td>\n",
              "      <td>0</td>\n",
              "    </tr>\n",
              "    <tr>\n",
              "      <th>39997</th>\n",
              "      <td>54</td>\n",
              "      <td>200</td>\n",
              "      <td>3</td>\n",
              "      <td>170</td>\n",
              "      <td>1</td>\n",
              "      <td>1</td>\n",
              "      <td>0</td>\n",
              "      <td>0</td>\n",
              "      <td>0</td>\n",
              "      <td>0</td>\n",
              "      <td>0</td>\n",
              "      <td>0</td>\n",
              "      <td>0</td>\n",
              "      <td>0</td>\n",
              "      <td>0</td>\n",
              "      <td>0</td>\n",
              "      <td>0</td>\n",
              "      <td>1</td>\n",
              "      <td>0</td>\n",
              "      <td>0</td>\n",
              "      <td>0</td>\n",
              "      <td>1</td>\n",
              "      <td>0</td>\n",
              "      <td>0</td>\n",
              "      <td>1</td>\n",
              "      <td>0</td>\n",
              "      <td>0</td>\n",
              "      <td>0</td>\n",
              "      <td>0</td>\n",
              "      <td>0</td>\n",
              "      <td>0</td>\n",
              "      <td>0</td>\n",
              "      <td>0</td>\n",
              "      <td>1</td>\n",
              "      <td>0</td>\n",
              "      <td>0</td>\n",
              "      <td>0</td>\n",
              "      <td>0</td>\n",
              "      <td>0</td>\n",
              "      <td>0</td>\n",
              "      <td>0</td>\n",
              "    </tr>\n",
              "    <tr>\n",
              "      <th>39998</th>\n",
              "      <td>34</td>\n",
              "      <td>1047</td>\n",
              "      <td>3</td>\n",
              "      <td>342</td>\n",
              "      <td>1</td>\n",
              "      <td>0</td>\n",
              "      <td>0</td>\n",
              "      <td>0</td>\n",
              "      <td>0</td>\n",
              "      <td>1</td>\n",
              "      <td>0</td>\n",
              "      <td>0</td>\n",
              "      <td>0</td>\n",
              "      <td>0</td>\n",
              "      <td>0</td>\n",
              "      <td>0</td>\n",
              "      <td>0</td>\n",
              "      <td>0</td>\n",
              "      <td>1</td>\n",
              "      <td>0</td>\n",
              "      <td>0</td>\n",
              "      <td>0</td>\n",
              "      <td>1</td>\n",
              "      <td>0</td>\n",
              "      <td>1</td>\n",
              "      <td>0</td>\n",
              "      <td>0</td>\n",
              "      <td>0</td>\n",
              "      <td>0</td>\n",
              "      <td>0</td>\n",
              "      <td>0</td>\n",
              "      <td>0</td>\n",
              "      <td>0</td>\n",
              "      <td>1</td>\n",
              "      <td>0</td>\n",
              "      <td>0</td>\n",
              "      <td>0</td>\n",
              "      <td>0</td>\n",
              "      <td>0</td>\n",
              "      <td>0</td>\n",
              "      <td>0</td>\n",
              "    </tr>\n",
              "    <tr>\n",
              "      <th>39999</th>\n",
              "      <td>38</td>\n",
              "      <td>1442</td>\n",
              "      <td>3</td>\n",
              "      <td>113</td>\n",
              "      <td>1</td>\n",
              "      <td>0</td>\n",
              "      <td>0</td>\n",
              "      <td>0</td>\n",
              "      <td>0</td>\n",
              "      <td>0</td>\n",
              "      <td>0</td>\n",
              "      <td>0</td>\n",
              "      <td>0</td>\n",
              "      <td>0</td>\n",
              "      <td>1</td>\n",
              "      <td>0</td>\n",
              "      <td>0</td>\n",
              "      <td>0</td>\n",
              "      <td>1</td>\n",
              "      <td>0</td>\n",
              "      <td>0</td>\n",
              "      <td>1</td>\n",
              "      <td>0</td>\n",
              "      <td>0</td>\n",
              "      <td>1</td>\n",
              "      <td>0</td>\n",
              "      <td>0</td>\n",
              "      <td>0</td>\n",
              "      <td>0</td>\n",
              "      <td>0</td>\n",
              "      <td>0</td>\n",
              "      <td>0</td>\n",
              "      <td>0</td>\n",
              "      <td>1</td>\n",
              "      <td>0</td>\n",
              "      <td>0</td>\n",
              "      <td>0</td>\n",
              "      <td>0</td>\n",
              "      <td>0</td>\n",
              "      <td>1</td>\n",
              "      <td>0</td>\n",
              "    </tr>\n",
              "  </tbody>\n",
              "</table>\n",
              "<p>40000 rows × 41 columns</p>\n",
              "</div>"
            ],
            "text/plain": [
              "       age  balance  day  duration  ...  month_oct  default  housing  loan\n",
              "0       58     2143    5       261  ...          0        0        1     0\n",
              "1       44       29    5       151  ...          0        0        1     0\n",
              "2       33        2    5        76  ...          0        0        1     1\n",
              "3       47     1506    5        92  ...          0        0        1     0\n",
              "4       33        1    5       198  ...          0        0        0     0\n",
              "...    ...      ...  ...       ...  ...        ...      ...      ...   ...\n",
              "39995   53      395    3       107  ...          0        0        0     0\n",
              "39996   30     3340    3       238  ...          0        0        0     0\n",
              "39997   54      200    3       170  ...          0        0        0     0\n",
              "39998   34     1047    3       342  ...          0        0        0     0\n",
              "39999   38     1442    3       113  ...          0        0        1     0\n",
              "\n",
              "[40000 rows x 41 columns]"
            ]
          },
          "metadata": {
            "tags": []
          },
          "execution_count": 26
        }
      ]
    },
    {
      "cell_type": "code",
      "metadata": {
        "id": "Wh-M5cFmBKGL"
      },
      "source": [
        "# Split data into training and test set\n",
        "X , y = all_data.to_numpy() , y_output.to_numpy() ## Convert dataframe to NumPy\n",
        "X_train , X_test , y_train, y_test = train_test_split(X, y, test_size=0.2, random_state=31) ## 0.2 Test data , 0.8 Training data"
      ],
      "execution_count": 27,
      "outputs": []
    },
    {
      "cell_type": "code",
      "metadata": {
        "id": "CqAyRc2KBd-F"
      },
      "source": [
        "scaler = StandardScaler()\n",
        "X_train = scaler.fit_transform(X_train) ## Data in NumPy form.\n",
        "X_test = scaler.transform(X_test) # Transform test set"
      ],
      "execution_count": 28,
      "outputs": []
    },
    {
      "cell_type": "markdown",
      "metadata": {
        "id": "jJNC_IEf_hwq"
      },
      "source": [
        "# Logistic regression to fit the data then use cross_val_score with 5-fold for Model evaluation"
      ]
    },
    {
      "cell_type": "code",
      "metadata": {
        "id": "6Dac0ugxTi5F"
      },
      "source": [
        "log_reg = LogisticRegression().fit(X_train,y_train.ravel())\n",
        "scores = cross_val_score(log_reg, X_train, y_train.ravel(), cv = 5)"
      ],
      "execution_count": 29,
      "outputs": []
    },
    {
      "cell_type": "code",
      "metadata": {
        "colab": {
          "base_uri": "https://localhost:8080/"
        },
        "id": "VnH7gQ06kkqz",
        "outputId": "32812dcc-dc92-48a5-e83a-f376e289bb6d"
      },
      "source": [
        "print(f'5-fold CV average accuracy is = {round(scores.mean() * 100,2)}%')\n",
        "for turn, score in enumerate(scores, 1) :\n",
        "  print(f'{turn}. model accuracy is {round(score * 100,2)}%')\n"
      ],
      "execution_count": 30,
      "outputs": [
        {
          "output_type": "stream",
          "text": [
            "5-fold CV average accuracy is = 93.34%\n",
            "1. model accuracy is 93.61%\n",
            "2. model accuracy is 93.38%\n",
            "3. model accuracy is 93.14%\n",
            "4. model accuracy is 93.58%\n",
            "5. model accuracy is 93.0%\n"
          ],
          "name": "stdout"
        }
      ]
    },
    {
      "cell_type": "markdown",
      "metadata": {
        "id": "z6qczCqZlMP3"
      },
      "source": [
        "Average accuracy indicates that our model has generalized the data very well. Now let us evaluate the model using test set."
      ]
    },
    {
      "cell_type": "code",
      "metadata": {
        "colab": {
          "base_uri": "https://localhost:8080/"
        },
        "id": "hSdcKzRVkmu1",
        "outputId": "76288dd8-1018-494a-c01c-399f2b294102"
      },
      "source": [
        "print(f'Accuracy on the test data is {round(log_reg.score(X_test,y_test.ravel())* 100, 2)}%')"
      ],
      "execution_count": 31,
      "outputs": [
        {
          "output_type": "stream",
          "text": [
            "Accuracy on the test data is 94.04%\n"
          ],
          "name": "stdout"
        }
      ]
    },
    {
      "cell_type": "markdown",
      "metadata": {
        "id": "c2LOF6oSQ-YU"
      },
      "source": [
        "Data distribution is imbalanced. That affects regression model's decision making. (Can be biased towards negative). Now let us test how many false negatives exist caused by bias problem. Let us check confusion matrix"
      ]
    },
    {
      "cell_type": "code",
      "metadata": {
        "id": "d8aOGAXQVy8M"
      },
      "source": [
        "predictions = log_reg.predict(X_test)\n",
        "score = log_reg.score(X_test, y_test.ravel())"
      ],
      "execution_count": 32,
      "outputs": []
    },
    {
      "cell_type": "code",
      "metadata": {
        "colab": {
          "base_uri": "https://localhost:8080/",
          "height": 520
        },
        "id": "zbKyAxBqVuED",
        "outputId": "296ef974-5bf3-41e8-b742-f9be486361fb"
      },
      "source": [
        "cm = metrics.confusion_matrix(y_test, predictions)\n",
        "plt.figure(figsize=(9,9))\n",
        "sns.heatmap(cm, annot=True, fmt=\".3f\", linewidths=.5, square = True, cmap = 'Blues_r');\n",
        "plt.ylabel('Actual label');\n",
        "plt.xlabel('Predicted label');\n",
        "all_sample_title = 'Accuracy Score: {0}%'.format(round(score * 100,2))\n",
        "plt.title(all_sample_title, size = 15);"
      ],
      "execution_count": 33,
      "outputs": [
        {
          "output_type": "display_data",
          "data": {
            "image/png": "[encoded data removed]",
            "text/plain": [
              "<Figure size 648x648 with 2 Axes>"
            ]
          },
          "metadata": {
            "tags": [],
            "needs_background": "light"
          }
        }
      ]
    },
    {
      "cell_type": "markdown",
      "metadata": {
        "id": "XQoPI2w5YWyO"
      },
      "source": [
        " Model has many false negative samples. It could distinguish only small percent of positive samples because there is a bias towards \"0\" since dataset is imbalanced. Lower than 10%  (≈7.8%) percent of the dataset indicates information about customers who are subscribed to term deposit."
      ]
    },
    {
      "cell_type": "code",
      "metadata": {
        "colab": {
          "base_uri": "https://localhost:8080/"
        },
        "id": "f9ep6EcOXno6",
        "outputId": "33b9d9a9-a2ce-4490-bb99-6682aa6f66dc"
      },
      "source": [
        "success_rate = 167 / (167+370) * 100\n",
        "print(f'Accuracy rate of positive samples is {round(success_rate,3)}%')"
      ],
      "execution_count": 34,
      "outputs": [
        {
          "output_type": "stream",
          "text": [
            "Accuracy rate of positive samples is 31.099%\n"
          ],
          "name": "stdout"
        }
      ]
    },
    {
      "cell_type": "markdown",
      "metadata": {
        "id": "Zp8YHpyHaO4E"
      },
      "source": [
        "# Logistic Regression with Class weight to handle Imbalanced Data"
      ]
    },
    {
      "cell_type": "code",
      "metadata": {
        "id": "3ICqjrj6b9id"
      },
      "source": [
        "log_reg_weighted = LogisticRegression(class_weight='balanced').fit(X_train, y_train.ravel()) ## Balanced ClassWeight\n",
        "scores = cross_val_score(log_reg_weighted, X_train, y_train.ravel(), cv = 5)"
      ],
      "execution_count": 35,
      "outputs": []
    },
    {
      "cell_type": "code",
      "metadata": {
        "colab": {
          "base_uri": "https://localhost:8080/"
        },
        "id": "Q32G7Z6WcqiO",
        "outputId": "d77dc275-eb17-43c3-b769-2160371e27fb"
      },
      "source": [
        "print(f'5-fold CV average accuracy is = {round(scores.mean() * 100,2)}%')\n",
        "for turn, score in enumerate(scores, 1) :\n",
        "  print(f'{turn}. model accuracy is {round(score * 100,2)}%')\n"
      ],
      "execution_count": 36,
      "outputs": [
        {
          "output_type": "stream",
          "text": [
            "5-fold CV average accuracy is = 86.57%\n",
            "1. model accuracy is 86.97%\n",
            "2. model accuracy is 86.3%\n",
            "3. model accuracy is 87.09%\n",
            "4. model accuracy is 86.64%\n",
            "5. model accuracy is 85.84%\n"
          ],
          "name": "stdout"
        }
      ]
    },
    {
      "cell_type": "code",
      "metadata": {
        "id": "zh5j9ml4c9s-"
      },
      "source": [
        "predictions = log_reg_weighted.predict(X_test)\n",
        "score = log_reg_weighted.score(X_test, y_test.ravel())"
      ],
      "execution_count": 37,
      "outputs": []
    },
    {
      "cell_type": "code",
      "metadata": {
        "colab": {
          "base_uri": "https://localhost:8080/",
          "height": 520
        },
        "id": "uH37TxhEdXE0",
        "outputId": "dfa20cfe-b321-4b8d-f6bb-61e95cd56b44"
      },
      "source": [
        "cm = metrics.confusion_matrix(y_test, predictions)\n",
        "plt.figure(figsize=(9,9))\n",
        "sns.heatmap(cm, annot=True, fmt=\".0f\",linewidths=.5, square = True, cmap = 'Blues_r');\n",
        "plt.ylabel('Actual label');\n",
        "plt.xlabel('Predicted label');\n",
        "all_sample_title = 'Accuracy Score: {0}%'.format(score*100)\n",
        "plt.title(all_sample_title, size = 15);"
      ],
      "execution_count": 38,
      "outputs": [
        {
          "output_type": "display_data",
          "data": {
            "image/png": "[encoded data removed]",
            "text/plain": [
              "<Figure size 648x648 with 2 Axes>"
            ]
          },
          "metadata": {
            "tags": [],
            "needs_background": "light"
          }
        }
      ]
    },
    {
      "cell_type": "code",
      "metadata": {
        "colab": {
          "base_uri": "https://localhost:8080/"
        },
        "id": "XJWVU2HKn0hf",
        "outputId": "d14a0a76-89e9-4ad7-e889-31a02d8d1a9b"
      },
      "source": [
        "true_pos_rate = round(469/(469+68) * 100,2)\n",
        "print(f'True positive rate is {true_pos_rate}%')"
      ],
      "execution_count": 39,
      "outputs": [
        {
          "output_type": "stream",
          "text": [
            "True positive rate is 87.34%\n"
          ],
          "name": "stdout"
        }
      ]
    },
    {
      "cell_type": "markdown",
      "metadata": {
        "id": "bMbTVHx3eGy4"
      },
      "source": [
        "\n",
        "Utilizing class weights, overall accuracy reduces, but false negative number decreases. In our case, identifying positive customers is more important, so class weights is an option to use. \n",
        "#What happens under the hood?\n",
        "\n",
        "In logistic regression, we calculate loss per example using binary cross-entropy:\n",
        "\n",
        "Loss = −ylog(p) − (1−y)log(1−p)\n",
        "\n",
        "\n",
        "In this particular form, we give equal weight to both the positive and the negative classes. When we set class_weight as class_weight = {0:1,1:20}, the classifier in the background tries to minimize:\n",
        "\n",
        "NewLoss = −20*ylog(p) − 1*(1−y)log(1−p)\n",
        "\n",
        "Check : https://www.kdnuggets.com/2020/015-most-useful-techniques-handle-imbalanced-datasets.html\n",
        "\n",
        "Can we decrease the number of false negative further?\n"
      ]
    },
    {
      "cell_type": "markdown",
      "metadata": {
        "id": "VRIsld1oCMlh"
      },
      "source": [
        "# Neural Network approach"
      ]
    },
    {
      "cell_type": "code",
      "metadata": {
        "id": "qM4AjGvaFLg3"
      },
      "source": [
        "import tensorflow as tf\n",
        "from tensorflow import keras\n",
        "import os\n",
        "import tempfile\n",
        "import matplotlib as mpl\n",
        "import sklearn\n",
        "from sklearn.metrics import confusion_matrix"
      ],
      "execution_count": 40,
      "outputs": []
    },
    {
      "cell_type": "code",
      "metadata": {
        "id": "2jbZsoI1CNvZ"
      },
      "source": [
        "METRICS = [ ## Model evaluation metrics\n",
        "      keras.metrics.TruePositives(name='tp'),\n",
        "      keras.metrics.FalsePositives(name='fp'),\n",
        "      keras.metrics.TrueNegatives(name='tn'),\n",
        "      keras.metrics.FalseNegatives(name='fn'), \n",
        "      keras.metrics.BinaryAccuracy(name='accuracy'),\n",
        "      keras.metrics.Precision(name='precision'),\n",
        "      keras.metrics.Recall(name='recall'),\n",
        "      keras.metrics.AUC(name='auc'),\n",
        "]\n",
        "\n",
        "def make_model(metrics=METRICS, output_bias=None):\n",
        "  if output_bias is not None:\n",
        "    output_bias = tf.keras.initializers.Constant(output_bias)\n",
        "  model = keras.Sequential([\n",
        "      keras.layers.Dense(\n",
        "          32, activation='relu',\n",
        "          input_shape=(X_train.shape[-1],)),\n",
        "      keras.layers.Dropout(0.5),\n",
        "      keras.layers.Dense(\n",
        "          32, activation='relu',\n",
        "          input_shape=(X_train.shape[-1],)),\n",
        "      keras.layers.Dropout(0.5),\n",
        "      keras.layers.Dense(1, activation='sigmoid',\n",
        "                         bias_initializer=output_bias),\n",
        "    \n",
        "  ])\n",
        "\n",
        "  model.compile(\n",
        "      optimizer=keras.optimizers.Adam(lr=1e-3),\n",
        "      loss=keras.losses.BinaryCrossentropy(),\n",
        "      metrics=metrics)\n",
        "\n",
        "  return model"
      ],
      "execution_count": 41,
      "outputs": []
    },
    {
      "cell_type": "code",
      "metadata": {
        "id": "yXgzwd0BF9Qi"
      },
      "source": [
        "EPOCHS = 150\n",
        "BATCH_SIZE = 1024\n",
        "\n",
        "early_stopping = tf.keras.callbacks.EarlyStopping( ## Callback regarding validation AUC performance\n",
        "    monitor='val_auc', \n",
        "    verbose=1,\n",
        "    patience=10,\n",
        "    mode='max',\n",
        "    restore_best_weights=True)"
      ],
      "execution_count": 42,
      "outputs": []
    },
    {
      "cell_type": "markdown",
      "metadata": {
        "id": "c3ZixLdsUky7"
      },
      "source": [
        "Since dataset is imbalanced, initial bias setting is an option so that the model will give much more reasonable initial guesses.\n",
        "The correct bias to set can be derived from:\n",
        "\n",
        "bias = $log(N_{pos} / N_{neg}) $\n"
      ]
    },
    {
      "cell_type": "code",
      "metadata": {
        "id": "gpbvyINMWPes"
      },
      "source": [
        "pos = len(np.where(y_train == 1)[0])\n",
        "neg =  len(np.where(y_train == 0)[0])\n",
        "total = pos + neg\n",
        "initial_bias = np.log(pos/neg)"
      ],
      "execution_count": 43,
      "outputs": []
    },
    {
      "cell_type": "code",
      "metadata": {
        "colab": {
          "base_uri": "https://localhost:8080/"
        },
        "id": "xDTEWuFe1GTx",
        "outputId": "0aa154e6-d609-4c02-e221-1402f5459c06"
      },
      "source": [
        "model = make_model(output_bias =initial_bias)\n",
        "model.summary()"
      ],
      "execution_count": 44,
      "outputs": [
        {
          "output_type": "stream",
          "text": [
            "Model: \"sequential\"\n",
            "_________________________________________________________________\n",
            "Layer (type)                 Output Shape              Param #   \n",
            "=================================================================\n",
            "dense (Dense)                (None, 32)                1344      \n",
            "_________________________________________________________________\n",
            "dropout (Dropout)            (None, 32)                0         \n",
            "_________________________________________________________________\n",
            "dense_1 (Dense)              (None, 32)                1056      \n",
            "_________________________________________________________________\n",
            "dropout_1 (Dropout)          (None, 32)                0         \n",
            "_________________________________________________________________\n",
            "dense_2 (Dense)              (None, 1)                 33        \n",
            "=================================================================\n",
            "Total params: 2,433\n",
            "Trainable params: 2,433\n",
            "Non-trainable params: 0\n",
            "_________________________________________________________________\n"
          ],
          "name": "stdout"
        }
      ]
    },
    {
      "cell_type": "code",
      "metadata": {
        "colab": {
          "base_uri": "https://localhost:8080/"
        },
        "id": "PKCtLliEYcnT",
        "outputId": "5ff68a7f-8b8e-4a60-ce34-a0f3cc637848"
      },
      "source": [
        "# Scaling by total/2 helps keep the loss to a similar magnitude. Just like in the logistic regression example.\n",
        "\n",
        "weight_for_0 = (1 / neg)*(total)/2.0 \n",
        "weight_for_1 = (1 / pos)*(total)/2.0\n",
        "\n",
        "class_weight = {0: weight_for_0, 1: weight_for_1}\n",
        "\n",
        "print('Weight for class 0: {:.2f}'.format(weight_for_0))\n",
        "print('Weight for class 1: {:.2f}'.format(weight_for_1))"
      ],
      "execution_count": 45,
      "outputs": [
        {
          "output_type": "stream",
          "text": [
            "Weight for class 0: 0.54\n",
            "Weight for class 1: 6.78\n"
          ],
          "name": "stdout"
        }
      ]
    },
    {
      "cell_type": "code",
      "metadata": {
        "id": "5A5LoSBBYxYs"
      },
      "source": [
        "## I cleared the output of this cell. It was looking messy.\n",
        "\n",
        "history = model.fit(\n",
        "    X_train,\n",
        "    y_train,\n",
        "    batch_size=BATCH_SIZE,\n",
        "    epochs=EPOCHS,\n",
        "    callbacks=[early_stopping],\n",
        "    validation_split = 0.2,\n",
        "    class_weight=class_weight)"
      ],
      "execution_count": null,
      "outputs": []
    },
    {
      "cell_type": "code",
      "metadata": {
        "id": "OcnPNtRbZbj4"
      },
      "source": [
        "train_predictions_weighted = model.predict(X_train, batch_size=BATCH_SIZE)\n",
        "test_predictions_weighted = model.predict(X_test, batch_size=BATCH_SIZE)"
      ],
      "execution_count": 47,
      "outputs": []
    },
    {
      "cell_type": "code",
      "metadata": {
        "id": "EwXTWxKgZuDi"
      },
      "source": [
        "def plot_cm(labels, predictions, p=0.5): ## Plot Confusion Matrix\n",
        "  cm = confusion_matrix(labels, predictions > p)\n",
        "  plt.figure(figsize=(5,5))\n",
        "  sns.heatmap(cm, annot=True, fmt=\"d\")\n",
        "  plt.title('Confusion matrix @0.5 Threshold')\n",
        "  plt.ylabel('Actual label')\n",
        "  plt.xlabel('Predicted label')\n",
        "\n",
        "  print('True Negatives: ', cm[0][0])\n",
        "  print('False Positives: ', cm[0][1])\n",
        "  print('False Negatives: ', cm[1][0])\n",
        "  print('True Positives: ', cm[1][1])\n",
        "  print('Total Positives: ', np.sum(cm[1]))"
      ],
      "execution_count": 48,
      "outputs": []
    },
    {
      "cell_type": "code",
      "metadata": {
        "id": "zRtr46RXbMEE"
      },
      "source": [
        "def plot_roc(name, labels, predictions, **kwargs): ## Plot ROC curve\n",
        "  fp, tp, _ = sklearn.metrics.roc_curve(labels, predictions)\n",
        "\n",
        "  plt.plot(100*fp, 100*tp, label=name, linewidth=2, **kwargs)\n",
        "  plt.xlabel('False positives [%]')\n",
        "  plt.ylabel('True positives [%]')\n",
        "  plt.xlim([-0.5,20])\n",
        "  plt.ylim([0,100.5])\n",
        "  plt.grid(True)\n",
        "  ax = plt.gca()"
      ],
      "execution_count": 49,
      "outputs": []
    },
    {
      "cell_type": "code",
      "metadata": {
        "colab": {
          "base_uri": "https://localhost:8080/",
          "height": 605
        },
        "id": "SkZTzIcbZiwU",
        "outputId": "47912a2b-0940-44db-a652-721253b7a0fb"
      },
      "source": [
        "results = model.evaluate(X_test, y_test,\n",
        "                                           batch_size=BATCH_SIZE, verbose=0)\n",
        "for name, value in zip(model.metrics_names, results):\n",
        "  print(name, ': ', value)\n",
        "print()\n",
        "\n",
        "plot_cm(y_test, test_predictions_weighted)"
      ],
      "execution_count": 50,
      "outputs": [
        {
          "output_type": "stream",
          "text": [
            "loss :  0.3090350329875946\n",
            "tp :  500.0\n",
            "fp :  1212.0\n",
            "tn :  6251.0\n",
            "fn :  37.0\n",
            "accuracy :  0.843874990940094\n",
            "precision :  0.2920560836791992\n",
            "recall :  0.9310986995697021\n",
            "auc :  0.947228193283081\n",
            "\n",
            "True Negatives:  6251\n",
            "False Positives:  1212\n",
            "False Negatives:  37\n",
            "True Positives:  500\n",
            "Total Positives:  537\n"
          ],
          "name": "stdout"
        },
        {
          "output_type": "display_data",
          "data": {
            "image/png": "[encoded data removed]",
            "text/plain": [
              "<Figure size 360x360 with 2 Axes>"
            ]
          },
          "metadata": {
            "tags": [],
            "needs_background": "light"
          }
        }
      ]
    },
    {
      "cell_type": "markdown",
      "metadata": {
        "id": "JikaHGtGzagR"
      },
      "source": [
        "**Recall** is calculated as the ratio of the number of true positives divided by the sum of the true positives and the false negatives. Recall is the same as sensitivity.\n",
        "\n",
        "Recall = True Positives / (True Positives + False Negatives)\n",
        "\n",
        "A plot of the false positive rate (x-axis) versus the true positive rate (y-axis) for a range of candidate threshold values between 0.0 and 1.0 is known as a **ROC Curve**. It charts the false alarm rate against the hit rate, to put it another way. \n",
        "The ROC curve is useful for a variety of reasons: \n",
        "Different models' curves can be specifically compared in general or with different thresholds. \n",
        "The model's capability can be summed using the field under the curve in other words **AUC** (Area Under Curve)."
      ]
    },
    {
      "cell_type": "code",
      "metadata": {
        "colab": {
          "base_uri": "https://localhost:8080/",
          "height": 299
        },
        "id": "roNQtzXsapyU",
        "outputId": "a8f538cc-c0bf-449c-bc11-4ef006db8ca4"
      },
      "source": [
        "colors = plt.rcParams['axes.prop_cycle'].by_key()['color']\n",
        "plot_roc(\"Train Weighted\", y_train, train_predictions_weighted, color=colors[0])\n",
        "plot_roc(\"Test Weighted\", y_test, test_predictions_weighted, color=colors[1], linestyle='--')\n",
        "\n",
        "\n",
        "plt.legend(loc='lower right')"
      ],
      "execution_count": 51,
      "outputs": [
        {
          "output_type": "execute_result",
          "data": {
            "text/plain": [
              "<matplotlib.legend.Legend at 0x7f790e57b190>"
            ]
          },
          "metadata": {
            "tags": []
          },
          "execution_count": 51
        },
        {
          "output_type": "display_data",
          "data": {
            "image/png": "[encoded data removed]",
            "text/plain": [
              "<Figure size 432x288 with 1 Axes>"
            ]
          },
          "metadata": {
            "tags": [],
            "needs_background": "light"
          }
        }
      ]
    },
    {
      "cell_type": "markdown",
      "metadata": {
        "id": "2hwYCg3SeEOt"
      },
      "source": [
        "# Comparison between \"Logistic Regression\" and \"Neural Net\"."
      ]
    },
    {
      "cell_type": "code",
      "metadata": {
        "colab": {
          "base_uri": "https://localhost:8080/"
        },
        "id": "8i67YOMDqV-1",
        "outputId": "08413d63-31c2-4ce0-e62e-c207bc75b979"
      },
      "source": [
        "print(f'Recall of Logistic regression model is {true_pos_rate}%')\n",
        "print(f'Recall of Neural net model is {round(results[7] * 100 , 3)}%')"
      ],
      "execution_count": 52,
      "outputs": [
        {
          "output_type": "stream",
          "text": [
            "Recall of Logistic regression model is 87.34%\n",
            "Recall of Neural net model is 93.11%\n"
          ],
          "name": "stdout"
        }
      ]
    },
    {
      "cell_type": "markdown",
      "metadata": {
        "id": "c8spjC5nfmWA"
      },
      "source": [
        "Neural network gives better recall ratewhich allows us the find more appropriate customers "
      ]
    },
    {
      "cell_type": "markdown",
      "metadata": {
        "id": "z0gRtLuYnlp5"
      },
      "source": [
        "# References"
      ]
    },
    {
      "cell_type": "markdown",
      "metadata": {
        "id": "wjY0Hvx7rKpX"
      },
      "source": [
        "\n",
        "https://www.tensorflow.org/tutorials/structured_data/imbalanced_data"
      ]
    },
    {
      "cell_type": "markdown",
      "metadata": {
        "id": "JtBTbxYcjBYn"
      },
      "source": [
        "# Bonus Questions\n",
        "\n",
        "Which features are the most important?"
      ]
    },
    {
      "cell_type": "code",
      "metadata": {
        "id": "J3R4Jxkrddfj"
      },
      "source": [
        "importance = list(log_reg_weighted.coef_[0]) ## Coefficient of features\n",
        "features =  list(all_data.columns.values) ## Feature names"
      ],
      "execution_count": 53,
      "outputs": []
    },
    {
      "cell_type": "code",
      "metadata": {
        "colab": {
          "base_uri": "https://localhost:8080/",
          "height": 266
        },
        "id": "5EGv_nMSjLjk",
        "outputId": "5bdfa6cc-6fdb-44e9-804d-b476389d5745"
      },
      "source": [
        "feature_score = []\n",
        "for i in range(len(importance)) :\n",
        "  feature_score.append([importance[i], features[i]])\n",
        "plt.bar([x for x in range(len(importance))], importance) ## Pie bar of the features.\n",
        "plt.show()"
      ],
      "execution_count": 54,
      "outputs": [
        {
          "output_type": "display_data",
          "data": {
            "image/png": "[encoded data removed]",
            "text/plain": [
              "<Figure size 432x288 with 1 Axes>"
            ]
          },
          "metadata": {
            "tags": [],
            "needs_background": "light"
          }
        }
      ]
    },
    {
      "cell_type": "code",
      "metadata": {
        "id": "qTSIyNGNjST4"
      },
      "source": [
        "feature_score = sorted(feature_score, key=lambda x: abs(x[0]), reverse=True)"
      ],
      "execution_count": 55,
      "outputs": []
    },
    {
      "cell_type": "code",
      "metadata": {
        "colab": {
          "base_uri": "https://localhost:8080/"
        },
        "id": "P_JJA6Otjb_8",
        "outputId": "56cf1ca6-71f8-4f46-d61e-b7d9b8dee9b9"
      },
      "source": [
        "print(\"Most important 10 feature is: \")\n",
        "for x in range(1,11) :\n",
        "  print(f'{x}. {feature_score[x-1][1]} with score {round(feature_score[x-1][0],2)}')"
      ],
      "execution_count": 56,
      "outputs": [
        {
          "output_type": "stream",
          "text": [
            "Most important 10 feature is: \n",
            "1. duration with score 1.92\n",
            "2. contact_unknown with score -0.55\n",
            "3. month_jan with score -0.51\n",
            "4. contact_cellular with score 0.44\n",
            "5. month_jun with score 0.43\n",
            "6. housing with score -0.41\n",
            "7. month_aug with score -0.39\n",
            "8. month_jul with score -0.36\n",
            "9. month_apr with score 0.29\n",
            "10. month_feb with score 0.28\n"
          ],
          "name": "stdout"
        }
      ]
    },
    {
      "cell_type": "code",
      "metadata": {
        "colab": {
          "base_uri": "https://localhost:8080/"
        },
        "id": "d9-f5Q9gs0I1",
        "outputId": "a7fac613-92ae-4cee-ca69-88f36c357cff"
      },
      "source": [
        "print(\"Importance ranking of all features:\")\n",
        "for x in range(1,42) :\n",
        "  print(f'{x}. {feature_score[x-1][1]} with score {round(feature_score[x-1][0],2)}')"
      ],
      "execution_count": 57,
      "outputs": [
        {
          "output_type": "stream",
          "text": [
            "Importance ranking of all features:\n",
            "1. duration with score 1.92\n",
            "2. contact_unknown with score -0.55\n",
            "3. month_jan with score -0.51\n",
            "4. contact_cellular with score 0.44\n",
            "5. month_jun with score 0.43\n",
            "6. housing with score -0.41\n",
            "7. month_aug with score -0.39\n",
            "8. month_jul with score -0.36\n",
            "9. month_apr with score 0.29\n",
            "10. month_feb with score 0.28\n",
            "11. month_mar with score 0.27\n",
            "12. month_oct with score 0.24\n",
            "13. day with score 0.23\n",
            "14. loan with score -0.18\n",
            "15. month_may with score 0.18\n",
            "16. contact_telephone with score 0.18\n",
            "17. month_nov with score -0.15\n",
            "18. campaign with score -0.13\n",
            "19. education_tertiary with score 0.1\n",
            "20. month_dec with score -0.1\n",
            "21. job_retired with score 0.09\n",
            "22. job_housemaid with score -0.09\n",
            "23. job_admin with score 0.08\n",
            "24. job_services with score -0.08\n",
            "25. job_technician with score 0.07\n",
            "26. age with score -0.07\n",
            "27. job_student with score 0.06\n",
            "28. marital_married with score -0.06\n",
            "29. job_blue-collar with score -0.06\n",
            "30. education_primary with score -0.06\n",
            "31. marital_divorced with score 0.04\n",
            "32. default with score 0.04\n",
            "33. job_entrepreneur with score -0.04\n",
            "34. balance with score 0.04\n",
            "35. marital_single with score 0.04\n",
            "36. education_secondary with score -0.04\n",
            "37. education_unknown with score -0.03\n",
            "38. job_self-employed with score -0.01\n",
            "39. job_unknown with score 0.01\n",
            "40. job_unemployed with score -0.01\n",
            "41. job_management with score -0.0\n"
          ],
          "name": "stdout"
        }
      ]
    },
    {
      "cell_type": "markdown",
      "metadata": {
        "id": "qONO3vHNvJan"
      },
      "source": [
        "Positive values are features that increase customer subscription probability, while negative values are the opposite."
      ]
    },
    {
      "cell_type": "markdown",
      "metadata": {
        "id": "qh-GlQE54Xa2"
      },
      "source": [
        "# What makes customers buy"
      ]
    },
    {
      "cell_type": "markdown",
      "metadata": {
        "id": "tP0EuKgAswwF"
      },
      "source": [
        "**1- Duration :** The longer the salesman can keep the customer on the line, the higher the chances that he or she will subscribe to the term deposit. This is an expected situation. If the customer is already interested in the term deposit, he/she will ask more questions about it. The company can hire more salesman to take care of customers better."
      ]
    },
    {
      "cell_type": "markdown",
      "metadata": {
        "id": "McngfG-JsmYD"
      },
      "source": [
        "**2-Contact type:** If the employee reaches out to potential customers via cellular phone, subscription to term deposit is more likely compared to other methods. There is also a positive impact of telephone contact but is not as high as cellular contact."
      ]
    },
    {
      "cell_type": "markdown",
      "metadata": {
        "id": "FWh3fkvBsmjV"
      },
      "source": [
        "**3-Contact Month:** Reaching the potential customer in the appropriate month also stands out as a factor that helps the subscription process. Especially in the spring (March, April, May) and June months, while the customers reached are getting closer to subscribing, we see this situation reversing in January, August and July."
      ]
    },
    {
      "cell_type": "markdown",
      "metadata": {
        "id": "3qQt0poy4Twy"
      },
      "source": [
        "# Target Customer Group"
      ]
    },
    {
      "cell_type": "markdown",
      "metadata": {
        "id": "UuCQZ_cZ4ff6"
      },
      "source": [
        "1- No housing or personal loan\n",
        "\n",
        "2- Tertiary education\n",
        "3- Aim to retired, admin and technician workers\n",
        "\n",
        "4- Target the younger people and younger segment in retired segment (Just retired maybe). \n",
        "\n",
        "5- Divorced or single people.\n",
        "\n",
        "**All these inferences are interpreted in the order of importance scheme given above.**"
      ]
    }
  ]
}