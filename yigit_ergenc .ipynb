{
  "nbformat": 4,
  "nbformat_minor": 0,
  "metadata": {
    "colab": {
      "name": "Apziva-TermDepositSubscription.ipynb",
      "provenance": [],
      "collapsed_sections": []
    },
    "kernelspec": {
      "display_name": "Python 3",
      "name": "python3"
    }
  },
  "cells": [
    {
      "cell_type": "code",
      "metadata": {
        "id": "ZWl4OZWGU6u0"
      },
      "source": [
        "import pandas as pd\n",
        "import numpy as np\n",
        "from sklearn.model_selection import train_test_split, cross_val_score\n",
        "from sklearn.preprocessing import StandardScaler\n",
        "from sklearn.linear_model import LogisticRegressionCV, LogisticRegression\n",
        "import matplotlib.pyplot as plt\n",
        "import seaborn as sns\n",
        "from sklearn import metrics"
      ],
      "execution_count": 1,
      "outputs": []
    },
    {
      "cell_type": "code",
      "metadata": {
        "colab": {
          "base_uri": "https://localhost:8080/"
        },
        "id": "FUdxBAxvTed4",
        "outputId": "19e49b53-607a-4ef9-fc72-7ae1ba760eb9"
      },
      "source": [
        "!gdown --id 1dsXb5b3nrv5tGSc7gFobqIeGhGrfsOkz ## Download data from drive"
      ],
      "execution_count": 2,
      "outputs": [
        {
          "output_type": "stream",
          "text": [
            "Downloading...\n",
            "From: https://drive.google.com/uc?id=1dsXb5b3nrv5tGSc7gFobqIeGhGrfsOkz\n",
            "To: /content/term-deposit-marketing-2020.csv\n",
            "\r0.00B [00:00, ?B/s]\r2.79MB [00:00, 87.6MB/s]\n"
          ],
          "name": "stdout"
        }
      ]
    },
    {
      "cell_type": "code",
      "metadata": {
        "id": "hS6DzXizVcCV"
      },
      "source": [
        "all_data = pd.read_csv('/content/term-deposit-marketing-2020.csv') # Import dataset\n",
        "y_output = all_data['y'] ## Output\n",
        "all_data = all_data.drop('y', axis = 1) ## Input\n",
        "y_output = y_output.to_frame()\n",
        "y_output = y_output.rename(columns = {\"y\": \"Subscribed\"}) ## Rename output Column"
      ],
      "execution_count": 3,
      "outputs": []
    },
    {
      "cell_type": "code",
      "metadata": {
        "colab": {
          "base_uri": "https://localhost:8080/",
          "height": 204
        },
        "id": "ZTgwd2xgVP2A",
        "outputId": "ab30f20e-d819-4fad-a4d3-8454703f3815"
      },
      "source": [
        "all_data.head() ## Take a peek to the data"
      ],
      "execution_count": 4,
      "outputs": [
        {
          "output_type": "execute_result",
          "data": {
            "text/html": [
              "<div>\n",
              "<style scoped>\n",
              "    .dataframe tbody tr th:only-of-type {\n",
              "        vertical-align: middle;\n",
              "    }\n",
              "\n",
              "    .dataframe tbody tr th {\n",
              "        vertical-align: top;\n",
              "    }\n",
              "\n",
              "    .dataframe thead th {\n",
              "        text-align: right;\n",
              "    }\n",
              "</style>\n",
              "<table border=\"1\" class=\"dataframe\">\n",
              "  <thead>\n",
              "    <tr style=\"text-align: right;\">\n",
              "      <th></th>\n",
              "      <th>age</th>\n",
              "      <th>job</th>\n",
              "      <th>marital</th>\n",
              "      <th>education</th>\n",
              "      <th>default</th>\n",
              "      <th>balance</th>\n",
              "      <th>housing</th>\n",
              "      <th>loan</th>\n",
              "      <th>contact</th>\n",
              "      <th>day</th>\n",
              "      <th>month</th>\n",
              "      <th>duration</th>\n",
              "      <th>campaign</th>\n",
              "    </tr>\n",
              "  </thead>\n",
              "  <tbody>\n",
              "    <tr>\n",
              "      <th>0</th>\n",
              "      <td>58</td>\n",
              "      <td>management</td>\n",
              "      <td>married</td>\n",
              "      <td>tertiary</td>\n",
              "      <td>no</td>\n",
              "      <td>2143</td>\n",
              "      <td>yes</td>\n",
              "      <td>no</td>\n",
              "      <td>unknown</td>\n",
              "      <td>5</td>\n",
              "      <td>may</td>\n",
              "      <td>261</td>\n",
              "      <td>1</td>\n",
              "    </tr>\n",
              "    <tr>\n",
              "      <th>1</th>\n",
              "      <td>44</td>\n",
              "      <td>technician</td>\n",
              "      <td>single</td>\n",
              "      <td>secondary</td>\n",
              "      <td>no</td>\n",
              "      <td>29</td>\n",
              "      <td>yes</td>\n",
              "      <td>no</td>\n",
              "      <td>unknown</td>\n",
              "      <td>5</td>\n",
              "      <td>may</td>\n",
              "      <td>151</td>\n",
              "      <td>1</td>\n",
              "    </tr>\n",
              "    <tr>\n",
              "      <th>2</th>\n",
              "      <td>33</td>\n",
              "      <td>entrepreneur</td>\n",
              "      <td>married</td>\n",
              "      <td>secondary</td>\n",
              "      <td>no</td>\n",
              "      <td>2</td>\n",
              "      <td>yes</td>\n",
              "      <td>yes</td>\n",
              "      <td>unknown</td>\n",
              "      <td>5</td>\n",
              "      <td>may</td>\n",
              "      <td>76</td>\n",
              "      <td>1</td>\n",
              "    </tr>\n",
              "    <tr>\n",
              "      <th>3</th>\n",
              "      <td>47</td>\n",
              "      <td>blue-collar</td>\n",
              "      <td>married</td>\n",
              "      <td>unknown</td>\n",
              "      <td>no</td>\n",
              "      <td>1506</td>\n",
              "      <td>yes</td>\n",
              "      <td>no</td>\n",
              "      <td>unknown</td>\n",
              "      <td>5</td>\n",
              "      <td>may</td>\n",
              "      <td>92</td>\n",
              "      <td>1</td>\n",
              "    </tr>\n",
              "    <tr>\n",
              "      <th>4</th>\n",
              "      <td>33</td>\n",
              "      <td>unknown</td>\n",
              "      <td>single</td>\n",
              "      <td>unknown</td>\n",
              "      <td>no</td>\n",
              "      <td>1</td>\n",
              "      <td>no</td>\n",
              "      <td>no</td>\n",
              "      <td>unknown</td>\n",
              "      <td>5</td>\n",
              "      <td>may</td>\n",
              "      <td>198</td>\n",
              "      <td>1</td>\n",
              "    </tr>\n",
              "  </tbody>\n",
              "</table>\n",
              "</div>"
            ],
            "text/plain": [
              "   age           job  marital  education  ... day  month duration campaign\n",
              "0   58    management  married   tertiary  ...   5    may      261        1\n",
              "1   44    technician   single  secondary  ...   5    may      151        1\n",
              "2   33  entrepreneur  married  secondary  ...   5    may       76        1\n",
              "3   47   blue-collar  married    unknown  ...   5    may       92        1\n",
              "4   33       unknown   single    unknown  ...   5    may      198        1\n",
              "\n",
              "[5 rows x 13 columns]"
            ]
          },
          "metadata": {
            "tags": []
          },
          "execution_count": 4
        }
      ]
    },
    {
      "cell_type": "code",
      "metadata": {
        "colab": {
          "base_uri": "https://localhost:8080/",
          "height": 419
        },
        "id": "iJ8p1_TYVRVU",
        "outputId": "09dcfbde-38f1-4aa1-a5e6-3de574411769"
      },
      "source": [
        "# Convert categorical output to binary output\n",
        "y_binary = pd.get_dummies(y_output[\"Subscribed\"])  \n",
        "y_binary = y_binary.drop(columns=\"no\", axis = 1) ## Drop no categorical value and use yes categorical value.\n",
        "y_binary = y_binary.rename(columns={\"yes\" : \"Subscribed\"}) ## Rename it so that we can easily understand 0 means Not subscribed 1 means subscribed\n",
        "y_output = y_binary\n",
        "y_output"
      ],
      "execution_count": 5,
      "outputs": [
        {
          "output_type": "execute_result",
          "data": {
            "text/html": [
              "<div>\n",
              "<style scoped>\n",
              "    .dataframe tbody tr th:only-of-type {\n",
              "        vertical-align: middle;\n",
              "    }\n",
              "\n",
              "    .dataframe tbody tr th {\n",
              "        vertical-align: top;\n",
              "    }\n",
              "\n",
              "    .dataframe thead th {\n",
              "        text-align: right;\n",
              "    }\n",
              "</style>\n",
              "<table border=\"1\" class=\"dataframe\">\n",
              "  <thead>\n",
              "    <tr style=\"text-align: right;\">\n",
              "      <th></th>\n",
              "      <th>Subscribed</th>\n",
              "    </tr>\n",
              "  </thead>\n",
              "  <tbody>\n",
              "    <tr>\n",
              "      <th>0</th>\n",
              "      <td>0</td>\n",
              "    </tr>\n",
              "    <tr>\n",
              "      <th>1</th>\n",
              "      <td>0</td>\n",
              "    </tr>\n",
              "    <tr>\n",
              "      <th>2</th>\n",
              "      <td>0</td>\n",
              "    </tr>\n",
              "    <tr>\n",
              "      <th>3</th>\n",
              "      <td>0</td>\n",
              "    </tr>\n",
              "    <tr>\n",
              "      <th>4</th>\n",
              "      <td>0</td>\n",
              "    </tr>\n",
              "    <tr>\n",
              "      <th>...</th>\n",
              "      <td>...</td>\n",
              "    </tr>\n",
              "    <tr>\n",
              "      <th>39995</th>\n",
              "      <td>0</td>\n",
              "    </tr>\n",
              "    <tr>\n",
              "      <th>39996</th>\n",
              "      <td>1</td>\n",
              "    </tr>\n",
              "    <tr>\n",
              "      <th>39997</th>\n",
              "      <td>1</td>\n",
              "    </tr>\n",
              "    <tr>\n",
              "      <th>39998</th>\n",
              "      <td>0</td>\n",
              "    </tr>\n",
              "    <tr>\n",
              "      <th>39999</th>\n",
              "      <td>0</td>\n",
              "    </tr>\n",
              "  </tbody>\n",
              "</table>\n",
              "<p>40000 rows × 1 columns</p>\n",
              "</div>"
            ],
            "text/plain": [
              "       Subscribed\n",
              "0               0\n",
              "1               0\n",
              "2               0\n",
              "3               0\n",
              "4               0\n",
              "...           ...\n",
              "39995           0\n",
              "39996           1\n",
              "39997           1\n",
              "39998           0\n",
              "39999           0\n",
              "\n",
              "[40000 rows x 1 columns]"
            ]
          },
          "metadata": {
            "tags": []
          },
          "execution_count": 5
        }
      ]
    },
    {
      "cell_type": "code",
      "metadata": {
        "colab": {
          "base_uri": "https://localhost:8080/",
          "height": 204
        },
        "id": "BIcwrnnkj0Xr",
        "outputId": "d2785416-b3fa-4483-aa74-bfb3959237a6"
      },
      "source": [
        "df = pd.read_csv('/content/term-deposit-marketing-2020.csv') ## Compare feature dataframe\n",
        "df = df.drop(['y'], axis = 1)\n",
        "df['Subscribed'] = y_binary\n",
        "df.head()"
      ],
      "execution_count": 6,
      "outputs": [
        {
          "output_type": "execute_result",
          "data": {
            "text/html": [
              "<div>\n",
              "<style scoped>\n",
              "    .dataframe tbody tr th:only-of-type {\n",
              "        vertical-align: middle;\n",
              "    }\n",
              "\n",
              "    .dataframe tbody tr th {\n",
              "        vertical-align: top;\n",
              "    }\n",
              "\n",
              "    .dataframe thead th {\n",
              "        text-align: right;\n",
              "    }\n",
              "</style>\n",
              "<table border=\"1\" class=\"dataframe\">\n",
              "  <thead>\n",
              "    <tr style=\"text-align: right;\">\n",
              "      <th></th>\n",
              "      <th>age</th>\n",
              "      <th>job</th>\n",
              "      <th>marital</th>\n",
              "      <th>education</th>\n",
              "      <th>default</th>\n",
              "      <th>balance</th>\n",
              "      <th>housing</th>\n",
              "      <th>loan</th>\n",
              "      <th>contact</th>\n",
              "      <th>day</th>\n",
              "      <th>month</th>\n",
              "      <th>duration</th>\n",
              "      <th>campaign</th>\n",
              "      <th>Subscribed</th>\n",
              "    </tr>\n",
              "  </thead>\n",
              "  <tbody>\n",
              "    <tr>\n",
              "      <th>0</th>\n",
              "      <td>58</td>\n",
              "      <td>management</td>\n",
              "      <td>married</td>\n",
              "      <td>tertiary</td>\n",
              "      <td>no</td>\n",
              "      <td>2143</td>\n",
              "      <td>yes</td>\n",
              "      <td>no</td>\n",
              "      <td>unknown</td>\n",
              "      <td>5</td>\n",
              "      <td>may</td>\n",
              "      <td>261</td>\n",
              "      <td>1</td>\n",
              "      <td>0</td>\n",
              "    </tr>\n",
              "    <tr>\n",
              "      <th>1</th>\n",
              "      <td>44</td>\n",
              "      <td>technician</td>\n",
              "      <td>single</td>\n",
              "      <td>secondary</td>\n",
              "      <td>no</td>\n",
              "      <td>29</td>\n",
              "      <td>yes</td>\n",
              "      <td>no</td>\n",
              "      <td>unknown</td>\n",
              "      <td>5</td>\n",
              "      <td>may</td>\n",
              "      <td>151</td>\n",
              "      <td>1</td>\n",
              "      <td>0</td>\n",
              "    </tr>\n",
              "    <tr>\n",
              "      <th>2</th>\n",
              "      <td>33</td>\n",
              "      <td>entrepreneur</td>\n",
              "      <td>married</td>\n",
              "      <td>secondary</td>\n",
              "      <td>no</td>\n",
              "      <td>2</td>\n",
              "      <td>yes</td>\n",
              "      <td>yes</td>\n",
              "      <td>unknown</td>\n",
              "      <td>5</td>\n",
              "      <td>may</td>\n",
              "      <td>76</td>\n",
              "      <td>1</td>\n",
              "      <td>0</td>\n",
              "    </tr>\n",
              "    <tr>\n",
              "      <th>3</th>\n",
              "      <td>47</td>\n",
              "      <td>blue-collar</td>\n",
              "      <td>married</td>\n",
              "      <td>unknown</td>\n",
              "      <td>no</td>\n",
              "      <td>1506</td>\n",
              "      <td>yes</td>\n",
              "      <td>no</td>\n",
              "      <td>unknown</td>\n",
              "      <td>5</td>\n",
              "      <td>may</td>\n",
              "      <td>92</td>\n",
              "      <td>1</td>\n",
              "      <td>0</td>\n",
              "    </tr>\n",
              "    <tr>\n",
              "      <th>4</th>\n",
              "      <td>33</td>\n",
              "      <td>unknown</td>\n",
              "      <td>single</td>\n",
              "      <td>unknown</td>\n",
              "      <td>no</td>\n",
              "      <td>1</td>\n",
              "      <td>no</td>\n",
              "      <td>no</td>\n",
              "      <td>unknown</td>\n",
              "      <td>5</td>\n",
              "      <td>may</td>\n",
              "      <td>198</td>\n",
              "      <td>1</td>\n",
              "      <td>0</td>\n",
              "    </tr>\n",
              "  </tbody>\n",
              "</table>\n",
              "</div>"
            ],
            "text/plain": [
              "   age           job  marital  education  ... month  duration campaign Subscribed\n",
              "0   58    management  married   tertiary  ...   may       261        1          0\n",
              "1   44    technician   single  secondary  ...   may       151        1          0\n",
              "2   33  entrepreneur  married  secondary  ...   may        76        1          0\n",
              "3   47   blue-collar  married    unknown  ...   may        92        1          0\n",
              "4   33       unknown   single    unknown  ...   may       198        1          0\n",
              "\n",
              "[5 rows x 14 columns]"
            ]
          },
          "metadata": {
            "tags": []
          },
          "execution_count": 6
        }
      ]
    },
    {
      "cell_type": "markdown",
      "metadata": {
        "id": "XLIL2R_KbplC"
      },
      "source": [
        "# Feature Selection "
      ]
    },
    {
      "cell_type": "code",
      "metadata": {
        "colab": {
          "base_uri": "https://localhost:8080/"
        },
        "id": "sKZIXxDDi2yZ",
        "outputId": "9e804ff3-ed87-4c5e-e1a2-c4aaa8fadf59"
      },
      "source": [
        "df.groupby('marital')['Subscribed'].value_counts(normalize = True) * 100 ## Percentage of customers whose subscribed or not, considering their marriage status"
      ],
      "execution_count": 7,
      "outputs": [
        {
          "output_type": "execute_result",
          "data": {
            "text/plain": [
              "marital   Subscribed\n",
              "divorced  0             91.724868\n",
              "          1              8.275132\n",
              "married   0             93.939145\n",
              "          1              6.060855\n",
              "single    0             90.568464\n",
              "          1              9.431536\n",
              "Name: Subscribed, dtype: float64"
            ]
          },
          "metadata": {
            "tags": []
          },
          "execution_count": 7
        }
      ]
    },
    {
      "cell_type": "code",
      "metadata": {
        "colab": {
          "base_uri": "https://localhost:8080/"
        },
        "id": "uXBP6xGvkI6l",
        "outputId": "2f64dff6-b383-4545-ea04-1da40fbf8fa9"
      },
      "source": [
        "df['marital'].isnull().values.any() ## Check if any NaN value"
      ],
      "execution_count": 8,
      "outputs": [
        {
          "output_type": "execute_result",
          "data": {
            "text/plain": [
              "False"
            ]
          },
          "metadata": {
            "tags": []
          },
          "execution_count": 8
        }
      ]
    },
    {
      "cell_type": "code",
      "metadata": {
        "colab": {
          "base_uri": "https://localhost:8080/"
        },
        "id": "AJntP1NKknyb",
        "outputId": "28f3fa0a-0ee8-4d27-b082-9169bb298758"
      },
      "source": [
        "df.groupby('housing')['Subscribed'].value_counts(normalize = True) * 100 ## Percentage of customers whose subscribed or not, considering their housing status"
      ],
      "execution_count": 9,
      "outputs": [
        {
          "output_type": "execute_result",
          "data": {
            "text/plain": [
              "housing  Subscribed\n",
              "no       0             91.032626\n",
              "         1              8.967374\n",
              "yes      0             93.907869\n",
              "         1              6.092131\n",
              "Name: Subscribed, dtype: float64"
            ]
          },
          "metadata": {
            "tags": []
          },
          "execution_count": 9
        }
      ]
    },
    {
      "cell_type": "code",
      "metadata": {
        "colab": {
          "base_uri": "https://localhost:8080/"
        },
        "id": "W2-oFS07pUU0",
        "outputId": "2df4c14c-b65f-4322-f0ce-0c8239bad498"
      },
      "source": [
        "df['housing'].isnull().values.any() ## Check if any NaN value"
      ],
      "execution_count": 10,
      "outputs": [
        {
          "output_type": "execute_result",
          "data": {
            "text/plain": [
              "False"
            ]
          },
          "metadata": {
            "tags": []
          },
          "execution_count": 10
        }
      ]
    },
    {
      "cell_type": "code",
      "metadata": {
        "colab": {
          "base_uri": "https://localhost:8080/"
        },
        "id": "ki0X52uVlRol",
        "outputId": "e2f613d8-20c0-48a4-8fbc-9f762df96ddc"
      },
      "source": [
        "df.groupby('loan')['Subscribed'].value_counts(normalize = True) * 100 ## Percentage of customers whose subscribed or not, considering their loan status"
      ],
      "execution_count": 11,
      "outputs": [
        {
          "output_type": "execute_result",
          "data": {
            "text/plain": [
              "loan  Subscribed\n",
              "no    0             92.391896\n",
              "      1              7.608104\n",
              "yes   0             94.516595\n",
              "      1              5.483405\n",
              "Name: Subscribed, dtype: float64"
            ]
          },
          "metadata": {
            "tags": []
          },
          "execution_count": 11
        }
      ]
    },
    {
      "cell_type": "code",
      "metadata": {
        "colab": {
          "base_uri": "https://localhost:8080/"
        },
        "id": "FxaVZXyOpYi7",
        "outputId": "a17f3fc3-1843-49c9-bbcf-265c17b68a42"
      },
      "source": [
        "df['loan'].isnull().values.any() ## Check if any NaN value"
      ],
      "execution_count": 12,
      "outputs": [
        {
          "output_type": "execute_result",
          "data": {
            "text/plain": [
              "False"
            ]
          },
          "metadata": {
            "tags": []
          },
          "execution_count": 12
        }
      ]
    },
    {
      "cell_type": "code",
      "metadata": {
        "colab": {
          "base_uri": "https://localhost:8080/"
        },
        "id": "ZMhc-gDRnFKz",
        "outputId": "0f7d42dd-533b-4a35-dd98-c57cd9b7a233"
      },
      "source": [
        "df.groupby('contact')['Subscribed'].value_counts(normalize = True) * 100 ## Percentage of customers whose subscribed or not, considering their contact status"
      ],
      "execution_count": 13,
      "outputs": [
        {
          "output_type": "execute_result",
          "data": {
            "text/plain": [
              "contact    Subscribed\n",
              "cellular   0             91.037168\n",
              "           1              8.962832\n",
              "telephone  0             92.847910\n",
              "           1              7.152090\n",
              "unknown    0             96.106541\n",
              "           1              3.893459\n",
              "Name: Subscribed, dtype: float64"
            ]
          },
          "metadata": {
            "tags": []
          },
          "execution_count": 13
        }
      ]
    },
    {
      "cell_type": "code",
      "metadata": {
        "colab": {
          "base_uri": "https://localhost:8080/"
        },
        "id": "bwRUVMfUnMz_",
        "outputId": "488afc6c-ec82-44c2-c8db-56e8a1488d96"
      },
      "source": [
        "df.groupby('job')['Subscribed'].value_counts(normalize = True) * 100 ## Percentage of customers whose subscribed or not, considering their job"
      ],
      "execution_count": 14,
      "outputs": [
        {
          "output_type": "execute_result",
          "data": {
            "text/plain": [
              "job            Subscribed\n",
              "admin          0             92.170422\n",
              "               1              7.829578\n",
              "blue-collar    0             94.298199\n",
              "               1              5.701801\n",
              "entrepreneur   0             93.736655\n",
              "               1              6.263345\n",
              "housemaid      0             95.124195\n",
              "               1              4.875805\n",
              "management     0             91.721773\n",
              "               1              8.278227\n",
              "retired        0             89.491997\n",
              "               1             10.508003\n",
              "self-employed  0             92.079208\n",
              "               1              7.920792\n",
              "services       0             93.913043\n",
              "               1              6.086957\n",
              "student        0             84.351145\n",
              "               1             15.648855\n",
              "technician     0             92.746643\n",
              "               1              7.253357\n",
              "unemployed     0             91.304348\n",
              "               1              8.695652\n",
              "unknown        0             92.765957\n",
              "               1              7.234043\n",
              "Name: Subscribed, dtype: float64"
            ]
          },
          "metadata": {
            "tags": []
          },
          "execution_count": 14
        }
      ]
    },
    {
      "cell_type": "code",
      "metadata": {
        "colab": {
          "base_uri": "https://localhost:8080/"
        },
        "id": "VIFH24m3ojBj",
        "outputId": "3df88810-bb57-4fc3-b04f-2b0f4f9e9dd1"
      },
      "source": [
        "df.groupby('default')['Subscribed'].value_counts(normalize = True) * 100 ## Percentage of customers whose subscribed or not, considering their default status"
      ],
      "execution_count": 15,
      "outputs": [
        {
          "output_type": "execute_result",
          "data": {
            "text/plain": [
              "default  Subscribed\n",
              "no       0             92.735577\n",
              "         1              7.264423\n",
              "yes      0             93.943140\n",
              "         1              6.056860\n",
              "Name: Subscribed, dtype: float64"
            ]
          },
          "metadata": {
            "tags": []
          },
          "execution_count": 15
        }
      ]
    },
    {
      "cell_type": "code",
      "metadata": {
        "colab": {
          "base_uri": "https://localhost:8080/"
        },
        "id": "PMB3nnGypM_q",
        "outputId": "5c7fd532-60ef-4148-81c8-acc4c3966bce"
      },
      "source": [
        "df.groupby(['education', 'marital'])['Subscribed'].value_counts(normalize = True) * 100 ## Percentage of customers whose subscribed or not, considering their education-marital status"
      ],
      "execution_count": 16,
      "outputs": [
        {
          "output_type": "execute_result",
          "data": {
            "text/plain": [
              "education  marital   Subscribed\n",
              "primary    divorced  0             90.644172\n",
              "                     1              9.355828\n",
              "           married   0             95.244003\n",
              "                     1              4.755997\n",
              "           single    0             92.071611\n",
              "                     1              7.928389\n",
              "secondary  divorced  0             92.501913\n",
              "                     1              7.498087\n",
              "           married   0             94.171975\n",
              "                     1              5.828025\n",
              "           single    0             91.579309\n",
              "                     1              8.420691\n",
              "tertiary   divorced  0             90.660592\n",
              "                     1              9.339408\n",
              "           married   0             92.382064\n",
              "                     1              7.617936\n",
              "           single    0             88.457584\n",
              "                     1             11.542416\n",
              "unknown    divorced  0             92.253521\n",
              "                     1              7.746479\n",
              "           married   0             94.046418\n",
              "                     1              5.953582\n",
              "           single    0             93.467337\n",
              "                     1              6.532663\n",
              "Name: Subscribed, dtype: float64"
            ]
          },
          "metadata": {
            "tags": []
          },
          "execution_count": 16
        }
      ]
    },
    {
      "cell_type": "code",
      "metadata": {
        "colab": {
          "base_uri": "https://localhost:8080/"
        },
        "id": "ERRf3gocpvGl",
        "outputId": "8b1024d0-7bb8-45a4-e66e-9ba2e31c2dd6"
      },
      "source": [
        "df.groupby(['month'])['Subscribed'].value_counts(normalize = True) * 100 ## Percentage of customers whose subscribed or not, considering  month "
      ],
      "execution_count": 17,
      "outputs": [
        {
          "output_type": "execute_result",
          "data": {
            "text/plain": [
              "month  Subscribed\n",
              "apr    0             83.406917\n",
              "       1             16.593083\n",
              "aug    0             94.477469\n",
              "       1              5.522531\n",
              "dec    0             92.307692\n",
              "       1              7.692308\n",
              "feb    0             88.893728\n",
              "       1             11.106272\n",
              "jan    0             96.768707\n",
              "       1              3.231293\n",
              "jul    0             93.981191\n",
              "       1              6.018809\n",
              "jun    0             93.789607\n",
              "       1              6.210393\n",
              "mar    0             51.550388\n",
              "       1             48.449612\n",
              "may    0             94.154597\n",
              "       1              5.845403\n",
              "nov    0             93.885492\n",
              "       1              6.114508\n",
              "oct    1             61.250000\n",
              "       0             38.750000\n",
              "Name: Subscribed, dtype: float64"
            ]
          },
          "metadata": {
            "tags": []
          },
          "execution_count": 17
        }
      ]
    },
    {
      "cell_type": "code",
      "metadata": {
        "colab": {
          "base_uri": "https://localhost:8080/"
        },
        "id": "gL76IaOhrPE-",
        "outputId": "7ea4741f-223e-4959-db2a-f81e779f2ba1"
      },
      "source": [
        "df.groupby(['day'])['Subscribed'].value_counts(normalize = True) * 100 ## Percentage of customers whose subscribed or not, considering day "
      ],
      "execution_count": 18,
      "outputs": [
        {
          "output_type": "execute_result",
          "data": {
            "text/plain": [
              "day  Subscribed\n",
              "1    0             77.272727\n",
              "     1             22.727273\n",
              "2    0             90.622182\n",
              "     1              9.377818\n",
              "3    0             90.846682\n",
              "                     ...    \n",
              "29   1              3.062500\n",
              "30   0             84.625944\n",
              "     1             15.374056\n",
              "31   0             95.600677\n",
              "     1              4.399323\n",
              "Name: Subscribed, Length: 62, dtype: float64"
            ]
          },
          "metadata": {
            "tags": []
          },
          "execution_count": 18
        }
      ]
    },
    {
      "cell_type": "code",
      "metadata": {
        "colab": {
          "base_uri": "https://localhost:8080/"
        },
        "id": "X8OhcveksXU5",
        "outputId": "3afa27fc-0b52-4fed-f5db-c2c5ed34aa5b"
      },
      "source": [
        "df['Subscribed'].value_counts()  ## Imbalanced Dataset"
      ],
      "execution_count": 19,
      "outputs": [
        {
          "output_type": "execute_result",
          "data": {
            "text/plain": [
              "0    37104\n",
              "1     2896\n",
              "Name: Subscribed, dtype: int64"
            ]
          },
          "metadata": {
            "tags": []
          },
          "execution_count": 19
        }
      ]
    },
    {
      "cell_type": "markdown",
      "metadata": {
        "id": "n6fWh15cu7fw"
      },
      "source": [
        "# Convert categorical variables to columns using One-Hot Encoding"
      ]
    },
    {
      "cell_type": "code",
      "metadata": {
        "colab": {
          "base_uri": "https://localhost:8080/"
        },
        "id": "rkeQvc1ruCyK",
        "outputId": "9f4d20d2-8756-4d05-ef1c-cb3cf1fe3e00"
      },
      "source": [
        "## First check any missing value in the columns\n",
        "df.isnull().sum()"
      ],
      "execution_count": 20,
      "outputs": [
        {
          "output_type": "execute_result",
          "data": {
            "text/plain": [
              "age           0\n",
              "job           0\n",
              "marital       0\n",
              "education     0\n",
              "default       0\n",
              "balance       0\n",
              "housing       0\n",
              "loan          0\n",
              "contact       0\n",
              "day           0\n",
              "month         0\n",
              "duration      0\n",
              "campaign      0\n",
              "Subscribed    0\n",
              "dtype: int64"
            ]
          },
          "metadata": {
            "tags": []
          },
          "execution_count": 20
        }
      ]
    },
    {
      "cell_type": "code",
      "metadata": {
        "id": "DVTxALX6vnqf"
      },
      "source": [
        "## Get dummy columns of each categorical value\n",
        "# I will handle housing, loan and default (all of them yes or no). They are all binary categories. So we dont need extra column. All we need to have 1 or 0 in that column\n",
        "colmns = ['job', 'marital', 'education', 'contact', 'month']\n",
        "cat_col = pd.get_dummies(df[colmns], drop_first = False) #"
      ],
      "execution_count": 21,
      "outputs": []
    },
    {
      "cell_type": "code",
      "metadata": {
        "id": "Sy6ZkzsUx2Nc"
      },
      "source": [
        "## Convert yes or no features to binary values.\n",
        "default_bin = pd.get_dummies(df[\"default\"])  \n",
        "default_bin = default_bin.drop(columns=\"no\", axis = 1) \n",
        "default_bin = default_bin.rename(columns={\"yes\" : \"default\"}) \n",
        "housing_bin = pd.get_dummies(df[\"housing\"])  \n",
        "housing_bin = housing_bin.drop(columns=\"no\", axis = 1)\n",
        "housing_bin = housing_bin.rename(columns={\"yes\" : \"housing\"}) \n",
        "loan_bin = pd.get_dummies(df[\"loan\"])  \n",
        "loan_bin = loan_bin.drop(columns=\"no\", axis = 1) \n",
        "loan_bin = loan_bin.rename(columns={\"yes\" : \"loan\"}) "
      ],
      "execution_count": 22,
      "outputs": []
    },
    {
      "cell_type": "code",
      "metadata": {
        "id": "ZPjXA4AayKcP"
      },
      "source": [
        "bin_vals = pd.concat([cat_col,default_bin, housing_bin, loan_bin], axis = 1)"
      ],
      "execution_count": 23,
      "outputs": []
    },
    {
      "cell_type": "code",
      "metadata": {
        "colab": {
          "base_uri": "https://localhost:8080/",
          "height": 456
        },
        "id": "5f1McoEXzckV",
        "outputId": "28d1126a-806c-4988-e080-22cf9264d3ef"
      },
      "source": [
        "bin_vals "
      ],
      "execution_count": 24,
      "outputs": [
        {
          "output_type": "execute_result",
          "data": {
            "text/html": [
              "<div>\n",
              "<style scoped>\n",
              "    .dataframe tbody tr th:only-of-type {\n",
              "        vertical-align: middle;\n",
              "    }\n",
              "\n",
              "    .dataframe tbody tr th {\n",
              "        vertical-align: top;\n",
              "    }\n",
              "\n",
              "    .dataframe thead th {\n",
              "        text-align: right;\n",
              "    }\n",
              "</style>\n",
              "<table border=\"1\" class=\"dataframe\">\n",
              "  <thead>\n",
              "    <tr style=\"text-align: right;\">\n",
              "      <th></th>\n",
              "      <th>job_admin</th>\n",
              "      <th>job_blue-collar</th>\n",
              "      <th>job_entrepreneur</th>\n",
              "      <th>job_housemaid</th>\n",
              "      <th>job_management</th>\n",
              "      <th>job_retired</th>\n",
              "      <th>job_self-employed</th>\n",
              "      <th>job_services</th>\n",
              "      <th>job_student</th>\n",
              "      <th>job_technician</th>\n",
              "      <th>job_unemployed</th>\n",
              "      <th>job_unknown</th>\n",
              "      <th>marital_divorced</th>\n",
              "      <th>marital_married</th>\n",
              "      <th>marital_single</th>\n",
              "      <th>education_primary</th>\n",
              "      <th>education_secondary</th>\n",
              "      <th>education_tertiary</th>\n",
              "      <th>education_unknown</th>\n",
              "      <th>contact_cellular</th>\n",
              "      <th>contact_telephone</th>\n",
              "      <th>contact_unknown</th>\n",
              "      <th>month_apr</th>\n",
              "      <th>month_aug</th>\n",
              "      <th>month_dec</th>\n",
              "      <th>month_feb</th>\n",
              "      <th>month_jan</th>\n",
              "      <th>month_jul</th>\n",
              "      <th>month_jun</th>\n",
              "      <th>month_mar</th>\n",
              "      <th>month_may</th>\n",
              "      <th>month_nov</th>\n",
              "      <th>month_oct</th>\n",
              "      <th>default</th>\n",
              "      <th>housing</th>\n",
              "      <th>loan</th>\n",
              "    </tr>\n",
              "  </thead>\n",
              "  <tbody>\n",
              "    <tr>\n",
              "      <th>0</th>\n",
              "      <td>0</td>\n",
              "      <td>0</td>\n",
              "      <td>0</td>\n",
              "      <td>0</td>\n",
              "      <td>1</td>\n",
              "      <td>0</td>\n",
              "      <td>0</td>\n",
              "      <td>0</td>\n",
              "      <td>0</td>\n",
              "      <td>0</td>\n",
              "      <td>0</td>\n",
              "      <td>0</td>\n",
              "      <td>0</td>\n",
              "      <td>1</td>\n",
              "      <td>0</td>\n",
              "      <td>0</td>\n",
              "      <td>0</td>\n",
              "      <td>1</td>\n",
              "      <td>0</td>\n",
              "      <td>0</td>\n",
              "      <td>0</td>\n",
              "      <td>1</td>\n",
              "      <td>0</td>\n",
              "      <td>0</td>\n",
              "      <td>0</td>\n",
              "      <td>0</td>\n",
              "      <td>0</td>\n",
              "      <td>0</td>\n",
              "      <td>0</td>\n",
              "      <td>0</td>\n",
              "      <td>1</td>\n",
              "      <td>0</td>\n",
              "      <td>0</td>\n",
              "      <td>0</td>\n",
              "      <td>1</td>\n",
              "      <td>0</td>\n",
              "    </tr>\n",
              "    <tr>\n",
              "      <th>1</th>\n",
              "      <td>0</td>\n",
              "      <td>0</td>\n",
              "      <td>0</td>\n",
              "      <td>0</td>\n",
              "      <td>0</td>\n",
              "      <td>0</td>\n",
              "      <td>0</td>\n",
              "      <td>0</td>\n",
              "      <td>0</td>\n",
              "      <td>1</td>\n",
              "      <td>0</td>\n",
              "      <td>0</td>\n",
              "      <td>0</td>\n",
              "      <td>0</td>\n",
              "      <td>1</td>\n",
              "      <td>0</td>\n",
              "      <td>1</td>\n",
              "      <td>0</td>\n",
              "      <td>0</td>\n",
              "      <td>0</td>\n",
              "      <td>0</td>\n",
              "      <td>1</td>\n",
              "      <td>0</td>\n",
              "      <td>0</td>\n",
              "      <td>0</td>\n",
              "      <td>0</td>\n",
              "      <td>0</td>\n",
              "      <td>0</td>\n",
              "      <td>0</td>\n",
              "      <td>0</td>\n",
              "      <td>1</td>\n",
              "      <td>0</td>\n",
              "      <td>0</td>\n",
              "      <td>0</td>\n",
              "      <td>1</td>\n",
              "      <td>0</td>\n",
              "    </tr>\n",
              "    <tr>\n",
              "      <th>2</th>\n",
              "      <td>0</td>\n",
              "      <td>0</td>\n",
              "      <td>1</td>\n",
              "      <td>0</td>\n",
              "      <td>0</td>\n",
              "      <td>0</td>\n",
              "      <td>0</td>\n",
              "      <td>0</td>\n",
              "      <td>0</td>\n",
              "      <td>0</td>\n",
              "      <td>0</td>\n",
              "      <td>0</td>\n",
              "      <td>0</td>\n",
              "      <td>1</td>\n",
              "      <td>0</td>\n",
              "      <td>0</td>\n",
              "      <td>1</td>\n",
              "      <td>0</td>\n",
              "      <td>0</td>\n",
              "      <td>0</td>\n",
              "      <td>0</td>\n",
              "      <td>1</td>\n",
              "      <td>0</td>\n",
              "      <td>0</td>\n",
              "      <td>0</td>\n",
              "      <td>0</td>\n",
              "      <td>0</td>\n",
              "      <td>0</td>\n",
              "      <td>0</td>\n",
              "      <td>0</td>\n",
              "      <td>1</td>\n",
              "      <td>0</td>\n",
              "      <td>0</td>\n",
              "      <td>0</td>\n",
              "      <td>1</td>\n",
              "      <td>1</td>\n",
              "    </tr>\n",
              "    <tr>\n",
              "      <th>3</th>\n",
              "      <td>0</td>\n",
              "      <td>1</td>\n",
              "      <td>0</td>\n",
              "      <td>0</td>\n",
              "      <td>0</td>\n",
              "      <td>0</td>\n",
              "      <td>0</td>\n",
              "      <td>0</td>\n",
              "      <td>0</td>\n",
              "      <td>0</td>\n",
              "      <td>0</td>\n",
              "      <td>0</td>\n",
              "      <td>0</td>\n",
              "      <td>1</td>\n",
              "      <td>0</td>\n",
              "      <td>0</td>\n",
              "      <td>0</td>\n",
              "      <td>0</td>\n",
              "      <td>1</td>\n",
              "      <td>0</td>\n",
              "      <td>0</td>\n",
              "      <td>1</td>\n",
              "      <td>0</td>\n",
              "      <td>0</td>\n",
              "      <td>0</td>\n",
              "      <td>0</td>\n",
              "      <td>0</td>\n",
              "      <td>0</td>\n",
              "      <td>0</td>\n",
              "      <td>0</td>\n",
              "      <td>1</td>\n",
              "      <td>0</td>\n",
              "      <td>0</td>\n",
              "      <td>0</td>\n",
              "      <td>1</td>\n",
              "      <td>0</td>\n",
              "    </tr>\n",
              "    <tr>\n",
              "      <th>4</th>\n",
              "      <td>0</td>\n",
              "      <td>0</td>\n",
              "      <td>0</td>\n",
              "      <td>0</td>\n",
              "      <td>0</td>\n",
              "      <td>0</td>\n",
              "      <td>0</td>\n",
              "      <td>0</td>\n",
              "      <td>0</td>\n",
              "      <td>0</td>\n",
              "      <td>0</td>\n",
              "      <td>1</td>\n",
              "      <td>0</td>\n",
              "      <td>0</td>\n",
              "      <td>1</td>\n",
              "      <td>0</td>\n",
              "      <td>0</td>\n",
              "      <td>0</td>\n",
              "      <td>1</td>\n",
              "      <td>0</td>\n",
              "      <td>0</td>\n",
              "      <td>1</td>\n",
              "      <td>0</td>\n",
              "      <td>0</td>\n",
              "      <td>0</td>\n",
              "      <td>0</td>\n",
              "      <td>0</td>\n",
              "      <td>0</td>\n",
              "      <td>0</td>\n",
              "      <td>0</td>\n",
              "      <td>1</td>\n",
              "      <td>0</td>\n",
              "      <td>0</td>\n",
              "      <td>0</td>\n",
              "      <td>0</td>\n",
              "      <td>0</td>\n",
              "    </tr>\n",
              "    <tr>\n",
              "      <th>...</th>\n",
              "      <td>...</td>\n",
              "      <td>...</td>\n",
              "      <td>...</td>\n",
              "      <td>...</td>\n",
              "      <td>...</td>\n",
              "      <td>...</td>\n",
              "      <td>...</td>\n",
              "      <td>...</td>\n",
              "      <td>...</td>\n",
              "      <td>...</td>\n",
              "      <td>...</td>\n",
              "      <td>...</td>\n",
              "      <td>...</td>\n",
              "      <td>...</td>\n",
              "      <td>...</td>\n",
              "      <td>...</td>\n",
              "      <td>...</td>\n",
              "      <td>...</td>\n",
              "      <td>...</td>\n",
              "      <td>...</td>\n",
              "      <td>...</td>\n",
              "      <td>...</td>\n",
              "      <td>...</td>\n",
              "      <td>...</td>\n",
              "      <td>...</td>\n",
              "      <td>...</td>\n",
              "      <td>...</td>\n",
              "      <td>...</td>\n",
              "      <td>...</td>\n",
              "      <td>...</td>\n",
              "      <td>...</td>\n",
              "      <td>...</td>\n",
              "      <td>...</td>\n",
              "      <td>...</td>\n",
              "      <td>...</td>\n",
              "      <td>...</td>\n",
              "    </tr>\n",
              "    <tr>\n",
              "      <th>39995</th>\n",
              "      <td>0</td>\n",
              "      <td>0</td>\n",
              "      <td>0</td>\n",
              "      <td>0</td>\n",
              "      <td>0</td>\n",
              "      <td>0</td>\n",
              "      <td>0</td>\n",
              "      <td>0</td>\n",
              "      <td>0</td>\n",
              "      <td>1</td>\n",
              "      <td>0</td>\n",
              "      <td>0</td>\n",
              "      <td>0</td>\n",
              "      <td>1</td>\n",
              "      <td>0</td>\n",
              "      <td>0</td>\n",
              "      <td>0</td>\n",
              "      <td>1</td>\n",
              "      <td>0</td>\n",
              "      <td>1</td>\n",
              "      <td>0</td>\n",
              "      <td>0</td>\n",
              "      <td>0</td>\n",
              "      <td>0</td>\n",
              "      <td>0</td>\n",
              "      <td>0</td>\n",
              "      <td>0</td>\n",
              "      <td>0</td>\n",
              "      <td>1</td>\n",
              "      <td>0</td>\n",
              "      <td>0</td>\n",
              "      <td>0</td>\n",
              "      <td>0</td>\n",
              "      <td>0</td>\n",
              "      <td>0</td>\n",
              "      <td>0</td>\n",
              "    </tr>\n",
              "    <tr>\n",
              "      <th>39996</th>\n",
              "      <td>0</td>\n",
              "      <td>0</td>\n",
              "      <td>0</td>\n",
              "      <td>0</td>\n",
              "      <td>1</td>\n",
              "      <td>0</td>\n",
              "      <td>0</td>\n",
              "      <td>0</td>\n",
              "      <td>0</td>\n",
              "      <td>0</td>\n",
              "      <td>0</td>\n",
              "      <td>0</td>\n",
              "      <td>0</td>\n",
              "      <td>0</td>\n",
              "      <td>1</td>\n",
              "      <td>0</td>\n",
              "      <td>0</td>\n",
              "      <td>1</td>\n",
              "      <td>0</td>\n",
              "      <td>1</td>\n",
              "      <td>0</td>\n",
              "      <td>0</td>\n",
              "      <td>0</td>\n",
              "      <td>0</td>\n",
              "      <td>0</td>\n",
              "      <td>0</td>\n",
              "      <td>0</td>\n",
              "      <td>0</td>\n",
              "      <td>1</td>\n",
              "      <td>0</td>\n",
              "      <td>0</td>\n",
              "      <td>0</td>\n",
              "      <td>0</td>\n",
              "      <td>0</td>\n",
              "      <td>0</td>\n",
              "      <td>0</td>\n",
              "    </tr>\n",
              "    <tr>\n",
              "      <th>39997</th>\n",
              "      <td>1</td>\n",
              "      <td>0</td>\n",
              "      <td>0</td>\n",
              "      <td>0</td>\n",
              "      <td>0</td>\n",
              "      <td>0</td>\n",
              "      <td>0</td>\n",
              "      <td>0</td>\n",
              "      <td>0</td>\n",
              "      <td>0</td>\n",
              "      <td>0</td>\n",
              "      <td>0</td>\n",
              "      <td>1</td>\n",
              "      <td>0</td>\n",
              "      <td>0</td>\n",
              "      <td>0</td>\n",
              "      <td>1</td>\n",
              "      <td>0</td>\n",
              "      <td>0</td>\n",
              "      <td>1</td>\n",
              "      <td>0</td>\n",
              "      <td>0</td>\n",
              "      <td>0</td>\n",
              "      <td>0</td>\n",
              "      <td>0</td>\n",
              "      <td>0</td>\n",
              "      <td>0</td>\n",
              "      <td>0</td>\n",
              "      <td>1</td>\n",
              "      <td>0</td>\n",
              "      <td>0</td>\n",
              "      <td>0</td>\n",
              "      <td>0</td>\n",
              "      <td>0</td>\n",
              "      <td>0</td>\n",
              "      <td>0</td>\n",
              "    </tr>\n",
              "    <tr>\n",
              "      <th>39998</th>\n",
              "      <td>0</td>\n",
              "      <td>0</td>\n",
              "      <td>0</td>\n",
              "      <td>0</td>\n",
              "      <td>1</td>\n",
              "      <td>0</td>\n",
              "      <td>0</td>\n",
              "      <td>0</td>\n",
              "      <td>0</td>\n",
              "      <td>0</td>\n",
              "      <td>0</td>\n",
              "      <td>0</td>\n",
              "      <td>0</td>\n",
              "      <td>1</td>\n",
              "      <td>0</td>\n",
              "      <td>0</td>\n",
              "      <td>0</td>\n",
              "      <td>1</td>\n",
              "      <td>0</td>\n",
              "      <td>1</td>\n",
              "      <td>0</td>\n",
              "      <td>0</td>\n",
              "      <td>0</td>\n",
              "      <td>0</td>\n",
              "      <td>0</td>\n",
              "      <td>0</td>\n",
              "      <td>0</td>\n",
              "      <td>0</td>\n",
              "      <td>1</td>\n",
              "      <td>0</td>\n",
              "      <td>0</td>\n",
              "      <td>0</td>\n",
              "      <td>0</td>\n",
              "      <td>0</td>\n",
              "      <td>0</td>\n",
              "      <td>0</td>\n",
              "    </tr>\n",
              "    <tr>\n",
              "      <th>39999</th>\n",
              "      <td>0</td>\n",
              "      <td>0</td>\n",
              "      <td>0</td>\n",
              "      <td>0</td>\n",
              "      <td>0</td>\n",
              "      <td>0</td>\n",
              "      <td>0</td>\n",
              "      <td>0</td>\n",
              "      <td>0</td>\n",
              "      <td>1</td>\n",
              "      <td>0</td>\n",
              "      <td>0</td>\n",
              "      <td>0</td>\n",
              "      <td>1</td>\n",
              "      <td>0</td>\n",
              "      <td>0</td>\n",
              "      <td>1</td>\n",
              "      <td>0</td>\n",
              "      <td>0</td>\n",
              "      <td>1</td>\n",
              "      <td>0</td>\n",
              "      <td>0</td>\n",
              "      <td>0</td>\n",
              "      <td>0</td>\n",
              "      <td>0</td>\n",
              "      <td>0</td>\n",
              "      <td>0</td>\n",
              "      <td>0</td>\n",
              "      <td>1</td>\n",
              "      <td>0</td>\n",
              "      <td>0</td>\n",
              "      <td>0</td>\n",
              "      <td>0</td>\n",
              "      <td>0</td>\n",
              "      <td>1</td>\n",
              "      <td>0</td>\n",
              "    </tr>\n",
              "  </tbody>\n",
              "</table>\n",
              "<p>40000 rows × 36 columns</p>\n",
              "</div>"
            ],
            "text/plain": [
              "       job_admin  job_blue-collar  job_entrepreneur  ...  default  housing  loan\n",
              "0              0                0                 0  ...        0        1     0\n",
              "1              0                0                 0  ...        0        1     0\n",
              "2              0                0                 1  ...        0        1     1\n",
              "3              0                1                 0  ...        0        1     0\n",
              "4              0                0                 0  ...        0        0     0\n",
              "...          ...              ...               ...  ...      ...      ...   ...\n",
              "39995          0                0                 0  ...        0        0     0\n",
              "39996          0                0                 0  ...        0        0     0\n",
              "39997          1                0                 0  ...        0        0     0\n",
              "39998          0                0                 0  ...        0        0     0\n",
              "39999          0                0                 0  ...        0        1     0\n",
              "\n",
              "[40000 rows x 36 columns]"
            ]
          },
          "metadata": {
            "tags": []
          },
          "execution_count": 24
        }
      ]
    },
    {
      "cell_type": "code",
      "metadata": {
        "id": "svprsij80IO-"
      },
      "source": [
        "all_data = all_data.drop(['job', 'marital', 'education', 'default', 'housing', 'loan', 'contact', 'month'], axis = 1)\n",
        "all_data = pd.concat([all_data, bin_vals], axis = 1)"
      ],
      "execution_count": 25,
      "outputs": []
    },
    {
      "cell_type": "code",
      "metadata": {
        "colab": {
          "base_uri": "https://localhost:8080/",
          "height": 456
        },
        "id": "SyQzrkqV4LG7",
        "outputId": "33a7e6c4-34fa-417e-e42d-7315487a2004"
      },
      "source": [
        "all_data ## 41 Features dataset in the end"
      ],
      "execution_count": 26,
      "outputs": [
        {
          "output_type": "execute_result",
          "data": {
            "text/html": [
              "<div>\n",
              "<style scoped>\n",
              "    .dataframe tbody tr th:only-of-type {\n",
              "        vertical-align: middle;\n",
              "    }\n",
              "\n",
              "    .dataframe tbody tr th {\n",
              "        vertical-align: top;\n",
              "    }\n",
              "\n",
              "    .dataframe thead th {\n",
              "        text-align: right;\n",
              "    }\n",
              "</style>\n",
              "<table border=\"1\" class=\"dataframe\">\n",
              "  <thead>\n",
              "    <tr style=\"text-align: right;\">\n",
              "      <th></th>\n",
              "      <th>age</th>\n",
              "      <th>balance</th>\n",
              "      <th>day</th>\n",
              "      <th>duration</th>\n",
              "      <th>campaign</th>\n",
              "      <th>job_admin</th>\n",
              "      <th>job_blue-collar</th>\n",
              "      <th>job_entrepreneur</th>\n",
              "      <th>job_housemaid</th>\n",
              "      <th>job_management</th>\n",
              "      <th>job_retired</th>\n",
              "      <th>job_self-employed</th>\n",
              "      <th>job_services</th>\n",
              "      <th>job_student</th>\n",
              "      <th>job_technician</th>\n",
              "      <th>job_unemployed</th>\n",
              "      <th>job_unknown</th>\n",
              "      <th>marital_divorced</th>\n",
              "      <th>marital_married</th>\n",
              "      <th>marital_single</th>\n",
              "      <th>education_primary</th>\n",
              "      <th>education_secondary</th>\n",
              "      <th>education_tertiary</th>\n",
              "      <th>education_unknown</th>\n",
              "      <th>contact_cellular</th>\n",
              "      <th>contact_telephone</th>\n",
              "      <th>contact_unknown</th>\n",
              "      <th>month_apr</th>\n",
              "      <th>month_aug</th>\n",
              "      <th>month_dec</th>\n",
              "      <th>month_feb</th>\n",
              "      <th>month_jan</th>\n",
              "      <th>month_jul</th>\n",
              "      <th>month_jun</th>\n",
              "      <th>month_mar</th>\n",
              "      <th>month_may</th>\n",
              "      <th>month_nov</th>\n",
              "      <th>month_oct</th>\n",
              "      <th>default</th>\n",
              "      <th>housing</th>\n",
              "      <th>loan</th>\n",
              "    </tr>\n",
              "  </thead>\n",
              "  <tbody>\n",
              "    <tr>\n",
              "      <th>0</th>\n",
              "      <td>58</td>\n",
              "      <td>2143</td>\n",
              "      <td>5</td>\n",
              "      <td>261</td>\n",
              "      <td>1</td>\n",
              "      <td>0</td>\n",
              "      <td>0</td>\n",
              "      <td>0</td>\n",
              "      <td>0</td>\n",
              "      <td>1</td>\n",
              "      <td>0</td>\n",
              "      <td>0</td>\n",
              "      <td>0</td>\n",
              "      <td>0</td>\n",
              "      <td>0</td>\n",
              "      <td>0</td>\n",
              "      <td>0</td>\n",
              "      <td>0</td>\n",
              "      <td>1</td>\n",
              "      <td>0</td>\n",
              "      <td>0</td>\n",
              "      <td>0</td>\n",
              "      <td>1</td>\n",
              "      <td>0</td>\n",
              "      <td>0</td>\n",
              "      <td>0</td>\n",
              "      <td>1</td>\n",
              "      <td>0</td>\n",
              "      <td>0</td>\n",
              "      <td>0</td>\n",
              "      <td>0</td>\n",
              "      <td>0</td>\n",
              "      <td>0</td>\n",
              "      <td>0</td>\n",
              "      <td>0</td>\n",
              "      <td>1</td>\n",
              "      <td>0</td>\n",
              "      <td>0</td>\n",
              "      <td>0</td>\n",
              "      <td>1</td>\n",
              "      <td>0</td>\n",
              "    </tr>\n",
              "    <tr>\n",
              "      <th>1</th>\n",
              "      <td>44</td>\n",
              "      <td>29</td>\n",
              "      <td>5</td>\n",
              "      <td>151</td>\n",
              "      <td>1</td>\n",
              "      <td>0</td>\n",
              "      <td>0</td>\n",
              "      <td>0</td>\n",
              "      <td>0</td>\n",
              "      <td>0</td>\n",
              "      <td>0</td>\n",
              "      <td>0</td>\n",
              "      <td>0</td>\n",
              "      <td>0</td>\n",
              "      <td>1</td>\n",
              "      <td>0</td>\n",
              "      <td>0</td>\n",
              "      <td>0</td>\n",
              "      <td>0</td>\n",
              "      <td>1</td>\n",
              "      <td>0</td>\n",
              "      <td>1</td>\n",
              "      <td>0</td>\n",
              "      <td>0</td>\n",
              "      <td>0</td>\n",
              "      <td>0</td>\n",
              "      <td>1</td>\n",
              "      <td>0</td>\n",
              "      <td>0</td>\n",
              "      <td>0</td>\n",
              "      <td>0</td>\n",
              "      <td>0</td>\n",
              "      <td>0</td>\n",
              "      <td>0</td>\n",
              "      <td>0</td>\n",
              "      <td>1</td>\n",
              "      <td>0</td>\n",
              "      <td>0</td>\n",
              "      <td>0</td>\n",
              "      <td>1</td>\n",
              "      <td>0</td>\n",
              "    </tr>\n",
              "    <tr>\n",
              "      <th>2</th>\n",
              "      <td>33</td>\n",
              "      <td>2</td>\n",
              "      <td>5</td>\n",
              "      <td>76</td>\n",
              "      <td>1</td>\n",
              "      <td>0</td>\n",
              "      <td>0</td>\n",
              "      <td>1</td>\n",
              "      <td>0</td>\n",
              "      <td>0</td>\n",
              "      <td>0</td>\n",
              "      <td>0</td>\n",
              "      <td>0</td>\n",
              "      <td>0</td>\n",
              "      <td>0</td>\n",
              "      <td>0</td>\n",
              "      <td>0</td>\n",
              "      <td>0</td>\n",
              "      <td>1</td>\n",
              "      <td>0</td>\n",
              "      <td>0</td>\n",
              "      <td>1</td>\n",
              "      <td>0</td>\n",
              "      <td>0</td>\n",
              "      <td>0</td>\n",
              "      <td>0</td>\n",
              "      <td>1</td>\n",
              "      <td>0</td>\n",
              "      <td>0</td>\n",
              "      <td>0</td>\n",
              "      <td>0</td>\n",
              "      <td>0</td>\n",
              "      <td>0</td>\n",
              "      <td>0</td>\n",
              "      <td>0</td>\n",
              "      <td>1</td>\n",
              "      <td>0</td>\n",
              "      <td>0</td>\n",
              "      <td>0</td>\n",
              "      <td>1</td>\n",
              "      <td>1</td>\n",
              "    </tr>\n",
              "    <tr>\n",
              "      <th>3</th>\n",
              "      <td>47</td>\n",
              "      <td>1506</td>\n",
              "      <td>5</td>\n",
              "      <td>92</td>\n",
              "      <td>1</td>\n",
              "      <td>0</td>\n",
              "      <td>1</td>\n",
              "      <td>0</td>\n",
              "      <td>0</td>\n",
              "      <td>0</td>\n",
              "      <td>0</td>\n",
              "      <td>0</td>\n",
              "      <td>0</td>\n",
              "      <td>0</td>\n",
              "      <td>0</td>\n",
              "      <td>0</td>\n",
              "      <td>0</td>\n",
              "      <td>0</td>\n",
              "      <td>1</td>\n",
              "      <td>0</td>\n",
              "      <td>0</td>\n",
              "      <td>0</td>\n",
              "      <td>0</td>\n",
              "      <td>1</td>\n",
              "      <td>0</td>\n",
              "      <td>0</td>\n",
              "      <td>1</td>\n",
              "      <td>0</td>\n",
              "      <td>0</td>\n",
              "      <td>0</td>\n",
              "      <td>0</td>\n",
              "      <td>0</td>\n",
              "      <td>0</td>\n",
              "      <td>0</td>\n",
              "      <td>0</td>\n",
              "      <td>1</td>\n",
              "      <td>0</td>\n",
              "      <td>0</td>\n",
              "      <td>0</td>\n",
              "      <td>1</td>\n",
              "      <td>0</td>\n",
              "    </tr>\n",
              "    <tr>\n",
              "      <th>4</th>\n",
              "      <td>33</td>\n",
              "      <td>1</td>\n",
              "      <td>5</td>\n",
              "      <td>198</td>\n",
              "      <td>1</td>\n",
              "      <td>0</td>\n",
              "      <td>0</td>\n",
              "      <td>0</td>\n",
              "      <td>0</td>\n",
              "      <td>0</td>\n",
              "      <td>0</td>\n",
              "      <td>0</td>\n",
              "      <td>0</td>\n",
              "      <td>0</td>\n",
              "      <td>0</td>\n",
              "      <td>0</td>\n",
              "      <td>1</td>\n",
              "      <td>0</td>\n",
              "      <td>0</td>\n",
              "      <td>1</td>\n",
              "      <td>0</td>\n",
              "      <td>0</td>\n",
              "      <td>0</td>\n",
              "      <td>1</td>\n",
              "      <td>0</td>\n",
              "      <td>0</td>\n",
              "      <td>1</td>\n",
              "      <td>0</td>\n",
              "      <td>0</td>\n",
              "      <td>0</td>\n",
              "      <td>0</td>\n",
              "      <td>0</td>\n",
              "      <td>0</td>\n",
              "      <td>0</td>\n",
              "      <td>0</td>\n",
              "      <td>1</td>\n",
              "      <td>0</td>\n",
              "      <td>0</td>\n",
              "      <td>0</td>\n",
              "      <td>0</td>\n",
              "      <td>0</td>\n",
              "    </tr>\n",
              "    <tr>\n",
              "      <th>...</th>\n",
              "      <td>...</td>\n",
              "      <td>...</td>\n",
              "      <td>...</td>\n",
              "      <td>...</td>\n",
              "      <td>...</td>\n",
              "      <td>...</td>\n",
              "      <td>...</td>\n",
              "      <td>...</td>\n",
              "      <td>...</td>\n",
              "      <td>...</td>\n",
              "      <td>...</td>\n",
              "      <td>...</td>\n",
              "      <td>...</td>\n",
              "      <td>...</td>\n",
              "      <td>...</td>\n",
              "      <td>...</td>\n",
              "      <td>...</td>\n",
              "      <td>...</td>\n",
              "      <td>...</td>\n",
              "      <td>...</td>\n",
              "      <td>...</td>\n",
              "      <td>...</td>\n",
              "      <td>...</td>\n",
              "      <td>...</td>\n",
              "      <td>...</td>\n",
              "      <td>...</td>\n",
              "      <td>...</td>\n",
              "      <td>...</td>\n",
              "      <td>...</td>\n",
              "      <td>...</td>\n",
              "      <td>...</td>\n",
              "      <td>...</td>\n",
              "      <td>...</td>\n",
              "      <td>...</td>\n",
              "      <td>...</td>\n",
              "      <td>...</td>\n",
              "      <td>...</td>\n",
              "      <td>...</td>\n",
              "      <td>...</td>\n",
              "      <td>...</td>\n",
              "      <td>...</td>\n",
              "    </tr>\n",
              "    <tr>\n",
              "      <th>39995</th>\n",
              "      <td>53</td>\n",
              "      <td>395</td>\n",
              "      <td>3</td>\n",
              "      <td>107</td>\n",
              "      <td>1</td>\n",
              "      <td>0</td>\n",
              "      <td>0</td>\n",
              "      <td>0</td>\n",
              "      <td>0</td>\n",
              "      <td>0</td>\n",
              "      <td>0</td>\n",
              "      <td>0</td>\n",
              "      <td>0</td>\n",
              "      <td>0</td>\n",
              "      <td>1</td>\n",
              "      <td>0</td>\n",
              "      <td>0</td>\n",
              "      <td>0</td>\n",
              "      <td>1</td>\n",
              "      <td>0</td>\n",
              "      <td>0</td>\n",
              "      <td>0</td>\n",
              "      <td>1</td>\n",
              "      <td>0</td>\n",
              "      <td>1</td>\n",
              "      <td>0</td>\n",
              "      <td>0</td>\n",
              "      <td>0</td>\n",
              "      <td>0</td>\n",
              "      <td>0</td>\n",
              "      <td>0</td>\n",
              "      <td>0</td>\n",
              "      <td>0</td>\n",
              "      <td>1</td>\n",
              "      <td>0</td>\n",
              "      <td>0</td>\n",
              "      <td>0</td>\n",
              "      <td>0</td>\n",
              "      <td>0</td>\n",
              "      <td>0</td>\n",
              "      <td>0</td>\n",
              "    </tr>\n",
              "    <tr>\n",
              "      <th>39996</th>\n",
              "      <td>30</td>\n",
              "      <td>3340</td>\n",
              "      <td>3</td>\n",
              "      <td>238</td>\n",
              "      <td>3</td>\n",
              "      <td>0</td>\n",
              "      <td>0</td>\n",
              "      <td>0</td>\n",
              "      <td>0</td>\n",
              "      <td>1</td>\n",
              "      <td>0</td>\n",
              "      <td>0</td>\n",
              "      <td>0</td>\n",
              "      <td>0</td>\n",
              "      <td>0</td>\n",
              "      <td>0</td>\n",
              "      <td>0</td>\n",
              "      <td>0</td>\n",
              "      <td>0</td>\n",
              "      <td>1</td>\n",
              "      <td>0</td>\n",
              "      <td>0</td>\n",
              "      <td>1</td>\n",
              "      <td>0</td>\n",
              "      <td>1</td>\n",
              "      <td>0</td>\n",
              "      <td>0</td>\n",
              "      <td>0</td>\n",
              "      <td>0</td>\n",
              "      <td>0</td>\n",
              "      <td>0</td>\n",
              "      <td>0</td>\n",
              "      <td>0</td>\n",
              "      <td>1</td>\n",
              "      <td>0</td>\n",
              "      <td>0</td>\n",
              "      <td>0</td>\n",
              "      <td>0</td>\n",
              "      <td>0</td>\n",
              "      <td>0</td>\n",
              "      <td>0</td>\n",
              "    </tr>\n",
              "    <tr>\n",
              "      <th>39997</th>\n",
              "      <td>54</td>\n",
              "      <td>200</td>\n",
              "      <td>3</td>\n",
              "      <td>170</td>\n",
              "      <td>1</td>\n",
              "      <td>1</td>\n",
              "      <td>0</td>\n",
              "      <td>0</td>\n",
              "      <td>0</td>\n",
              "      <td>0</td>\n",
              "      <td>0</td>\n",
              "      <td>0</td>\n",
              "      <td>0</td>\n",
              "      <td>0</td>\n",
              "      <td>0</td>\n",
              "      <td>0</td>\n",
              "      <td>0</td>\n",
              "      <td>1</td>\n",
              "      <td>0</td>\n",
              "      <td>0</td>\n",
              "      <td>0</td>\n",
              "      <td>1</td>\n",
              "      <td>0</td>\n",
              "      <td>0</td>\n",
              "      <td>1</td>\n",
              "      <td>0</td>\n",
              "      <td>0</td>\n",
              "      <td>0</td>\n",
              "      <td>0</td>\n",
              "      <td>0</td>\n",
              "      <td>0</td>\n",
              "      <td>0</td>\n",
              "      <td>0</td>\n",
              "      <td>1</td>\n",
              "      <td>0</td>\n",
              "      <td>0</td>\n",
              "      <td>0</td>\n",
              "      <td>0</td>\n",
              "      <td>0</td>\n",
              "      <td>0</td>\n",
              "      <td>0</td>\n",
              "    </tr>\n",
              "    <tr>\n",
              "      <th>39998</th>\n",
              "      <td>34</td>\n",
              "      <td>1047</td>\n",
              "      <td>3</td>\n",
              "      <td>342</td>\n",
              "      <td>1</td>\n",
              "      <td>0</td>\n",
              "      <td>0</td>\n",
              "      <td>0</td>\n",
              "      <td>0</td>\n",
              "      <td>1</td>\n",
              "      <td>0</td>\n",
              "      <td>0</td>\n",
              "      <td>0</td>\n",
              "      <td>0</td>\n",
              "      <td>0</td>\n",
              "      <td>0</td>\n",
              "      <td>0</td>\n",
              "      <td>0</td>\n",
              "      <td>1</td>\n",
              "      <td>0</td>\n",
              "      <td>0</td>\n",
              "      <td>0</td>\n",
              "      <td>1</td>\n",
              "      <td>0</td>\n",
              "      <td>1</td>\n",
              "      <td>0</td>\n",
              "      <td>0</td>\n",
              "      <td>0</td>\n",
              "      <td>0</td>\n",
              "      <td>0</td>\n",
              "      <td>0</td>\n",
              "      <td>0</td>\n",
              "      <td>0</td>\n",
              "      <td>1</td>\n",
              "      <td>0</td>\n",
              "      <td>0</td>\n",
              "      <td>0</td>\n",
              "      <td>0</td>\n",
              "      <td>0</td>\n",
              "      <td>0</td>\n",
              "      <td>0</td>\n",
              "    </tr>\n",
              "    <tr>\n",
              "      <th>39999</th>\n",
              "      <td>38</td>\n",
              "      <td>1442</td>\n",
              "      <td>3</td>\n",
              "      <td>113</td>\n",
              "      <td>1</td>\n",
              "      <td>0</td>\n",
              "      <td>0</td>\n",
              "      <td>0</td>\n",
              "      <td>0</td>\n",
              "      <td>0</td>\n",
              "      <td>0</td>\n",
              "      <td>0</td>\n",
              "      <td>0</td>\n",
              "      <td>0</td>\n",
              "      <td>1</td>\n",
              "      <td>0</td>\n",
              "      <td>0</td>\n",
              "      <td>0</td>\n",
              "      <td>1</td>\n",
              "      <td>0</td>\n",
              "      <td>0</td>\n",
              "      <td>1</td>\n",
              "      <td>0</td>\n",
              "      <td>0</td>\n",
              "      <td>1</td>\n",
              "      <td>0</td>\n",
              "      <td>0</td>\n",
              "      <td>0</td>\n",
              "      <td>0</td>\n",
              "      <td>0</td>\n",
              "      <td>0</td>\n",
              "      <td>0</td>\n",
              "      <td>0</td>\n",
              "      <td>1</td>\n",
              "      <td>0</td>\n",
              "      <td>0</td>\n",
              "      <td>0</td>\n",
              "      <td>0</td>\n",
              "      <td>0</td>\n",
              "      <td>1</td>\n",
              "      <td>0</td>\n",
              "    </tr>\n",
              "  </tbody>\n",
              "</table>\n",
              "<p>40000 rows × 41 columns</p>\n",
              "</div>"
            ],
            "text/plain": [
              "       age  balance  day  duration  ...  month_oct  default  housing  loan\n",
              "0       58     2143    5       261  ...          0        0        1     0\n",
              "1       44       29    5       151  ...          0        0        1     0\n",
              "2       33        2    5        76  ...          0        0        1     1\n",
              "3       47     1506    5        92  ...          0        0        1     0\n",
              "4       33        1    5       198  ...          0        0        0     0\n",
              "...    ...      ...  ...       ...  ...        ...      ...      ...   ...\n",
              "39995   53      395    3       107  ...          0        0        0     0\n",
              "39996   30     3340    3       238  ...          0        0        0     0\n",
              "39997   54      200    3       170  ...          0        0        0     0\n",
              "39998   34     1047    3       342  ...          0        0        0     0\n",
              "39999   38     1442    3       113  ...          0        0        1     0\n",
              "\n",
              "[40000 rows x 41 columns]"
            ]
          },
          "metadata": {
            "tags": []
          },
          "execution_count": 26
        }
      ]
    },
    {
      "cell_type": "code",
      "metadata": {
        "id": "Wh-M5cFmBKGL"
      },
      "source": [
        "# Split data into training and test set\n",
        "X , y = all_data.to_numpy() , y_output.to_numpy() ## Convert dataframe to NumPy\n",
        "X_train , X_test , y_train, y_test = train_test_split(X, y, test_size=0.2, random_state=31) ## 0.2 Test data , 0.8 Training data"
      ],
      "execution_count": 27,
      "outputs": []
    },
    {
      "cell_type": "code",
      "metadata": {
        "id": "CqAyRc2KBd-F"
      },
      "source": [
        "scaler = StandardScaler()\n",
        "X_train = scaler.fit_transform(X_train) ## Data in NumPy form.\n",
        "X_test = scaler.transform(X_test) # Transform test set"
      ],
      "execution_count": 28,
      "outputs": []
    },
    {
      "cell_type": "markdown",
      "metadata": {
        "id": "jJNC_IEf_hwq"
      },
      "source": [
        "# Logistic regression to fit the data then use cross_val_score with 5-fold for Model evaluation"
      ]
    },
    {
      "cell_type": "code",
      "metadata": {
        "id": "6Dac0ugxTi5F"
      },
      "source": [
        "log_reg = LogisticRegression().fit(X_train,y_train.ravel())\n",
        "scores = cross_val_score(log_reg, X_train, y_train.ravel(), cv = 5)"
      ],
      "execution_count": 29,
      "outputs": []
    },
    {
      "cell_type": "code",
      "metadata": {
        "colab": {
          "base_uri": "https://localhost:8080/"
        },
        "id": "VnH7gQ06kkqz",
        "outputId": "edd10003-d995-40f1-a192-34f3b9738f1f"
      },
      "source": [
        "print(f'5-fold CV average accuracy is = {round(scores.mean() * 100,2)}%')\n",
        "for turn, score in enumerate(scores, 1) :\n",
        "  print(f'{turn}. model accuracy is {round(score * 100,2)}%')\n"
      ],
      "execution_count": 30,
      "outputs": [
        {
          "output_type": "stream",
          "text": [
            "5-fold CV average accuracy is = 93.34%\n",
            "1. model accuracy is 93.61%\n",
            "2. model accuracy is 93.38%\n",
            "3. model accuracy is 93.14%\n",
            "4. model accuracy is 93.58%\n",
            "5. model accuracy is 93.0%\n"
          ],
          "name": "stdout"
        }
      ]
    },
    {
      "cell_type": "markdown",
      "metadata": {
        "id": "z6qczCqZlMP3"
      },
      "source": [
        "Average accuracy indicates that our model has generalized the data very well. Now let us evaluate the model using test set."
      ]
    },
    {
      "cell_type": "code",
      "metadata": {
        "colab": {
          "base_uri": "https://localhost:8080/"
        },
        "id": "hSdcKzRVkmu1",
        "outputId": "32f8fd0e-0492-4c86-937d-79f151ce44c9"
      },
      "source": [
        "print(f'Accuracy on the test data is {round(log_reg.score(X_test,y_test.ravel())* 100, 2)}%')"
      ],
      "execution_count": 31,
      "outputs": [
        {
          "output_type": "stream",
          "text": [
            "Accuracy on the test data is 94.04%\n"
          ],
          "name": "stdout"
        }
      ]
    },
    {
      "cell_type": "markdown",
      "metadata": {
        "id": "c2LOF6oSQ-YU"
      },
      "source": [
        "Data distribution is imbalanced. That affects regression model's decision making. (Can be biased towards negative). Now let us test how many false negatives exist caused by bias problem. Let us check confusion matrix"
      ]
    },
    {
      "cell_type": "code",
      "metadata": {
        "id": "d8aOGAXQVy8M"
      },
      "source": [
        "predictions = log_reg.predict(X_test)\n",
        "score = log_reg.score(X_test, y_test.ravel())"
      ],
      "execution_count": 32,
      "outputs": []
    },
    {
      "cell_type": "code",
      "metadata": {
        "colab": {
          "base_uri": "https://localhost:8080/",
          "height": 520
        },
        "id": "zbKyAxBqVuED",
        "outputId": "cb67d09d-9b2e-496d-fa89-7f5680dadbd5"
      },
      "source": [
        "cm = metrics.confusion_matrix(y_test, predictions)\n",
        "plt.figure(figsize=(9,9))\n",
        "sns.heatmap(cm, annot=True, fmt=\".3f\", linewidths=.5, square = True, cmap = 'Blues_r');\n",
        "plt.ylabel('Actual label');\n",
        "plt.xlabel('Predicted label');\n",
        "all_sample_title = 'Accuracy Score: {0}%'.format(round(score * 100,2))\n",
        "plt.title(all_sample_title, size = 15);"
      ],
      "execution_count": 33,
      "outputs": [
        {
          "output_type": "display_data",
          "data": {
            "image/png": "[encoded data removed]",
            "text/plain": [
              "<Figure size 648x648 with 2 Axes>"
            ]
          },
          "metadata": {
            "tags": [],
            "needs_background": "light"
          }
        }
      ]
    },
    {
      "cell_type": "markdown",
      "metadata": {
        "id": "XQoPI2w5YWyO"
      },
      "source": [
        " Model has many false negative samples. It could distinguish only small percent of positive samples because there is a bias towards \"0\" since dataset is imbalanced. Lower than 10%  (≈7.8%) percent of the dataset indicates information about customers who are subscribed to term deposit."
      ]
    },
    {
      "cell_type": "code",
      "metadata": {
        "colab": {
          "base_uri": "https://localhost:8080/"
        },
        "id": "f9ep6EcOXno6",
        "outputId": "15dd58c3-b766-4b19-a031-ea414a375047"
      },
      "source": [
        "success_rate = 167 / (167+370) * 100\n",
        "print(f'Accuracy rate of positive samples is {round(success_rate,3)}%')"
      ],
      "execution_count": 34,
      "outputs": [
        {
          "output_type": "stream",
          "text": [
            "Accuracy rate of positive samples is 31.099%\n"
          ],
          "name": "stdout"
        }
      ]
    },
    {
      "cell_type": "markdown",
      "metadata": {
        "id": "Zp8YHpyHaO4E"
      },
      "source": [
        "# Logistic Regression with Class weight to handle Imbalanced Data"
      ]
    },
    {
      "cell_type": "code",
      "metadata": {
        "id": "3ICqjrj6b9id"
      },
      "source": [
        "log_reg_weighted = LogisticRegression(class_weight='balanced').fit(X_train, y_train.ravel()) ## Balanced ClassWeight\n",
        "scores = cross_val_score(log_reg_weighted, X_train, y_train.ravel(), cv = 5)"
      ],
      "execution_count": 35,
      "outputs": []
    },
    {
      "cell_type": "code",
      "metadata": {
        "colab": {
          "base_uri": "https://localhost:8080/"
        },
        "id": "Q32G7Z6WcqiO",
        "outputId": "13163100-bdcd-4057-df44-655ee07a0aa8"
      },
      "source": [
        "print(f'5-fold CV average accuracy is = {round(scores.mean() * 100,2)}%')\n",
        "for turn, score in enumerate(scores, 1) :\n",
        "  print(f'{turn}. model accuracy is {round(score * 100,2)}%')\n"
      ],
      "execution_count": 36,
      "outputs": [
        {
          "output_type": "stream",
          "text": [
            "5-fold CV average accuracy is = 86.57%\n",
            "1. model accuracy is 86.97%\n",
            "2. model accuracy is 86.3%\n",
            "3. model accuracy is 87.09%\n",
            "4. model accuracy is 86.64%\n",
            "5. model accuracy is 85.84%\n"
          ],
          "name": "stdout"
        }
      ]
    },
    {
      "cell_type": "code",
      "metadata": {
        "id": "zh5j9ml4c9s-"
      },
      "source": [
        "predictions = log_reg_weighted.predict(X_test)\n",
        "score = log_reg_weighted.score(X_test, y_test.ravel())"
      ],
      "execution_count": 37,
      "outputs": []
    },
    {
      "cell_type": "code",
      "metadata": {
        "colab": {
          "base_uri": "https://localhost:8080/",
          "height": 520
        },
        "id": "uH37TxhEdXE0",
        "outputId": "b6971df4-f6a8-4348-a333-05e5de3702d8"
      },
      "source": [
        "cm = metrics.confusion_matrix(y_test, predictions)\n",
        "plt.figure(figsize=(9,9))\n",
        "sns.heatmap(cm, annot=True, fmt=\".0f\",linewidths=.5, square = True, cmap = 'Blues_r');\n",
        "plt.ylabel('Actual label');\n",
        "plt.xlabel('Predicted label');\n",
        "all_sample_title = 'Accuracy Score: {0}%'.format(score*100)\n",
        "plt.title(all_sample_title, size = 15);"
      ],
      "execution_count": 38,
      "outputs": [
        {
          "output_type": "display_data",
          "data": {
            "image/png": "[encoded data removed]",
            "text/plain": [
              "<Figure size 648x648 with 2 Axes>"
            ]
          },
          "metadata": {
            "tags": [],
            "needs_background": "light"
          }
        }
      ]
    },
    {
      "cell_type": "code",
      "metadata": {
        "colab": {
          "base_uri": "https://localhost:8080/"
        },
        "id": "XJWVU2HKn0hf",
        "outputId": "6c3ba2fd-2e6c-4d52-9e81-73f435378fb1"
      },
      "source": [
        "true_pos_rate = round(469/(469+68) * 100,2)\n",
        "print(f'True positive rate is {true_pos_rate}%')"
      ],
      "execution_count": 39,
      "outputs": [
        {
          "output_type": "stream",
          "text": [
            "True positive rate is 87.34%\n"
          ],
          "name": "stdout"
        }
      ]
    },
    {
      "cell_type": "markdown",
      "metadata": {
        "id": "bMbTVHx3eGy4"
      },
      "source": [
        "\n",
        "Utilizing class weights, overall accuracy reduces, but false negative number decreases. In our case, identifying positive customers is more important, so class weights is an option to use. \n",
        "#What happens under the hood?\n",
        "\n",
        "In logistic regression, we calculate loss per example using binary cross-entropy:\n",
        "\n",
        "Loss = −ylog(p) − (1−y)log(1−p)\n",
        "\n",
        "\n",
        "In this particular form, we give equal weight to both the positive and the negative classes. When we set class_weight as class_weight = {0:1,1:20}, the classifier in the background tries to minimize:\n",
        "\n",
        "NewLoss = −20*ylog(p) − 1*(1−y)log(1−p)\n",
        "\n",
        "Check : https://www.kdnuggets.com/2020/015-most-useful-techniques-handle-imbalanced-datasets.html\n",
        "\n",
        "Can we decrease the number of false negative further?\n"
      ]
    },
    {
      "cell_type": "markdown",
      "metadata": {
        "id": "VRIsld1oCMlh"
      },
      "source": [
        "# Neural Network approach"
      ]
    },
    {
      "cell_type": "code",
      "metadata": {
        "id": "qM4AjGvaFLg3"
      },
      "source": [
        "import tensorflow as tf\n",
        "from tensorflow import keras\n",
        "import os\n",
        "import tempfile\n",
        "import matplotlib as mpl\n",
        "import sklearn\n",
        "from sklearn.metrics import confusion_matrix"
      ],
      "execution_count": 40,
      "outputs": []
    },
    {
      "cell_type": "code",
      "metadata": {
        "id": "2jbZsoI1CNvZ"
      },
      "source": [
        "METRICS = [ ## Model evaluation metrics\n",
        "      keras.metrics.TruePositives(name='tp'),\n",
        "      keras.metrics.FalsePositives(name='fp'),\n",
        "      keras.metrics.TrueNegatives(name='tn'),\n",
        "      keras.metrics.FalseNegatives(name='fn'), \n",
        "      keras.metrics.BinaryAccuracy(name='accuracy'),\n",
        "      keras.metrics.Precision(name='precision'),\n",
        "      keras.metrics.Recall(name='recall'),\n",
        "      keras.metrics.AUC(name='auc'),\n",
        "]\n",
        "\n",
        "def make_model(metrics=METRICS, output_bias=None):\n",
        "  if output_bias is not None:\n",
        "    output_bias = tf.keras.initializers.Constant(output_bias)\n",
        "  model = keras.Sequential([\n",
        "      keras.layers.Dense(\n",
        "          32, activation='relu',\n",
        "          input_shape=(X_train.shape[-1],)),\n",
        "      keras.layers.Dropout(0.5),\n",
        "      keras.layers.Dense(\n",
        "          32, activation='relu',\n",
        "          input_shape=(X_train.shape[-1],)),\n",
        "      keras.layers.Dropout(0.5),\n",
        "      keras.layers.Dense(1, activation='sigmoid',\n",
        "                         bias_initializer=output_bias),\n",
        "    \n",
        "  ])\n",
        "\n",
        "  model.compile(\n",
        "      optimizer=keras.optimizers.Adam(lr=1e-3),\n",
        "      loss=keras.losses.BinaryCrossentropy(),\n",
        "      metrics=metrics)\n",
        "\n",
        "  return model"
      ],
      "execution_count": 41,
      "outputs": []
    },
    {
      "cell_type": "code",
      "metadata": {
        "id": "yXgzwd0BF9Qi"
      },
      "source": [
        "EPOCHS = 150\n",
        "BATCH_SIZE = 1024\n",
        "\n",
        "early_stopping = tf.keras.callbacks.EarlyStopping( ## Callback regarding validation AUC performance\n",
        "    monitor='val_auc', \n",
        "    verbose=1,\n",
        "    patience=10,\n",
        "    mode='max',\n",
        "    restore_best_weights=True)"
      ],
      "execution_count": 42,
      "outputs": []
    },
    {
      "cell_type": "markdown",
      "metadata": {
        "id": "c3ZixLdsUky7"
      },
      "source": [
        "Since dataset is imbalanced, initial bias setting is an option so that the model will give much more reasonable initial guesses.\n",
        "The correct bias to set can be derived from:\n",
        "\n",
        "bias = $log( N_(pos) / N_(neg)) $\n"
      ]
    },
    {
      "cell_type": "code",
      "metadata": {
        "id": "gpbvyINMWPes"
      },
      "source": [
        "pos = len(np.where(y_train == 1)[0])\n",
        "neg =  len(np.where(y_train == 0)[0])\n",
        "total = pos + neg\n",
        "initial_bias = np.log(pos/neg)"
      ],
      "execution_count": 43,
      "outputs": []
    },
    {
      "cell_type": "code",
      "metadata": {
        "colab": {
          "base_uri": "https://localhost:8080/"
        },
        "id": "xDTEWuFe1GTx",
        "outputId": "7070eb49-eb1e-4e90-f64e-26e408d6a256"
      },
      "source": [
        "model = make_model(output_bias =initial_bias)\n",
        "model.summary()"
      ],
      "execution_count": 44,
      "outputs": [
        {
          "output_type": "stream",
          "text": [
            "Model: \"sequential\"\n",
            "_________________________________________________________________\n",
            "Layer (type)                 Output Shape              Param #   \n",
            "=================================================================\n",
            "dense (Dense)                (None, 32)                1344      \n",
            "_________________________________________________________________\n",
            "dropout (Dropout)            (None, 32)                0         \n",
            "_________________________________________________________________\n",
            "dense_1 (Dense)              (None, 32)                1056      \n",
            "_________________________________________________________________\n",
            "dropout_1 (Dropout)          (None, 32)                0         \n",
            "_________________________________________________________________\n",
            "dense_2 (Dense)              (None, 1)                 33        \n",
            "=================================================================\n",
            "Total params: 2,433\n",
            "Trainable params: 2,433\n",
            "Non-trainable params: 0\n",
            "_________________________________________________________________\n"
          ],
          "name": "stdout"
        }
      ]
    },
    {
      "cell_type": "code",
      "metadata": {
        "colab": {
          "base_uri": "https://localhost:8080/"
        },
        "id": "PKCtLliEYcnT",
        "outputId": "cad1d6b8-f255-45d1-940c-854450b78a46"
      },
      "source": [
        "# Scaling by total/2 helps keep the loss to a similar magnitude. Just like in the logistic regression example.\n",
        "\n",
        "weight_for_0 = (1 / neg)*(total)/2.0 \n",
        "weight_for_1 = (1 / pos)*(total)/2.0\n",
        "\n",
        "class_weight = {0: weight_for_0, 1: weight_for_1}\n",
        "\n",
        "print('Weight for class 0: {:.2f}'.format(weight_for_0))\n",
        "print('Weight for class 1: {:.2f}'.format(weight_for_1))"
      ],
      "execution_count": 45,
      "outputs": [
        {
          "output_type": "stream",
          "text": [
            "Weight for class 0: 0.54\n",
            "Weight for class 1: 6.78\n"
          ],
          "name": "stdout"
        }
      ]
    },
    {
      "cell_type": "code",
      "metadata": {
        "colab": {
          "base_uri": "https://localhost:8080/"
        },
        "id": "5A5LoSBBYxYs",
        "outputId": "30be9add-74de-494c-b21d-022d013ba112"
      },
      "source": [
        "\n",
        "\n",
        "history = model.fit(\n",
        "    X_train,\n",
        "    y_train,\n",
        "    batch_size=BATCH_SIZE,\n",
        "    epochs=EPOCHS,\n",
        "    callbacks=[early_stopping],\n",
        "    validation_split = 0.2,\n",
        "    class_weight=class_weight)"
      ],
      "execution_count": 46,
      "outputs": [
        {
          "output_type": "stream",
          "text": [
            "Epoch 1/150\n",
            "25/25 [==============================] - 3s 56ms/step - loss: 1.2938 - tp: 120.6154 - fp: 870.1538 - tn: 11900.3462 - fn: 893.5000 - accuracy: 0.8803 - precision: 0.1199 - recall: 0.1013 - auc: 0.5281 - val_loss: 0.3486 - val_tp: 60.0000 - val_fp: 211.0000 - val_tn: 5730.0000 - val_fn: 399.0000 - val_accuracy: 0.9047 - val_precision: 0.2214 - val_recall: 0.1307 - val_auc: 0.6274\n",
            "Epoch 2/150\n",
            "25/25 [==============================] - 0s 10ms/step - loss: 0.9202 - tp: 357.8846 - fp: 2670.2692 - tn: 10097.6923 - fn: 658.7692 - accuracy: 0.7676 - precision: 0.1189 - recall: 0.3392 - auc: 0.5857 - val_loss: 0.4519 - val_tp: 157.0000 - val_fp: 731.0000 - val_tn: 5210.0000 - val_fn: 302.0000 - val_accuracy: 0.8386 - val_precision: 0.1768 - val_recall: 0.3420 - val_auc: 0.7069\n",
            "Epoch 3/150\n",
            "25/25 [==============================] - 0s 10ms/step - loss: 0.8358 - tp: 478.7308 - fp: 3319.9231 - tn: 9425.2308 - fn: 560.7308 - accuracy: 0.7182 - precision: 0.1282 - recall: 0.4577 - auc: 0.6321 - val_loss: 0.4213 - val_tp: 184.0000 - val_fp: 576.0000 - val_tn: 5365.0000 - val_fn: 275.0000 - val_accuracy: 0.8670 - val_precision: 0.2421 - val_recall: 0.4009 - val_auc: 0.7797\n",
            "Epoch 4/150\n",
            "25/25 [==============================] - 0s 10ms/step - loss: 0.7501 - tp: 474.6154 - fp: 2951.9231 - tn: 9828.6154 - fn: 529.4615 - accuracy: 0.7451 - precision: 0.1319 - recall: 0.4597 - auc: 0.6559 - val_loss: 0.4063 - val_tp: 221.0000 - val_fp: 526.0000 - val_tn: 5415.0000 - val_fn: 238.0000 - val_accuracy: 0.8806 - val_precision: 0.2959 - val_recall: 0.4815 - val_auc: 0.8268\n",
            "Epoch 5/150\n",
            "25/25 [==============================] - 0s 10ms/step - loss: 0.7293 - tp: 540.3846 - fp: 2987.7692 - tn: 9762.5769 - fn: 493.8846 - accuracy: 0.7473 - precision: 0.1497 - recall: 0.5107 - auc: 0.6864 - val_loss: 0.3983 - val_tp: 251.0000 - val_fp: 524.0000 - val_tn: 5417.0000 - val_fn: 208.0000 - val_accuracy: 0.8856 - val_precision: 0.3239 - val_recall: 0.5468 - val_auc: 0.8569\n",
            "Epoch 6/150\n",
            "25/25 [==============================] - 0s 10ms/step - loss: 0.6615 - tp: 575.4615 - fp: 2722.2308 - tn: 10043.8462 - fn: 443.0769 - accuracy: 0.7693 - precision: 0.1734 - recall: 0.5642 - auc: 0.7325 - val_loss: 0.3840 - val_tp: 265.0000 - val_fp: 502.0000 - val_tn: 5439.0000 - val_fn: 194.0000 - val_accuracy: 0.8913 - val_precision: 0.3455 - val_recall: 0.5773 - val_auc: 0.8728\n",
            "Epoch 7/150\n",
            "25/25 [==============================] - 0s 10ms/step - loss: 0.6256 - tp: 616.1923 - fp: 2546.5385 - tn: 10215.0385 - fn: 406.8462 - accuracy: 0.7846 - precision: 0.1921 - recall: 0.5915 - auc: 0.7565 - val_loss: 0.3814 - val_tp: 297.0000 - val_fp: 539.0000 - val_tn: 5402.0000 - val_fn: 162.0000 - val_accuracy: 0.8905 - val_precision: 0.3553 - val_recall: 0.6471 - val_auc: 0.8839\n",
            "Epoch 8/150\n",
            "25/25 [==============================] - 0s 10ms/step - loss: 0.6079 - tp: 619.3462 - fp: 2518.0385 - tn: 10252.8846 - fn: 394.3462 - accuracy: 0.7886 - precision: 0.1989 - recall: 0.6073 - auc: 0.7731 - val_loss: 0.3744 - val_tp: 309.0000 - val_fp: 556.0000 - val_tn: 5385.0000 - val_fn: 150.0000 - val_accuracy: 0.8897 - val_precision: 0.3572 - val_recall: 0.6732 - val_auc: 0.8940\n",
            "Epoch 9/150\n",
            "25/25 [==============================] - 0s 10ms/step - loss: 0.5781 - tp: 646.7692 - fp: 2311.1923 - tn: 10442.4231 - fn: 384.2308 - accuracy: 0.8043 - precision: 0.2182 - recall: 0.6207 - auc: 0.8008 - val_loss: 0.3681 - val_tp: 317.0000 - val_fp: 554.0000 - val_tn: 5387.0000 - val_fn: 142.0000 - val_accuracy: 0.8913 - val_precision: 0.3639 - val_recall: 0.6906 - val_auc: 0.8996\n",
            "Epoch 10/150\n",
            "25/25 [==============================] - 0s 10ms/step - loss: 0.5439 - tp: 678.5000 - fp: 2186.3077 - tn: 10576.0000 - fn: 343.8077 - accuracy: 0.8172 - precision: 0.2359 - recall: 0.6595 - auc: 0.8228 - val_loss: 0.3712 - val_tp: 327.0000 - val_fp: 588.0000 - val_tn: 5353.0000 - val_fn: 132.0000 - val_accuracy: 0.8875 - val_precision: 0.3574 - val_recall: 0.7124 - val_auc: 0.9036\n",
            "Epoch 11/150\n",
            "25/25 [==============================] - 0s 10ms/step - loss: 0.5256 - tp: 698.7308 - fp: 2174.5385 - tn: 10585.3846 - fn: 325.9615 - accuracy: 0.8163 - precision: 0.2354 - recall: 0.6760 - auc: 0.8358 - val_loss: 0.3652 - val_tp: 327.0000 - val_fp: 580.0000 - val_tn: 5361.0000 - val_fn: 132.0000 - val_accuracy: 0.8888 - val_precision: 0.3605 - val_recall: 0.7124 - val_auc: 0.9066\n",
            "Epoch 12/150\n",
            "25/25 [==============================] - 0s 10ms/step - loss: 0.4898 - tp: 723.0000 - fp: 2010.0000 - tn: 10766.7692 - fn: 284.8462 - accuracy: 0.8325 - precision: 0.2604 - recall: 0.7250 - auc: 0.8568 - val_loss: 0.3669 - val_tp: 334.0000 - val_fp: 599.0000 - val_tn: 5342.0000 - val_fn: 125.0000 - val_accuracy: 0.8869 - val_precision: 0.3580 - val_recall: 0.7277 - val_auc: 0.9092\n",
            "Epoch 13/150\n",
            "25/25 [==============================] - 0s 11ms/step - loss: 0.4924 - tp: 712.6923 - fp: 1940.6923 - tn: 10823.6154 - fn: 307.6154 - accuracy: 0.8372 - precision: 0.2684 - recall: 0.6987 - auc: 0.8647 - val_loss: 0.3705 - val_tp: 337.0000 - val_fp: 629.0000 - val_tn: 5312.0000 - val_fn: 122.0000 - val_accuracy: 0.8827 - val_precision: 0.3489 - val_recall: 0.7342 - val_auc: 0.9107\n",
            "Epoch 14/150\n",
            "25/25 [==============================] - 0s 10ms/step - loss: 0.4857 - tp: 764.4231 - fp: 1893.6154 - tn: 10852.3462 - fn: 274.2308 - accuracy: 0.8417 - precision: 0.2891 - recall: 0.7324 - auc: 0.8739 - val_loss: 0.3660 - val_tp: 339.0000 - val_fp: 612.0000 - val_tn: 5329.0000 - val_fn: 120.0000 - val_accuracy: 0.8856 - val_precision: 0.3565 - val_recall: 0.7386 - val_auc: 0.9127\n",
            "Epoch 15/150\n",
            "25/25 [==============================] - 0s 10ms/step - loss: 0.4703 - tp: 741.9231 - fp: 1808.5000 - tn: 10961.3846 - fn: 272.8077 - accuracy: 0.8482 - precision: 0.2898 - recall: 0.7321 - auc: 0.8812 - val_loss: 0.3706 - val_tp: 342.0000 - val_fp: 632.0000 - val_tn: 5309.0000 - val_fn: 117.0000 - val_accuracy: 0.8830 - val_precision: 0.3511 - val_recall: 0.7451 - val_auc: 0.9141\n",
            "Epoch 16/150\n",
            "25/25 [==============================] - 0s 10ms/step - loss: 0.4480 - tp: 744.7692 - fp: 1798.2692 - tn: 10977.6154 - fn: 263.9615 - accuracy: 0.8501 - precision: 0.2914 - recall: 0.7469 - auc: 0.8896 - val_loss: 0.3754 - val_tp: 352.0000 - val_fp: 647.0000 - val_tn: 5294.0000 - val_fn: 107.0000 - val_accuracy: 0.8822 - val_precision: 0.3524 - val_recall: 0.7669 - val_auc: 0.9151\n",
            "Epoch 17/150\n",
            "25/25 [==============================] - 0s 10ms/step - loss: 0.4597 - tp: 763.0385 - fp: 1804.8077 - tn: 10962.3462 - fn: 254.4231 - accuracy: 0.8499 - precision: 0.2942 - recall: 0.7438 - auc: 0.8847 - val_loss: 0.3735 - val_tp: 351.0000 - val_fp: 648.0000 - val_tn: 5293.0000 - val_fn: 108.0000 - val_accuracy: 0.8819 - val_precision: 0.3514 - val_recall: 0.7647 - val_auc: 0.9160\n",
            "Epoch 18/150\n",
            "25/25 [==============================] - 0s 10ms/step - loss: 0.4561 - tp: 787.1923 - fp: 1750.4231 - tn: 10990.6538 - fn: 256.3462 - accuracy: 0.8551 - precision: 0.3162 - recall: 0.7506 - auc: 0.8963 - val_loss: 0.3650 - val_tp: 346.0000 - val_fp: 632.0000 - val_tn: 5309.0000 - val_fn: 113.0000 - val_accuracy: 0.8836 - val_precision: 0.3538 - val_recall: 0.7538 - val_auc: 0.9166\n",
            "Epoch 19/150\n",
            "25/25 [==============================] - 0s 10ms/step - loss: 0.4465 - tp: 740.6538 - fp: 1654.9615 - tn: 11128.5385 - fn: 260.4615 - accuracy: 0.8609 - precision: 0.3105 - recall: 0.7426 - auc: 0.8936 - val_loss: 0.3647 - val_tp: 350.0000 - val_fp: 644.0000 - val_tn: 5297.0000 - val_fn: 109.0000 - val_accuracy: 0.8823 - val_precision: 0.3521 - val_recall: 0.7625 - val_auc: 0.9167\n",
            "Epoch 20/150\n",
            "25/25 [==============================] - 0s 10ms/step - loss: 0.4342 - tp: 774.6923 - fp: 1721.2308 - tn: 11044.3077 - fn: 244.3846 - accuracy: 0.8588 - precision: 0.3094 - recall: 0.7541 - auc: 0.9014 - val_loss: 0.3733 - val_tp: 356.0000 - val_fp: 675.0000 - val_tn: 5266.0000 - val_fn: 103.0000 - val_accuracy: 0.8784 - val_precision: 0.3453 - val_recall: 0.7756 - val_auc: 0.9175\n",
            "Epoch 21/150\n",
            "25/25 [==============================] - 0s 10ms/step - loss: 0.4211 - tp: 781.5000 - fp: 1665.2692 - tn: 11103.5385 - fn: 234.3077 - accuracy: 0.8611 - precision: 0.3157 - recall: 0.7727 - auc: 0.9067 - val_loss: 0.3657 - val_tp: 354.0000 - val_fp: 665.0000 - val_tn: 5276.0000 - val_fn: 105.0000 - val_accuracy: 0.8797 - val_precision: 0.3474 - val_recall: 0.7712 - val_auc: 0.9183\n",
            "Epoch 22/150\n",
            "25/25 [==============================] - 0s 10ms/step - loss: 0.4342 - tp: 783.5769 - fp: 1681.8077 - tn: 11082.2308 - fn: 237.0000 - accuracy: 0.8602 - precision: 0.3213 - recall: 0.7657 - auc: 0.9031 - val_loss: 0.3566 - val_tp: 352.0000 - val_fp: 655.0000 - val_tn: 5286.0000 - val_fn: 107.0000 - val_accuracy: 0.8809 - val_precision: 0.3496 - val_recall: 0.7669 - val_auc: 0.9186\n",
            "Epoch 23/150\n",
            "25/25 [==============================] - 0s 10ms/step - loss: 0.4153 - tp: 781.8462 - fp: 1628.1538 - tn: 11141.2692 - fn: 233.3462 - accuracy: 0.8644 - precision: 0.3262 - recall: 0.7662 - auc: 0.9114 - val_loss: 0.3612 - val_tp: 359.0000 - val_fp: 677.0000 - val_tn: 5264.0000 - val_fn: 100.0000 - val_accuracy: 0.8786 - val_precision: 0.3465 - val_recall: 0.7821 - val_auc: 0.9192\n",
            "Epoch 24/150\n",
            "25/25 [==============================] - 0s 11ms/step - loss: 0.4355 - tp: 795.3462 - fp: 1683.2692 - tn: 11065.1923 - fn: 240.8077 - accuracy: 0.8590 - precision: 0.3217 - recall: 0.7644 - auc: 0.9055 - val_loss: 0.3640 - val_tp: 362.0000 - val_fp: 691.0000 - val_tn: 5250.0000 - val_fn: 97.0000 - val_accuracy: 0.8769 - val_precision: 0.3438 - val_recall: 0.7887 - val_auc: 0.9200\n",
            "Epoch 25/150\n",
            "25/25 [==============================] - 0s 10ms/step - loss: 0.4075 - tp: 783.3462 - fp: 1655.9615 - tn: 11114.6154 - fn: 230.6923 - accuracy: 0.8633 - precision: 0.3178 - recall: 0.7673 - auc: 0.9115 - val_loss: 0.3581 - val_tp: 360.0000 - val_fp: 675.0000 - val_tn: 5266.0000 - val_fn: 99.0000 - val_accuracy: 0.8791 - val_precision: 0.3478 - val_recall: 0.7843 - val_auc: 0.9205\n",
            "Epoch 26/150\n",
            "25/25 [==============================] - 0s 11ms/step - loss: 0.3916 - tp: 799.6154 - fp: 1622.0385 - tn: 11151.4615 - fn: 211.5000 - accuracy: 0.8688 - precision: 0.3346 - recall: 0.7955 - auc: 0.9197 - val_loss: 0.3574 - val_tp: 362.0000 - val_fp: 688.0000 - val_tn: 5253.0000 - val_fn: 97.0000 - val_accuracy: 0.8773 - val_precision: 0.3448 - val_recall: 0.7887 - val_auc: 0.9209\n",
            "Epoch 27/150\n",
            "25/25 [==============================] - 0s 10ms/step - loss: 0.3888 - tp: 818.8462 - fp: 1636.0769 - tn: 11133.0000 - fn: 196.6923 - accuracy: 0.8671 - precision: 0.3304 - recall: 0.8099 - auc: 0.9186 - val_loss: 0.3612 - val_tp: 369.0000 - val_fp: 707.0000 - val_tn: 5234.0000 - val_fn: 90.0000 - val_accuracy: 0.8755 - val_precision: 0.3429 - val_recall: 0.8039 - val_auc: 0.9221\n",
            "Epoch 28/150\n",
            "25/25 [==============================] - 0s 10ms/step - loss: 0.4103 - tp: 829.6923 - fp: 1685.7692 - tn: 11064.7692 - fn: 204.3846 - accuracy: 0.8619 - precision: 0.3329 - recall: 0.8038 - auc: 0.9133 - val_loss: 0.3577 - val_tp: 373.0000 - val_fp: 717.0000 - val_tn: 5224.0000 - val_fn: 86.0000 - val_accuracy: 0.8745 - val_precision: 0.3422 - val_recall: 0.8126 - val_auc: 0.9223\n",
            "Epoch 29/150\n",
            "25/25 [==============================] - 0s 10ms/step - loss: 0.4030 - tp: 817.6923 - fp: 1684.0385 - tn: 11073.0769 - fn: 209.8077 - accuracy: 0.8627 - precision: 0.3224 - recall: 0.7918 - auc: 0.9137 - val_loss: 0.3531 - val_tp: 372.0000 - val_fp: 706.0000 - val_tn: 5235.0000 - val_fn: 87.0000 - val_accuracy: 0.8761 - val_precision: 0.3451 - val_recall: 0.8105 - val_auc: 0.9228\n",
            "Epoch 30/150\n",
            "25/25 [==============================] - 0s 11ms/step - loss: 0.3792 - tp: 825.1538 - fp: 1635.7308 - tn: 11136.0769 - fn: 187.6538 - accuracy: 0.8678 - precision: 0.3327 - recall: 0.8148 - auc: 0.9219 - val_loss: 0.3571 - val_tp: 379.0000 - val_fp: 722.0000 - val_tn: 5219.0000 - val_fn: 80.0000 - val_accuracy: 0.8747 - val_precision: 0.3442 - val_recall: 0.8257 - val_auc: 0.9233\n",
            "Epoch 31/150\n",
            "25/25 [==============================] - 0s 10ms/step - loss: 0.3830 - tp: 839.0000 - fp: 1675.8846 - tn: 11074.3846 - fn: 195.3462 - accuracy: 0.8640 - precision: 0.3343 - recall: 0.8158 - auc: 0.9230 - val_loss: 0.3542 - val_tp: 379.0000 - val_fp: 728.0000 - val_tn: 5213.0000 - val_fn: 80.0000 - val_accuracy: 0.8737 - val_precision: 0.3424 - val_recall: 0.8257 - val_auc: 0.9230\n",
            "Epoch 32/150\n",
            "25/25 [==============================] - 0s 10ms/step - loss: 0.3771 - tp: 833.0385 - fp: 1652.0769 - tn: 11102.9231 - fn: 196.5769 - accuracy: 0.8662 - precision: 0.3356 - recall: 0.8123 - auc: 0.9245 - val_loss: 0.3531 - val_tp: 379.0000 - val_fp: 733.0000 - val_tn: 5208.0000 - val_fn: 80.0000 - val_accuracy: 0.8730 - val_precision: 0.3408 - val_recall: 0.8257 - val_auc: 0.9234\n",
            "Epoch 33/150\n",
            "25/25 [==============================] - 0s 10ms/step - loss: 0.3824 - tp: 818.5769 - fp: 1639.7308 - tn: 11134.6538 - fn: 191.6538 - accuracy: 0.8661 - precision: 0.3315 - recall: 0.8079 - auc: 0.9215 - val_loss: 0.3505 - val_tp: 378.0000 - val_fp: 736.0000 - val_tn: 5205.0000 - val_fn: 81.0000 - val_accuracy: 0.8723 - val_precision: 0.3393 - val_recall: 0.8235 - val_auc: 0.9240\n",
            "Epoch 34/150\n",
            "25/25 [==============================] - 0s 11ms/step - loss: 0.3924 - tp: 815.5000 - fp: 1681.5000 - tn: 11089.6538 - fn: 197.9615 - accuracy: 0.8635 - precision: 0.3258 - recall: 0.8037 - auc: 0.9166 - val_loss: 0.3485 - val_tp: 379.0000 - val_fp: 737.0000 - val_tn: 5204.0000 - val_fn: 80.0000 - val_accuracy: 0.8723 - val_precision: 0.3396 - val_recall: 0.8257 - val_auc: 0.9241\n",
            "Epoch 35/150\n",
            "25/25 [==============================] - 0s 10ms/step - loss: 0.3676 - tp: 838.5000 - fp: 1646.5769 - tn: 11119.3846 - fn: 180.1538 - accuracy: 0.8679 - precision: 0.3392 - recall: 0.8213 - auc: 0.9276 - val_loss: 0.3430 - val_tp: 376.0000 - val_fp: 728.0000 - val_tn: 5213.0000 - val_fn: 83.0000 - val_accuracy: 0.8733 - val_precision: 0.3406 - val_recall: 0.8192 - val_auc: 0.9244\n",
            "Epoch 36/150\n",
            "25/25 [==============================] - 0s 10ms/step - loss: 0.3796 - tp: 808.3077 - fp: 1647.1923 - tn: 11129.4615 - fn: 199.6538 - accuracy: 0.8661 - precision: 0.3226 - recall: 0.7982 - auc: 0.9200 - val_loss: 0.3472 - val_tp: 382.0000 - val_fp: 756.0000 - val_tn: 5185.0000 - val_fn: 77.0000 - val_accuracy: 0.8698 - val_precision: 0.3357 - val_recall: 0.8322 - val_auc: 0.9247\n",
            "Epoch 37/150\n",
            "25/25 [==============================] - 0s 10ms/step - loss: 0.3774 - tp: 839.9615 - fp: 1682.1923 - tn: 11080.9231 - fn: 181.5385 - accuracy: 0.8635 - precision: 0.3289 - recall: 0.8197 - auc: 0.9225 - val_loss: 0.3411 - val_tp: 376.0000 - val_fp: 743.0000 - val_tn: 5198.0000 - val_fn: 83.0000 - val_accuracy: 0.8709 - val_precision: 0.3360 - val_recall: 0.8192 - val_auc: 0.9252\n",
            "Epoch 38/150\n",
            "25/25 [==============================] - 0s 11ms/step - loss: 0.3657 - tp: 822.9615 - fp: 1664.8077 - tn: 11110.1154 - fn: 186.7308 - accuracy: 0.8660 - precision: 0.3287 - recall: 0.8217 - auc: 0.9253 - val_loss: 0.3478 - val_tp: 384.0000 - val_fp: 779.0000 - val_tn: 5162.0000 - val_fn: 75.0000 - val_accuracy: 0.8666 - val_precision: 0.3302 - val_recall: 0.8366 - val_auc: 0.9257\n",
            "Epoch 39/150\n",
            "25/25 [==============================] - 0s 10ms/step - loss: 0.3849 - tp: 857.7308 - fp: 1763.8462 - tn: 10974.6154 - fn: 188.4231 - accuracy: 0.8582 - precision: 0.3263 - recall: 0.8158 - auc: 0.9216 - val_loss: 0.3518 - val_tp: 387.0000 - val_fp: 793.0000 - val_tn: 5148.0000 - val_fn: 72.0000 - val_accuracy: 0.8648 - val_precision: 0.3280 - val_recall: 0.8431 - val_auc: 0.9261\n",
            "Epoch 40/150\n",
            "25/25 [==============================] - 0s 11ms/step - loss: 0.3751 - tp: 855.6154 - fp: 1707.4231 - tn: 11042.4231 - fn: 179.1538 - accuracy: 0.8616 - precision: 0.3299 - recall: 0.8229 - auc: 0.9241 - val_loss: 0.3478 - val_tp: 384.0000 - val_fp: 790.0000 - val_tn: 5151.0000 - val_fn: 75.0000 - val_accuracy: 0.8648 - val_precision: 0.3271 - val_recall: 0.8366 - val_auc: 0.9264\n",
            "Epoch 41/150\n",
            "25/25 [==============================] - 0s 11ms/step - loss: 0.3637 - tp: 845.4231 - fp: 1714.1923 - tn: 11049.1538 - fn: 175.8462 - accuracy: 0.8612 - precision: 0.3261 - recall: 0.8198 - auc: 0.9256 - val_loss: 0.3322 - val_tp: 378.0000 - val_fp: 752.0000 - val_tn: 5189.0000 - val_fn: 81.0000 - val_accuracy: 0.8698 - val_precision: 0.3345 - val_recall: 0.8235 - val_auc: 0.9268\n",
            "Epoch 42/150\n",
            "25/25 [==============================] - 0s 10ms/step - loss: 0.3689 - tp: 818.3462 - fp: 1650.4615 - tn: 11124.4615 - fn: 191.3462 - accuracy: 0.8663 - precision: 0.3306 - recall: 0.8127 - auc: 0.9258 - val_loss: 0.3408 - val_tp: 386.0000 - val_fp: 789.0000 - val_tn: 5152.0000 - val_fn: 73.0000 - val_accuracy: 0.8653 - val_precision: 0.3285 - val_recall: 0.8410 - val_auc: 0.9268\n",
            "Epoch 43/150\n",
            "25/25 [==============================] - 0s 10ms/step - loss: 0.3536 - tp: 860.2692 - fp: 1733.4231 - tn: 11034.4615 - fn: 156.4615 - accuracy: 0.8648 - precision: 0.3361 - recall: 0.8473 - auc: 0.9296 - val_loss: 0.3449 - val_tp: 386.0000 - val_fp: 806.0000 - val_tn: 5135.0000 - val_fn: 73.0000 - val_accuracy: 0.8627 - val_precision: 0.3238 - val_recall: 0.8410 - val_auc: 0.9269\n",
            "Epoch 44/150\n",
            "25/25 [==============================] - 0s 11ms/step - loss: 0.3625 - tp: 842.4231 - fp: 1739.3462 - tn: 11028.7692 - fn: 174.0769 - accuracy: 0.8626 - precision: 0.3264 - recall: 0.8261 - auc: 0.9257 - val_loss: 0.3401 - val_tp: 387.0000 - val_fp: 803.0000 - val_tn: 5138.0000 - val_fn: 72.0000 - val_accuracy: 0.8633 - val_precision: 0.3252 - val_recall: 0.8431 - val_auc: 0.9269\n",
            "Epoch 45/150\n",
            "25/25 [==============================] - 0s 10ms/step - loss: 0.3427 - tp: 857.6538 - fp: 1714.6538 - tn: 11057.6154 - fn: 154.6923 - accuracy: 0.8644 - precision: 0.3334 - recall: 0.8542 - auc: 0.9326 - val_loss: 0.3372 - val_tp: 386.0000 - val_fp: 803.0000 - val_tn: 5138.0000 - val_fn: 73.0000 - val_accuracy: 0.8631 - val_precision: 0.3246 - val_recall: 0.8410 - val_auc: 0.9270\n",
            "Epoch 46/150\n",
            "25/25 [==============================] - 0s 10ms/step - loss: 0.3541 - tp: 836.3846 - fp: 1700.0769 - tn: 11077.8077 - fn: 170.3462 - accuracy: 0.8632 - precision: 0.3221 - recall: 0.8214 - auc: 0.9274 - val_loss: 0.3370 - val_tp: 389.0000 - val_fp: 812.0000 - val_tn: 5129.0000 - val_fn: 70.0000 - val_accuracy: 0.8622 - val_precision: 0.3239 - val_recall: 0.8475 - val_auc: 0.9271\n",
            "Epoch 47/150\n",
            "25/25 [==============================] - 0s 10ms/step - loss: 0.3634 - tp: 864.9231 - fp: 1756.6538 - tn: 10995.1538 - fn: 167.8846 - accuracy: 0.8595 - precision: 0.3289 - recall: 0.8334 - auc: 0.9260 - val_loss: 0.3344 - val_tp: 388.0000 - val_fp: 816.0000 - val_tn: 5125.0000 - val_fn: 71.0000 - val_accuracy: 0.8614 - val_precision: 0.3223 - val_recall: 0.8453 - val_auc: 0.9274\n",
            "Epoch 48/150\n",
            "25/25 [==============================] - 0s 10ms/step - loss: 0.3508 - tp: 851.5385 - fp: 1698.4615 - tn: 11076.6923 - fn: 157.9231 - accuracy: 0.8652 - precision: 0.3327 - recall: 0.8430 - auc: 0.9291 - val_loss: 0.3326 - val_tp: 384.0000 - val_fp: 815.0000 - val_tn: 5126.0000 - val_fn: 75.0000 - val_accuracy: 0.8609 - val_precision: 0.3203 - val_recall: 0.8366 - val_auc: 0.9277\n",
            "Epoch 49/150\n",
            "25/25 [==============================] - 0s 11ms/step - loss: 0.3496 - tp: 873.4231 - fp: 1712.8077 - tn: 11031.5769 - fn: 166.8077 - accuracy: 0.8651 - precision: 0.3430 - recall: 0.8436 - auc: 0.9310 - val_loss: 0.3281 - val_tp: 387.0000 - val_fp: 809.0000 - val_tn: 5132.0000 - val_fn: 72.0000 - val_accuracy: 0.8623 - val_precision: 0.3236 - val_recall: 0.8431 - val_auc: 0.9273\n",
            "Epoch 50/150\n",
            "25/25 [==============================] - 0s 10ms/step - loss: 0.3588 - tp: 852.2692 - fp: 1695.9231 - tn: 11063.8846 - fn: 172.5385 - accuracy: 0.8665 - precision: 0.3358 - recall: 0.8329 - auc: 0.9267 - val_loss: 0.3370 - val_tp: 393.0000 - val_fp: 848.0000 - val_tn: 5093.0000 - val_fn: 66.0000 - val_accuracy: 0.8572 - val_precision: 0.3167 - val_recall: 0.8562 - val_auc: 0.9274\n",
            "Epoch 51/150\n",
            "25/25 [==============================] - 0s 11ms/step - loss: 0.3497 - tp: 879.5000 - fp: 1761.7692 - tn: 10991.6538 - fn: 151.6923 - accuracy: 0.8605 - precision: 0.3305 - recall: 0.8486 - auc: 0.9287 - val_loss: 0.3360 - val_tp: 399.0000 - val_fp: 853.0000 - val_tn: 5088.0000 - val_fn: 60.0000 - val_accuracy: 0.8573 - val_precision: 0.3187 - val_recall: 0.8693 - val_auc: 0.9277\n",
            "Epoch 52/150\n",
            "25/25 [==============================] - 0s 10ms/step - loss: 0.3571 - tp: 873.6154 - fp: 1775.0769 - tn: 10978.1538 - fn: 157.7692 - accuracy: 0.8596 - precision: 0.3300 - recall: 0.8478 - auc: 0.9272 - val_loss: 0.3356 - val_tp: 397.0000 - val_fp: 854.0000 - val_tn: 5087.0000 - val_fn: 62.0000 - val_accuracy: 0.8569 - val_precision: 0.3173 - val_recall: 0.8649 - val_auc: 0.9279\n",
            "Epoch 53/150\n",
            "25/25 [==============================] - 0s 11ms/step - loss: 0.3507 - tp: 875.8846 - fp: 1781.3462 - tn: 10980.9615 - fn: 146.4231 - accuracy: 0.8603 - precision: 0.3292 - recall: 0.8549 - auc: 0.9291 - val_loss: 0.3349 - val_tp: 397.0000 - val_fp: 856.0000 - val_tn: 5085.0000 - val_fn: 62.0000 - val_accuracy: 0.8566 - val_precision: 0.3168 - val_recall: 0.8649 - val_auc: 0.9281\n",
            "Epoch 54/150\n",
            "25/25 [==============================] - 0s 10ms/step - loss: 0.3448 - tp: 856.8462 - fp: 1778.0385 - tn: 11001.2692 - fn: 148.4615 - accuracy: 0.8597 - precision: 0.3228 - recall: 0.8543 - auc: 0.9303 - val_loss: 0.3335 - val_tp: 397.0000 - val_fp: 863.0000 - val_tn: 5078.0000 - val_fn: 62.0000 - val_accuracy: 0.8555 - val_precision: 0.3151 - val_recall: 0.8649 - val_auc: 0.9280\n",
            "Epoch 55/150\n",
            "25/25 [==============================] - 0s 10ms/step - loss: 0.3480 - tp: 857.6154 - fp: 1784.1154 - tn: 10998.0769 - fn: 144.8077 - accuracy: 0.8586 - precision: 0.3197 - recall: 0.8539 - auc: 0.9280 - val_loss: 0.3311 - val_tp: 400.0000 - val_fp: 863.0000 - val_tn: 5078.0000 - val_fn: 59.0000 - val_accuracy: 0.8559 - val_precision: 0.3167 - val_recall: 0.8715 - val_auc: 0.9282\n",
            "Epoch 56/150\n",
            "25/25 [==============================] - 0s 10ms/step - loss: 0.3411 - tp: 870.4231 - fp: 1806.7308 - tn: 10953.3462 - fn: 154.1154 - accuracy: 0.8581 - precision: 0.3256 - recall: 0.8508 - auc: 0.9312 - val_loss: 0.3318 - val_tp: 399.0000 - val_fp: 870.0000 - val_tn: 5071.0000 - val_fn: 60.0000 - val_accuracy: 0.8547 - val_precision: 0.3144 - val_recall: 0.8693 - val_auc: 0.9284\n",
            "Epoch 57/150\n",
            "25/25 [==============================] - 0s 10ms/step - loss: 0.3430 - tp: 867.6923 - fp: 1761.6923 - tn: 10996.6923 - fn: 158.5385 - accuracy: 0.8606 - precision: 0.3313 - recall: 0.8461 - auc: 0.9316 - val_loss: 0.3357 - val_tp: 402.0000 - val_fp: 883.0000 - val_tn: 5058.0000 - val_fn: 57.0000 - val_accuracy: 0.8531 - val_precision: 0.3128 - val_recall: 0.8758 - val_auc: 0.9286\n",
            "Epoch 58/150\n",
            "25/25 [==============================] - 0s 11ms/step - loss: 0.3448 - tp: 871.2308 - fp: 1810.2308 - tn: 10967.7692 - fn: 135.3846 - accuracy: 0.8583 - precision: 0.3237 - recall: 0.8641 - auc: 0.9292 - val_loss: 0.3320 - val_tp: 401.0000 - val_fp: 878.0000 - val_tn: 5063.0000 - val_fn: 58.0000 - val_accuracy: 0.8537 - val_precision: 0.3135 - val_recall: 0.8736 - val_auc: 0.9287\n",
            "Epoch 59/150\n",
            "25/25 [==============================] - 0s 10ms/step - loss: 0.3496 - tp: 882.3846 - fp: 1804.7308 - tn: 10950.9231 - fn: 146.5769 - accuracy: 0.8583 - precision: 0.3295 - recall: 0.8552 - auc: 0.9291 - val_loss: 0.3272 - val_tp: 399.0000 - val_fp: 869.0000 - val_tn: 5072.0000 - val_fn: 60.0000 - val_accuracy: 0.8548 - val_precision: 0.3147 - val_recall: 0.8693 - val_auc: 0.9287\n",
            "Epoch 60/150\n",
            "25/25 [==============================] - 0s 10ms/step - loss: 0.3449 - tp: 890.2308 - fp: 1795.6923 - tn: 10945.3077 - fn: 153.3846 - accuracy: 0.8576 - precision: 0.3328 - recall: 0.8559 - auc: 0.9316 - val_loss: 0.3309 - val_tp: 403.0000 - val_fp: 882.0000 - val_tn: 5059.0000 - val_fn: 56.0000 - val_accuracy: 0.8534 - val_precision: 0.3136 - val_recall: 0.8780 - val_auc: 0.9285\n",
            "Epoch 61/150\n",
            "25/25 [==============================] - 0s 11ms/step - loss: 0.3486 - tp: 865.9231 - fp: 1808.8462 - tn: 10959.3077 - fn: 150.5385 - accuracy: 0.8578 - precision: 0.3256 - recall: 0.8529 - auc: 0.9286 - val_loss: 0.3353 - val_tp: 408.0000 - val_fp: 906.0000 - val_tn: 5035.0000 - val_fn: 51.0000 - val_accuracy: 0.8505 - val_precision: 0.3105 - val_recall: 0.8889 - val_auc: 0.9286\n",
            "Epoch 62/150\n",
            "25/25 [==============================] - 0s 10ms/step - loss: 0.3398 - tp: 893.6923 - fp: 1877.1154 - tn: 10883.1154 - fn: 130.6923 - accuracy: 0.8524 - precision: 0.3170 - recall: 0.8676 - auc: 0.9307 - val_loss: 0.3286 - val_tp: 406.0000 - val_fp: 890.0000 - val_tn: 5051.0000 - val_fn: 53.0000 - val_accuracy: 0.8527 - val_precision: 0.3133 - val_recall: 0.8845 - val_auc: 0.9287\n",
            "Epoch 63/150\n",
            "25/25 [==============================] - 0s 11ms/step - loss: 0.3370 - tp: 896.5385 - fp: 1809.0000 - tn: 10943.2308 - fn: 135.8462 - accuracy: 0.8601 - precision: 0.3374 - recall: 0.8706 - auc: 0.9335 - val_loss: 0.3282 - val_tp: 407.0000 - val_fp: 903.0000 - val_tn: 5038.0000 - val_fn: 52.0000 - val_accuracy: 0.8508 - val_precision: 0.3107 - val_recall: 0.8867 - val_auc: 0.9292\n",
            "Epoch 64/150\n",
            "25/25 [==============================] - 0s 11ms/step - loss: 0.3249 - tp: 893.5769 - fp: 1798.2692 - tn: 10953.9231 - fn: 138.8462 - accuracy: 0.8600 - precision: 0.3324 - recall: 0.8674 - auc: 0.9371 - val_loss: 0.3285 - val_tp: 408.0000 - val_fp: 911.0000 - val_tn: 5030.0000 - val_fn: 51.0000 - val_accuracy: 0.8497 - val_precision: 0.3093 - val_recall: 0.8889 - val_auc: 0.9290\n",
            "Epoch 65/150\n",
            "25/25 [==============================] - 0s 11ms/step - loss: 0.3253 - tp: 889.8462 - fp: 1782.9231 - tn: 10976.7692 - fn: 135.0769 - accuracy: 0.8615 - precision: 0.3334 - recall: 0.8710 - auc: 0.9358 - val_loss: 0.3287 - val_tp: 408.0000 - val_fp: 911.0000 - val_tn: 5030.0000 - val_fn: 51.0000 - val_accuracy: 0.8497 - val_precision: 0.3093 - val_recall: 0.8889 - val_auc: 0.9292\n",
            "Epoch 66/150\n",
            "25/25 [==============================] - 0s 11ms/step - loss: 0.3270 - tp: 901.6154 - fp: 1820.2308 - tn: 10932.8846 - fn: 129.8846 - accuracy: 0.8605 - precision: 0.3362 - recall: 0.8774 - auc: 0.9362 - val_loss: 0.3288 - val_tp: 407.0000 - val_fp: 918.0000 - val_tn: 5023.0000 - val_fn: 52.0000 - val_accuracy: 0.8484 - val_precision: 0.3072 - val_recall: 0.8867 - val_auc: 0.9294\n",
            "Epoch 67/150\n",
            "25/25 [==============================] - 0s 11ms/step - loss: 0.3393 - tp: 897.9231 - fp: 1873.5000 - tn: 10871.2308 - fn: 141.9615 - accuracy: 0.8523 - precision: 0.3242 - recall: 0.8591 - auc: 0.9320 - val_loss: 0.3214 - val_tp: 405.0000 - val_fp: 901.0000 - val_tn: 5040.0000 - val_fn: 54.0000 - val_accuracy: 0.8508 - val_precision: 0.3101 - val_recall: 0.8824 - val_auc: 0.9295\n",
            "Epoch 68/150\n",
            "25/25 [==============================] - 0s 11ms/step - loss: 0.3331 - tp: 904.3462 - fp: 1857.5769 - tn: 10890.3077 - fn: 132.3846 - accuracy: 0.8581 - precision: 0.3311 - recall: 0.8684 - auc: 0.9340 - val_loss: 0.3275 - val_tp: 409.0000 - val_fp: 914.0000 - val_tn: 5027.0000 - val_fn: 50.0000 - val_accuracy: 0.8494 - val_precision: 0.3091 - val_recall: 0.8911 - val_auc: 0.9296\n",
            "Epoch 69/150\n",
            "25/25 [==============================] - 0s 10ms/step - loss: 0.3325 - tp: 889.3462 - fp: 1865.6154 - tn: 10891.5769 - fn: 138.0769 - accuracy: 0.8550 - precision: 0.3251 - recall: 0.8650 - auc: 0.9330 - val_loss: 0.3271 - val_tp: 413.0000 - val_fp: 920.0000 - val_tn: 5021.0000 - val_fn: 46.0000 - val_accuracy: 0.8491 - val_precision: 0.3098 - val_recall: 0.8998 - val_auc: 0.9296\n",
            "Epoch 70/150\n",
            "25/25 [==============================] - 0s 11ms/step - loss: 0.3398 - tp: 895.3462 - fp: 1877.6923 - tn: 10880.4615 - fn: 131.1154 - accuracy: 0.8533 - precision: 0.3265 - recall: 0.8736 - auc: 0.9315 - val_loss: 0.3254 - val_tp: 410.0000 - val_fp: 912.0000 - val_tn: 5029.0000 - val_fn: 49.0000 - val_accuracy: 0.8498 - val_precision: 0.3101 - val_recall: 0.8932 - val_auc: 0.9301\n",
            "Epoch 71/150\n",
            "25/25 [==============================] - 0s 10ms/step - loss: 0.3218 - tp: 901.2308 - fp: 1849.6923 - tn: 10915.6154 - fn: 118.0769 - accuracy: 0.8568 - precision: 0.3274 - recall: 0.8873 - auc: 0.9368 - val_loss: 0.3204 - val_tp: 405.0000 - val_fp: 899.0000 - val_tn: 5042.0000 - val_fn: 54.0000 - val_accuracy: 0.8511 - val_precision: 0.3106 - val_recall: 0.8824 - val_auc: 0.9300\n",
            "Epoch 72/150\n",
            "25/25 [==============================] - 0s 11ms/step - loss: 0.3190 - tp: 904.6923 - fp: 1834.2692 - tn: 10916.8846 - fn: 128.7692 - accuracy: 0.8600 - precision: 0.3391 - recall: 0.8782 - auc: 0.9384 - val_loss: 0.3276 - val_tp: 411.0000 - val_fp: 925.0000 - val_tn: 5016.0000 - val_fn: 48.0000 - val_accuracy: 0.8480 - val_precision: 0.3076 - val_recall: 0.8954 - val_auc: 0.9304\n",
            "Epoch 73/150\n",
            "25/25 [==============================] - 0s 10ms/step - loss: 0.3309 - tp: 908.0385 - fp: 1861.4615 - tn: 10894.7308 - fn: 120.3846 - accuracy: 0.8581 - precision: 0.3330 - recall: 0.8809 - auc: 0.9346 - val_loss: 0.3236 - val_tp: 411.0000 - val_fp: 919.0000 - val_tn: 5022.0000 - val_fn: 48.0000 - val_accuracy: 0.8489 - val_precision: 0.3090 - val_recall: 0.8954 - val_auc: 0.9305\n",
            "Epoch 74/150\n",
            "25/25 [==============================] - 0s 11ms/step - loss: 0.3291 - tp: 910.4615 - fp: 1872.7692 - tn: 10881.6538 - fn: 119.7308 - accuracy: 0.8541 - precision: 0.3263 - recall: 0.8814 - auc: 0.9344 - val_loss: 0.3270 - val_tp: 411.0000 - val_fp: 932.0000 - val_tn: 5009.0000 - val_fn: 48.0000 - val_accuracy: 0.8469 - val_precision: 0.3060 - val_recall: 0.8954 - val_auc: 0.9305\n",
            "Epoch 75/150\n",
            "25/25 [==============================] - 0s 11ms/step - loss: 0.3290 - tp: 898.0000 - fp: 1892.3077 - tn: 10869.5769 - fn: 124.7308 - accuracy: 0.8544 - precision: 0.3240 - recall: 0.8775 - auc: 0.9332 - val_loss: 0.3257 - val_tp: 411.0000 - val_fp: 937.0000 - val_tn: 5004.0000 - val_fn: 48.0000 - val_accuracy: 0.8461 - val_precision: 0.3049 - val_recall: 0.8954 - val_auc: 0.9306\n",
            "Epoch 76/150\n",
            "25/25 [==============================] - 0s 11ms/step - loss: 0.3127 - tp: 891.9615 - fp: 1853.1538 - tn: 10926.1154 - fn: 113.3846 - accuracy: 0.8562 - precision: 0.3193 - recall: 0.8897 - auc: 0.9369 - val_loss: 0.3181 - val_tp: 409.0000 - val_fp: 907.0000 - val_tn: 5034.0000 - val_fn: 50.0000 - val_accuracy: 0.8505 - val_precision: 0.3108 - val_recall: 0.8911 - val_auc: 0.9311\n",
            "Epoch 77/150\n",
            "25/25 [==============================] - 0s 11ms/step - loss: 0.3239 - tp: 901.1923 - fp: 1854.0769 - tn: 10902.5769 - fn: 126.7692 - accuracy: 0.8594 - precision: 0.3345 - recall: 0.8721 - auc: 0.9367 - val_loss: 0.3230 - val_tp: 411.0000 - val_fp: 935.0000 - val_tn: 5006.0000 - val_fn: 48.0000 - val_accuracy: 0.8464 - val_precision: 0.3053 - val_recall: 0.8954 - val_auc: 0.9314\n",
            "Epoch 78/150\n",
            "25/25 [==============================] - 0s 11ms/step - loss: 0.3257 - tp: 920.6154 - fp: 1898.0769 - tn: 10855.8462 - fn: 110.0769 - accuracy: 0.8551 - precision: 0.3270 - recall: 0.8912 - auc: 0.9356 - val_loss: 0.3276 - val_tp: 414.0000 - val_fp: 939.0000 - val_tn: 5002.0000 - val_fn: 45.0000 - val_accuracy: 0.8462 - val_precision: 0.3060 - val_recall: 0.9020 - val_auc: 0.9314\n",
            "Epoch 79/150\n",
            "25/25 [==============================] - 0s 11ms/step - loss: 0.3304 - tp: 892.3462 - fp: 1917.9615 - tn: 10858.3077 - fn: 116.0000 - accuracy: 0.8521 - precision: 0.3156 - recall: 0.8849 - auc: 0.9328 - val_loss: 0.3261 - val_tp: 412.0000 - val_fp: 933.0000 - val_tn: 5008.0000 - val_fn: 47.0000 - val_accuracy: 0.8469 - val_precision: 0.3063 - val_recall: 0.8976 - val_auc: 0.9314\n",
            "Epoch 80/150\n",
            "25/25 [==============================] - 0s 10ms/step - loss: 0.3163 - tp: 928.8846 - fp: 1854.5385 - tn: 10892.6923 - fn: 108.5000 - accuracy: 0.8567 - precision: 0.3342 - recall: 0.8959 - auc: 0.9387 - val_loss: 0.3199 - val_tp: 410.0000 - val_fp: 918.0000 - val_tn: 5023.0000 - val_fn: 49.0000 - val_accuracy: 0.8489 - val_precision: 0.3087 - val_recall: 0.8932 - val_auc: 0.9316\n",
            "Epoch 81/150\n",
            "25/25 [==============================] - 0s 11ms/step - loss: 0.3406 - tp: 903.0769 - fp: 1873.8077 - tn: 10889.1923 - fn: 118.5385 - accuracy: 0.8548 - precision: 0.3247 - recall: 0.8828 - auc: 0.9304 - val_loss: 0.3257 - val_tp: 411.0000 - val_fp: 931.0000 - val_tn: 5010.0000 - val_fn: 48.0000 - val_accuracy: 0.8470 - val_precision: 0.3063 - val_recall: 0.8954 - val_auc: 0.9318\n",
            "Epoch 82/150\n",
            "25/25 [==============================] - 0s 10ms/step - loss: 0.3176 - tp: 886.7308 - fp: 1887.0769 - tn: 10903.0385 - fn: 107.7692 - accuracy: 0.8561 - precision: 0.3214 - recall: 0.8968 - auc: 0.9361 - val_loss: 0.3201 - val_tp: 410.0000 - val_fp: 919.0000 - val_tn: 5022.0000 - val_fn: 49.0000 - val_accuracy: 0.8487 - val_precision: 0.3085 - val_recall: 0.8932 - val_auc: 0.9317\n",
            "Epoch 83/150\n",
            "25/25 [==============================] - 0s 11ms/step - loss: 0.3093 - tp: 912.6923 - fp: 1913.7692 - tn: 10843.8846 - fn: 114.2692 - accuracy: 0.8527 - precision: 0.3216 - recall: 0.8927 - auc: 0.9396 - val_loss: 0.3285 - val_tp: 412.0000 - val_fp: 945.0000 - val_tn: 4996.0000 - val_fn: 47.0000 - val_accuracy: 0.8450 - val_precision: 0.3036 - val_recall: 0.8976 - val_auc: 0.9319\n",
            "Epoch 84/150\n",
            "25/25 [==============================] - 0s 11ms/step - loss: 0.3192 - tp: 890.0385 - fp: 1912.2692 - tn: 10874.5385 - fn: 107.7692 - accuracy: 0.8528 - precision: 0.3133 - recall: 0.8854 - auc: 0.9356 - val_loss: 0.3237 - val_tp: 410.0000 - val_fp: 934.0000 - val_tn: 5007.0000 - val_fn: 49.0000 - val_accuracy: 0.8464 - val_precision: 0.3051 - val_recall: 0.8932 - val_auc: 0.9320\n",
            "Epoch 85/150\n",
            "25/25 [==============================] - 0s 11ms/step - loss: 0.3140 - tp: 913.3462 - fp: 1857.3077 - tn: 10901.4615 - fn: 112.5000 - accuracy: 0.8568 - precision: 0.3268 - recall: 0.8919 - auc: 0.9384 - val_loss: 0.3276 - val_tp: 412.0000 - val_fp: 946.0000 - val_tn: 4995.0000 - val_fn: 47.0000 - val_accuracy: 0.8448 - val_precision: 0.3034 - val_recall: 0.8976 - val_auc: 0.9320\n",
            "Epoch 86/150\n",
            "25/25 [==============================] - 0s 11ms/step - loss: 0.3155 - tp: 894.6154 - fp: 1866.3462 - tn: 10916.6923 - fn: 106.9615 - accuracy: 0.8579 - precision: 0.3232 - recall: 0.8959 - auc: 0.9363 - val_loss: 0.3203 - val_tp: 411.0000 - val_fp: 927.0000 - val_tn: 5014.0000 - val_fn: 48.0000 - val_accuracy: 0.8477 - val_precision: 0.3072 - val_recall: 0.8954 - val_auc: 0.9321\n",
            "Epoch 87/150\n",
            "25/25 [==============================] - 0s 11ms/step - loss: 0.3041 - tp: 913.4231 - fp: 1860.5769 - tn: 10906.9615 - fn: 103.6538 - accuracy: 0.8611 - precision: 0.3345 - recall: 0.9028 - auc: 0.9423 - val_loss: 0.3256 - val_tp: 412.0000 - val_fp: 936.0000 - val_tn: 5005.0000 - val_fn: 47.0000 - val_accuracy: 0.8464 - val_precision: 0.3056 - val_recall: 0.8976 - val_auc: 0.9322\n",
            "Epoch 88/150\n",
            "25/25 [==============================] - 0s 11ms/step - loss: 0.3114 - tp: 925.5769 - fp: 1895.4615 - tn: 10865.0385 - fn: 98.5385 - accuracy: 0.8555 - precision: 0.3303 - recall: 0.9110 - auc: 0.9388 - val_loss: 0.3205 - val_tp: 411.0000 - val_fp: 932.0000 - val_tn: 5009.0000 - val_fn: 48.0000 - val_accuracy: 0.8469 - val_precision: 0.3060 - val_recall: 0.8954 - val_auc: 0.9323\n",
            "Epoch 89/150\n",
            "25/25 [==============================] - 0s 11ms/step - loss: 0.3107 - tp: 924.8846 - fp: 1885.5000 - tn: 10874.0000 - fn: 100.2308 - accuracy: 0.8566 - precision: 0.3301 - recall: 0.9023 - auc: 0.9398 - val_loss: 0.3233 - val_tp: 411.0000 - val_fp: 937.0000 - val_tn: 5004.0000 - val_fn: 48.0000 - val_accuracy: 0.8461 - val_precision: 0.3049 - val_recall: 0.8954 - val_auc: 0.9326\n",
            "Epoch 90/150\n",
            "25/25 [==============================] - 0s 11ms/step - loss: 0.3307 - tp: 935.0000 - fp: 1895.1538 - tn: 10849.6538 - fn: 104.8077 - accuracy: 0.8544 - precision: 0.3289 - recall: 0.8932 - auc: 0.9341 - val_loss: 0.3182 - val_tp: 410.0000 - val_fp: 925.0000 - val_tn: 5016.0000 - val_fn: 49.0000 - val_accuracy: 0.8478 - val_precision: 0.3071 - val_recall: 0.8932 - val_auc: 0.9324\n",
            "Epoch 91/150\n",
            "25/25 [==============================] - 0s 11ms/step - loss: 0.3107 - tp: 920.5000 - fp: 1864.2308 - tn: 10891.6923 - fn: 108.1923 - accuracy: 0.8567 - precision: 0.3301 - recall: 0.8961 - auc: 0.9389 - val_loss: 0.3130 - val_tp: 409.0000 - val_fp: 902.0000 - val_tn: 5039.0000 - val_fn: 50.0000 - val_accuracy: 0.8512 - val_precision: 0.3120 - val_recall: 0.8911 - val_auc: 0.9326\n",
            "Epoch 92/150\n",
            "25/25 [==============================] - 0s 12ms/step - loss: 0.3174 - tp: 911.7308 - fp: 1846.6923 - tn: 10910.5000 - fn: 115.6923 - accuracy: 0.8586 - precision: 0.3321 - recall: 0.8839 - auc: 0.9379 - val_loss: 0.3223 - val_tp: 413.0000 - val_fp: 932.0000 - val_tn: 5009.0000 - val_fn: 46.0000 - val_accuracy: 0.8472 - val_precision: 0.3071 - val_recall: 0.8998 - val_auc: 0.9329\n",
            "Epoch 93/150\n",
            "25/25 [==============================] - 0s 11ms/step - loss: 0.3105 - tp: 921.6538 - fp: 1926.4231 - tn: 10825.9231 - fn: 110.6154 - accuracy: 0.8535 - precision: 0.3269 - recall: 0.8938 - auc: 0.9389 - val_loss: 0.3181 - val_tp: 411.0000 - val_fp: 923.0000 - val_tn: 5018.0000 - val_fn: 48.0000 - val_accuracy: 0.8483 - val_precision: 0.3081 - val_recall: 0.8954 - val_auc: 0.9328\n",
            "Epoch 94/150\n",
            "25/25 [==============================] - 0s 11ms/step - loss: 0.3064 - tp: 938.5000 - fp: 1846.7308 - tn: 10902.6538 - fn: 96.7308 - accuracy: 0.8597 - precision: 0.3381 - recall: 0.9082 - auc: 0.9409 - val_loss: 0.3186 - val_tp: 410.0000 - val_fp: 919.0000 - val_tn: 5022.0000 - val_fn: 49.0000 - val_accuracy: 0.8487 - val_precision: 0.3085 - val_recall: 0.8932 - val_auc: 0.9331\n",
            "Epoch 95/150\n",
            "25/25 [==============================] - 0s 11ms/step - loss: 0.3217 - tp: 921.3846 - fp: 1902.0769 - tn: 10858.4615 - fn: 102.6923 - accuracy: 0.8533 - precision: 0.3218 - recall: 0.8969 - auc: 0.9355 - val_loss: 0.3227 - val_tp: 412.0000 - val_fp: 926.0000 - val_tn: 5015.0000 - val_fn: 47.0000 - val_accuracy: 0.8480 - val_precision: 0.3079 - val_recall: 0.8976 - val_auc: 0.9327\n",
            "Epoch 96/150\n",
            "25/25 [==============================] - 0s 11ms/step - loss: 0.3146 - tp: 915.8077 - fp: 1911.5000 - tn: 10851.4615 - fn: 105.8462 - accuracy: 0.8530 - precision: 0.3255 - recall: 0.8978 - auc: 0.9384 - val_loss: 0.3188 - val_tp: 413.0000 - val_fp: 925.0000 - val_tn: 5016.0000 - val_fn: 46.0000 - val_accuracy: 0.8483 - val_precision: 0.3087 - val_recall: 0.8998 - val_auc: 0.9329\n",
            "Epoch 97/150\n",
            "25/25 [==============================] - 0s 11ms/step - loss: 0.3142 - tp: 930.6538 - fp: 1902.3462 - tn: 10852.1923 - fn: 99.4231 - accuracy: 0.8541 - precision: 0.3289 - recall: 0.9044 - auc: 0.9374 - val_loss: 0.3214 - val_tp: 413.0000 - val_fp: 934.0000 - val_tn: 5007.0000 - val_fn: 46.0000 - val_accuracy: 0.8469 - val_precision: 0.3066 - val_recall: 0.8998 - val_auc: 0.9330\n",
            "Epoch 98/150\n",
            "25/25 [==============================] - 0s 11ms/step - loss: 0.3107 - tp: 916.0000 - fp: 1863.5769 - tn: 10901.3462 - fn: 103.6923 - accuracy: 0.8575 - precision: 0.3315 - recall: 0.8974 - auc: 0.9388 - val_loss: 0.3164 - val_tp: 410.0000 - val_fp: 919.0000 - val_tn: 5022.0000 - val_fn: 49.0000 - val_accuracy: 0.8487 - val_precision: 0.3085 - val_recall: 0.8932 - val_auc: 0.9331\n",
            "Epoch 99/150\n",
            "25/25 [==============================] - 0s 10ms/step - loss: 0.3106 - tp: 897.5769 - fp: 1867.4615 - tn: 10911.8846 - fn: 107.6923 - accuracy: 0.8546 - precision: 0.3168 - recall: 0.8883 - auc: 0.9372 - val_loss: 0.3221 - val_tp: 412.0000 - val_fp: 940.0000 - val_tn: 5001.0000 - val_fn: 47.0000 - val_accuracy: 0.8458 - val_precision: 0.3047 - val_recall: 0.8976 - val_auc: 0.9333\n",
            "Epoch 100/150\n",
            "25/25 [==============================] - 0s 11ms/step - loss: 0.3013 - tp: 914.0385 - fp: 1904.6154 - tn: 10869.0769 - fn: 96.8846 - accuracy: 0.8550 - precision: 0.3214 - recall: 0.9066 - auc: 0.9406 - val_loss: 0.3247 - val_tp: 415.0000 - val_fp: 944.0000 - val_tn: 4997.0000 - val_fn: 44.0000 - val_accuracy: 0.8456 - val_precision: 0.3054 - val_recall: 0.9041 - val_auc: 0.9332\n",
            "Epoch 101/150\n",
            "25/25 [==============================] - 0s 12ms/step - loss: 0.3214 - tp: 930.0000 - fp: 1941.1154 - tn: 10811.3846 - fn: 102.1154 - accuracy: 0.8512 - precision: 0.3228 - recall: 0.8966 - auc: 0.9358 - val_loss: 0.3199 - val_tp: 411.0000 - val_fp: 934.0000 - val_tn: 5007.0000 - val_fn: 48.0000 - val_accuracy: 0.8466 - val_precision: 0.3056 - val_recall: 0.8954 - val_auc: 0.9334\n",
            "Epoch 102/150\n",
            "25/25 [==============================] - 0s 11ms/step - loss: 0.3070 - tp: 918.9615 - fp: 1897.8846 - tn: 10870.6154 - fn: 97.1538 - accuracy: 0.8549 - precision: 0.3300 - recall: 0.8954 - auc: 0.9409 - val_loss: 0.3119 - val_tp: 410.0000 - val_fp: 934.0000 - val_tn: 5007.0000 - val_fn: 49.0000 - val_accuracy: 0.8464 - val_precision: 0.3051 - val_recall: 0.8932 - val_auc: 0.9330\n",
            "Epoch 103/150\n",
            "25/25 [==============================] - 0s 10ms/step - loss: 0.2962 - tp: 918.3462 - fp: 1898.5385 - tn: 10870.5000 - fn: 97.2308 - accuracy: 0.8568 - precision: 0.3291 - recall: 0.9079 - auc: 0.9433 - val_loss: 0.3171 - val_tp: 412.0000 - val_fp: 930.0000 - val_tn: 5011.0000 - val_fn: 47.0000 - val_accuracy: 0.8473 - val_precision: 0.3070 - val_recall: 0.8976 - val_auc: 0.9337\n",
            "Epoch 104/150\n",
            "25/25 [==============================] - 0s 11ms/step - loss: 0.2995 - tp: 924.3846 - fp: 1908.8077 - tn: 10860.0769 - fn: 91.3462 - accuracy: 0.8549 - precision: 0.3241 - recall: 0.9097 - auc: 0.9412 - val_loss: 0.3169 - val_tp: 415.0000 - val_fp: 933.0000 - val_tn: 5008.0000 - val_fn: 44.0000 - val_accuracy: 0.8473 - val_precision: 0.3079 - val_recall: 0.9041 - val_auc: 0.9335\n",
            "Epoch 105/150\n",
            "25/25 [==============================] - 0s 10ms/step - loss: 0.3066 - tp: 940.6923 - fp: 1902.0000 - tn: 10844.8462 - fn: 97.0769 - accuracy: 0.8555 - precision: 0.3308 - recall: 0.9055 - auc: 0.9410 - val_loss: 0.3207 - val_tp: 415.0000 - val_fp: 941.0000 - val_tn: 5000.0000 - val_fn: 44.0000 - val_accuracy: 0.8461 - val_precision: 0.3060 - val_recall: 0.9041 - val_auc: 0.9335\n",
            "Epoch 106/150\n",
            "25/25 [==============================] - 0s 11ms/step - loss: 0.2984 - tp: 925.9231 - fp: 1873.7692 - tn: 10901.8846 - fn: 83.0385 - accuracy: 0.8574 - precision: 0.3290 - recall: 0.9171 - auc: 0.9415 - val_loss: 0.3207 - val_tp: 416.0000 - val_fp: 935.0000 - val_tn: 5006.0000 - val_fn: 43.0000 - val_accuracy: 0.8472 - val_precision: 0.3079 - val_recall: 0.9063 - val_auc: 0.9336\n",
            "Epoch 107/150\n",
            "25/25 [==============================] - 0s 11ms/step - loss: 0.3098 - tp: 931.5000 - fp: 1936.1154 - tn: 10822.9231 - fn: 94.0769 - accuracy: 0.8512 - precision: 0.3217 - recall: 0.9106 - auc: 0.9382 - val_loss: 0.3220 - val_tp: 416.0000 - val_fp: 948.0000 - val_tn: 4993.0000 - val_fn: 43.0000 - val_accuracy: 0.8452 - val_precision: 0.3050 - val_recall: 0.9063 - val_auc: 0.9337\n",
            "Epoch 108/150\n",
            "25/25 [==============================] - 0s 11ms/step - loss: 0.3021 - tp: 942.8462 - fp: 1849.2308 - tn: 10897.2692 - fn: 95.2692 - accuracy: 0.8578 - precision: 0.3395 - recall: 0.9101 - auc: 0.9426 - val_loss: 0.3120 - val_tp: 414.0000 - val_fp: 910.0000 - val_tn: 5031.0000 - val_fn: 45.0000 - val_accuracy: 0.8508 - val_precision: 0.3127 - val_recall: 0.9020 - val_auc: 0.9337\n",
            "Epoch 109/150\n",
            "25/25 [==============================] - 0s 11ms/step - loss: 0.2895 - tp: 920.2692 - fp: 1813.9615 - tn: 10962.6538 - fn: 87.7308 - accuracy: 0.8637 - precision: 0.3340 - recall: 0.9145 - auc: 0.9441 - val_loss: 0.3169 - val_tp: 413.0000 - val_fp: 928.0000 - val_tn: 5013.0000 - val_fn: 46.0000 - val_accuracy: 0.8478 - val_precision: 0.3080 - val_recall: 0.8998 - val_auc: 0.9335\n",
            "Epoch 110/150\n",
            "25/25 [==============================] - 0s 11ms/step - loss: 0.3040 - tp: 929.6538 - fp: 1897.3077 - tn: 10863.4615 - fn: 94.1923 - accuracy: 0.8559 - precision: 0.3323 - recall: 0.9087 - auc: 0.9426 - val_loss: 0.3144 - val_tp: 413.0000 - val_fp: 929.0000 - val_tn: 5012.0000 - val_fn: 46.0000 - val_accuracy: 0.8477 - val_precision: 0.3077 - val_recall: 0.8998 - val_auc: 0.9336\n",
            "Epoch 111/150\n",
            "25/25 [==============================] - 0s 11ms/step - loss: 0.3035 - tp: 929.3462 - fp: 1858.6538 - tn: 10897.6923 - fn: 98.9231 - accuracy: 0.8577 - precision: 0.3290 - recall: 0.8995 - auc: 0.9396 - val_loss: 0.3185 - val_tp: 414.0000 - val_fp: 943.0000 - val_tn: 4998.0000 - val_fn: 45.0000 - val_accuracy: 0.8456 - val_precision: 0.3051 - val_recall: 0.9020 - val_auc: 0.9334\n",
            "Epoch 112/150\n",
            "25/25 [==============================] - 0s 11ms/step - loss: 0.3058 - tp: 927.8462 - fp: 1881.0769 - tn: 10881.7308 - fn: 93.9615 - accuracy: 0.8566 - precision: 0.3320 - recall: 0.9045 - auc: 0.9401 - val_loss: 0.3206 - val_tp: 412.0000 - val_fp: 938.0000 - val_tn: 5003.0000 - val_fn: 47.0000 - val_accuracy: 0.8461 - val_precision: 0.3052 - val_recall: 0.8976 - val_auc: 0.9337\n",
            "Epoch 113/150\n",
            "25/25 [==============================] - 0s 11ms/step - loss: 0.3110 - tp: 950.1538 - fp: 1909.4231 - tn: 10830.6923 - fn: 94.3462 - accuracy: 0.8523 - precision: 0.3305 - recall: 0.9067 - auc: 0.9382 - val_loss: 0.3159 - val_tp: 412.0000 - val_fp: 931.0000 - val_tn: 5010.0000 - val_fn: 47.0000 - val_accuracy: 0.8472 - val_precision: 0.3068 - val_recall: 0.8976 - val_auc: 0.9331\n",
            "Restoring model weights from the end of the best epoch.\n",
            "Epoch 00113: early stopping\n"
          ],
          "name": "stdout"
        }
      ]
    },
    {
      "cell_type": "code",
      "metadata": {
        "id": "OcnPNtRbZbj4"
      },
      "source": [
        "train_predictions_weighted = model.predict(X_train, batch_size=BATCH_SIZE)\n",
        "test_predictions_weighted = model.predict(X_test, batch_size=BATCH_SIZE)"
      ],
      "execution_count": 47,
      "outputs": []
    },
    {
      "cell_type": "code",
      "metadata": {
        "id": "EwXTWxKgZuDi"
      },
      "source": [
        "def plot_cm(labels, predictions, p=0.5): ## Plot Confusion Matrix\n",
        "  cm = confusion_matrix(labels, predictions > p)\n",
        "  plt.figure(figsize=(5,5))\n",
        "  sns.heatmap(cm, annot=True, fmt=\"d\")\n",
        "  plt.title('Confusion matrix @0.5 Threshold')\n",
        "  plt.ylabel('Actual label')\n",
        "  plt.xlabel('Predicted label')\n",
        "\n",
        "  print('True Negatives: ', cm[0][0])\n",
        "  print('False Positives: ', cm[0][1])\n",
        "  print('False Negatives: ', cm[1][0])\n",
        "  print('True Positives: ', cm[1][1])\n",
        "  print('Total Positives: ', np.sum(cm[1]))"
      ],
      "execution_count": 48,
      "outputs": []
    },
    {
      "cell_type": "code",
      "metadata": {
        "id": "zRtr46RXbMEE"
      },
      "source": [
        "def plot_roc(name, labels, predictions, **kwargs): ## Plot ROC curve\n",
        "  fp, tp, _ = sklearn.metrics.roc_curve(labels, predictions)\n",
        "\n",
        "  plt.plot(100*fp, 100*tp, label=name, linewidth=2, **kwargs)\n",
        "  plt.xlabel('False positives [%]')\n",
        "  plt.ylabel('True positives [%]')\n",
        "  plt.xlim([-0.5,20])\n",
        "  plt.ylim([0,100.5])\n",
        "  plt.grid(True)\n",
        "  ax = plt.gca()"
      ],
      "execution_count": 49,
      "outputs": []
    },
    {
      "cell_type": "code",
      "metadata": {
        "colab": {
          "base_uri": "https://localhost:8080/",
          "height": 605
        },
        "id": "SkZTzIcbZiwU",
        "outputId": "0c0f2842-5119-481e-c80f-f98cc1ea1519"
      },
      "source": [
        "results = model.evaluate(X_test, y_test,\n",
        "                                           batch_size=BATCH_SIZE, verbose=0)\n",
        "for name, value in zip(model.metrics_names, results):\n",
        "  print(name, ': ', value)\n",
        "print()\n",
        "\n",
        "plot_cm(y_test, test_predictions_weighted)"
      ],
      "execution_count": 50,
      "outputs": [
        {
          "output_type": "stream",
          "text": [
            "loss :  0.3050418794155121\n",
            "tp :  494.0\n",
            "fp :  1129.0\n",
            "tn :  6334.0\n",
            "fn :  43.0\n",
            "accuracy :  0.8535000085830688\n",
            "precision :  0.3043746054172516\n",
            "recall :  0.9199255108833313\n",
            "auc :  0.946738064289093\n",
            "\n",
            "True Negatives:  6334\n",
            "False Positives:  1129\n",
            "False Negatives:  43\n",
            "True Positives:  494\n",
            "Total Positives:  537\n"
          ],
          "name": "stdout"
        },
        {
          "output_type": "display_data",
          "data": {
            "image/png": "[encoded data removed]",
            "text/plain": [
              "<Figure size 360x360 with 2 Axes>"
            ]
          },
          "metadata": {
            "tags": [],
            "needs_background": "light"
          }
        }
      ]
    },
    {
      "cell_type": "markdown",
      "metadata": {
        "id": "JikaHGtGzagR"
      },
      "source": [
        "**Recall** is calculated as the ratio of the number of true positives divided by the sum of the true positives and the false negatives. Recall is the same as sensitivity.\n",
        "\n",
        "Recall = True Positives / (True Positives + False Negatives)\n",
        "\n",
        "A plot of the false positive rate (x-axis) versus the true positive rate (y-axis) for a range of candidate threshold values between 0.0 and 1.0 is known as a **ROC Curve**. It charts the false alarm rate against the hit rate, to put it another way. \n",
        "The ROC curve is useful for a variety of reasons: \n",
        "Different models' curves can be specifically compared in general or with different thresholds. \n",
        "The model's capability can be summed using the field under the curve in other words **AUC** (Area Under Curve)."
      ]
    },
    {
      "cell_type": "code",
      "metadata": {
        "colab": {
          "base_uri": "https://localhost:8080/",
          "height": 299
        },
        "id": "roNQtzXsapyU",
        "outputId": "2658c373-a531-4b46-884a-e2e61c530d77"
      },
      "source": [
        "colors = plt.rcParams['axes.prop_cycle'].by_key()['color']\n",
        "plot_roc(\"Train Weighted\", y_train, train_predictions_weighted, color=colors[0])\n",
        "plot_roc(\"Test Weighted\", y_test, test_predictions_weighted, color=colors[1], linestyle='--')\n",
        "\n",
        "\n",
        "plt.legend(loc='lower right')"
      ],
      "execution_count": 51,
      "outputs": [
        {
          "output_type": "execute_result",
          "data": {
            "text/plain": [
              "<matplotlib.legend.Legend at 0x7f45fb6ce350>"
            ]
          },
          "metadata": {
            "tags": []
          },
          "execution_count": 51
        },
        {
          "output_type": "display_data",
          "data": {
            "image/png": "[encoded data removed]",
            "text/plain": [
              "<Figure size 432x288 with 1 Axes>"
            ]
          },
          "metadata": {
            "tags": [],
            "needs_background": "light"
          }
        }
      ]
    },
    {
      "cell_type": "markdown",
      "metadata": {
        "id": "2hwYCg3SeEOt"
      },
      "source": [
        "# Comparison between \"Logistic Regression\" and \"Neural Net\"."
      ]
    },
    {
      "cell_type": "code",
      "metadata": {
        "colab": {
          "base_uri": "https://localhost:8080/"
        },
        "id": "8i67YOMDqV-1",
        "outputId": "7d241427-676f-4a88-cb9d-60471c5e2306"
      },
      "source": [
        "print(f'Recall of Logistic regression model is {true_pos_rate}%')\n",
        "print(f'Recall of Neural net model is {round(results[7] * 100 , 3)}%')"
      ],
      "execution_count": 52,
      "outputs": [
        {
          "output_type": "stream",
          "text": [
            "Recall of Logistic regression model is 87.34%\n",
            "Recall of Neural net model is 91.993%\n"
          ],
          "name": "stdout"
        }
      ]
    },
    {
      "cell_type": "markdown",
      "metadata": {
        "id": "c8spjC5nfmWA"
      },
      "source": [
        "Neural network gives better recall ratewhich allows us the find more appropriate customers "
      ]
    },
    {
      "cell_type": "markdown",
      "metadata": {
        "id": "z0gRtLuYnlp5"
      },
      "source": [
        "# References"
      ]
    },
    {
      "cell_type": "markdown",
      "metadata": {
        "id": "wjY0Hvx7rKpX"
      },
      "source": [
        "\n",
        "https://www.tensorflow.org/tutorials/structured_data/imbalanced_data"
      ]
    },
    {
      "cell_type": "markdown",
      "metadata": {
        "id": "JtBTbxYcjBYn"
      },
      "source": [
        "# Bonus Questions\n",
        "\n",
        "Which features are the most important?"
      ]
    },
    {
      "cell_type": "code",
      "metadata": {
        "id": "J3R4Jxkrddfj"
      },
      "source": [
        "importance = list(log_reg_weighted.coef_[0]) ## Coefficient of features\n",
        "features =  list(all_data.columns.values) ## Feature names"
      ],
      "execution_count": 53,
      "outputs": []
    },
    {
      "cell_type": "code",
      "metadata": {
        "colab": {
          "base_uri": "https://localhost:8080/",
          "height": 266
        },
        "id": "5EGv_nMSjLjk",
        "outputId": "135effd7-28d1-446b-8cb5-2b8af7e46ed7"
      },
      "source": [
        "feature_score = []\n",
        "for i in range(len(importance)) :\n",
        "  feature_score.append([importance[i], features[i]])\n",
        "plt.bar([x for x in range(len(importance))], importance) ## Pie bar of the features.\n",
        "plt.show()"
      ],
      "execution_count": 54,
      "outputs": [
        {
          "output_type": "display_data",
          "data": {
            "image/png": "[encoded data removed]",
            "text/plain": [
              "<Figure size 432x288 with 1 Axes>"
            ]
          },
          "metadata": {
            "tags": [],
            "needs_background": "light"
          }
        }
      ]
    },
    {
      "cell_type": "code",
      "metadata": {
        "id": "qTSIyNGNjST4"
      },
      "source": [
        "feature_score = sorted(feature_score, key=lambda x: abs(x[0]), reverse=True)"
      ],
      "execution_count": 55,
      "outputs": []
    },
    {
      "cell_type": "code",
      "metadata": {
        "colab": {
          "base_uri": "https://localhost:8080/"
        },
        "id": "P_JJA6Otjb_8",
        "outputId": "6cb6fea7-b24a-40b5-c312-c683a16db864"
      },
      "source": [
        "print(\"Most important 10 feature is: \")\n",
        "for x in range(1,11) :\n",
        "  print(f'{x}. {feature_score[x-1][1]} with score {round(feature_score[x-1][0],2)}')"
      ],
      "execution_count": 56,
      "outputs": [
        {
          "output_type": "stream",
          "text": [
            "Most important 10 feature is: \n",
            "1. duration with score 1.92\n",
            "2. contact_unknown with score -0.55\n",
            "3. month_jan with score -0.51\n",
            "4. contact_cellular with score 0.44\n",
            "5. month_jun with score 0.43\n",
            "6. housing with score -0.41\n",
            "7. month_aug with score -0.39\n",
            "8. month_jul with score -0.36\n",
            "9. month_apr with score 0.29\n",
            "10. month_feb with score 0.28\n"
          ],
          "name": "stdout"
        }
      ]
    },
    {
      "cell_type": "code",
      "metadata": {
        "colab": {
          "base_uri": "https://localhost:8080/"
        },
        "id": "d9-f5Q9gs0I1",
        "outputId": "ae87c60b-513a-4438-f594-63f673c44448"
      },
      "source": [
        "print(\"Importance ranking of all features:\")\n",
        "for x in range(1,42) :\n",
        "  print(f'{x}. {feature_score[x-1][1]} with score {round(feature_score[x-1][0],2)}')"
      ],
      "execution_count": 57,
      "outputs": [
        {
          "output_type": "stream",
          "text": [
            "Importance ranking of all features:\n",
            "1. duration with score 1.92\n",
            "2. contact_unknown with score -0.55\n",
            "3. month_jan with score -0.51\n",
            "4. contact_cellular with score 0.44\n",
            "5. month_jun with score 0.43\n",
            "6. housing with score -0.41\n",
            "7. month_aug with score -0.39\n",
            "8. month_jul with score -0.36\n",
            "9. month_apr with score 0.29\n",
            "10. month_feb with score 0.28\n",
            "11. month_mar with score 0.27\n",
            "12. month_oct with score 0.24\n",
            "13. day with score 0.23\n",
            "14. loan with score -0.18\n",
            "15. month_may with score 0.18\n",
            "16. contact_telephone with score 0.18\n",
            "17. month_nov with score -0.15\n",
            "18. campaign with score -0.13\n",
            "19. education_tertiary with score 0.1\n",
            "20. month_dec with score -0.1\n",
            "21. job_retired with score 0.09\n",
            "22. job_housemaid with score -0.09\n",
            "23. job_admin with score 0.08\n",
            "24. job_services with score -0.08\n",
            "25. job_technician with score 0.07\n",
            "26. age with score -0.07\n",
            "27. job_student with score 0.06\n",
            "28. marital_married with score -0.06\n",
            "29. job_blue-collar with score -0.06\n",
            "30. education_primary with score -0.06\n",
            "31. marital_divorced with score 0.04\n",
            "32. default with score 0.04\n",
            "33. job_entrepreneur with score -0.04\n",
            "34. balance with score 0.04\n",
            "35. marital_single with score 0.04\n",
            "36. education_secondary with score -0.04\n",
            "37. education_unknown with score -0.03\n",
            "38. job_self-employed with score -0.01\n",
            "39. job_unknown with score 0.01\n",
            "40. job_unemployed with score -0.01\n",
            "41. job_management with score -0.0\n"
          ],
          "name": "stdout"
        }
      ]
    },
    {
      "cell_type": "markdown",
      "metadata": {
        "id": "qONO3vHNvJan"
      },
      "source": [
        "Positive values are features that increase customer subscription probability, while negative values are the opposite."
      ]
    },
    {
      "cell_type": "markdown",
      "metadata": {
        "id": "qh-GlQE54Xa2"
      },
      "source": [
        "# What makes customers buy"
      ]
    },
    {
      "cell_type": "markdown",
      "metadata": {
        "id": "tP0EuKgAswwF"
      },
      "source": [
        "**1- Duration :** The longer the salesman can keep the customer on the line, the higher the chances that he or she will subscribe to the term deposit. This is an expected situation. If the customer is already interested in the term deposit, he/she will ask more questions about it. The company can hire more salesman to take care of customers better."
      ]
    },
    {
      "cell_type": "markdown",
      "metadata": {
        "id": "McngfG-JsmYD"
      },
      "source": [
        "**2-Contact type:** If the employee reaches out to potential customers via cellular phone, subscription to term deposit is more likely compared to other methods. There is also a positive impact of telephone contact but is not as high as cellular contact."
      ]
    },
    {
      "cell_type": "markdown",
      "metadata": {
        "id": "FWh3fkvBsmjV"
      },
      "source": [
        "**3-Contact Month:** Reaching the potential customer in the appropriate month also stands out as a factor that helps the subscription process. Especially in the spring (March, April, May) and June months, while the customers reached are getting closer to subscribing, we see this situation reversing in January, August and July."
      ]
    },
    {
      "cell_type": "markdown",
      "metadata": {
        "id": "3qQt0poy4Twy"
      },
      "source": [
        "# Target Customer Group"
      ]
    },
    {
      "cell_type": "markdown",
      "metadata": {
        "id": "UuCQZ_cZ4ff6"
      },
      "source": [
        "1- No housing or personal loan\n",
        "\n",
        "2- Tertiary education\n",
        "3- Aim to retired, admin and technician workers\n",
        "\n",
        "4- Target the younger people and younger segment in retired segment (Just retired maybe). \n",
        "\n",
        "5- Divorced or single people.\n",
        "\n",
        "**All these inferences are interpreted in the order of importance scheme given above.**"
      ]
    }
  ]
}